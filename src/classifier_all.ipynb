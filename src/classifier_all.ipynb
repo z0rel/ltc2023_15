{
 "cells": [
  {
   "cell_type": "code",
   "execution_count": 1,
   "metadata": {
    "collapsed": true,
    "pycharm": {
     "name": "#%%\n"
    }
   },
   "outputs": [
    {
     "name": "stdout",
     "output_type": "stream",
     "text": [
      "C:\\devs\\ts\\LTC2023_15\\exgauster\n"
     ]
    }
   ],
   "source": [
    "import pandas as pd\n",
    "import os\n",
    "import pyarrow\n",
    "import openpyxl\n",
    "import pickle\n",
    "from dataclasses import dataclass\n",
    "import os\n",
    "\n",
    "print(os.getcwd())\n"
   ]
  },
  {
   "cell_type": "code",
   "execution_count": 2,
   "outputs": [],
   "source": [
    "if 0:\n",
    "    from exgauster.utils import load_resampled_data\n",
    "\n",
    "    exgausters_data = load_resampled_data()\n",
    "\n",
    "    with open('prepared_data.pkl', 'wb') as f:\n",
    "        pickle.dump(exgausters_data, f, fix_imports=True, buffer_callback=None)\n"
   ],
   "metadata": {
    "collapsed": false,
    "pycharm": {
     "name": "#%%\n"
    }
   }
  },
  {
   "cell_type": "code",
   "execution_count": 3,
   "outputs": [
    {
     "name": "stderr",
     "output_type": "stream",
     "text": [
      "C:\\tools\\miniconda3\\envs\\stal\\lib\\site-packages\\scipy\\__init__.py:146: UserWarning: A NumPy version >=1.16.5 and <1.23.0 is required for this version of SciPy (detected version 1.24.3\n",
      "  warnings.warn(f\"A NumPy version >={np_minversion} and <{np_maxversion}\"\n"
     ]
    }
   ],
   "source": [
    "with open('prepared_data.pkl', \"rb\") as f:\n",
    "    exgausters_data = pickle.load(f)\n"
   ],
   "metadata": {
    "collapsed": false,
    "pycharm": {
     "name": "#%%\n"
    }
   }
  },
  {
   "cell_type": "code",
   "execution_count": 4,
   "outputs": [],
   "source": [
    "import lgbm_forecaster_custom\n",
    "from importlib import reload\n",
    "\n",
    "import matplotlib.pyplot as plt\n",
    "\n",
    "from typing import Optional\n",
    "import exgauster.trained_booster\n",
    "\n",
    "reload(exgauster.utils)\n",
    "reload(lgbm_forecaster_custom)\n",
    "reload(exgauster.trained_booster)\n",
    "\n",
    "\n",
    "m3_hyperparametres = dict(\n",
    "    n_estimators=5000,  # default 100 - число обрезанных деревьев, alias = num_iterations\n",
    "    # max_depth=1000,\n",
    "    num_leaves=255,\n",
    "    # learning_rate=0.04,\n",
    "    learning_rate=0.2,\n",
    "    # boosting='dart', # ?? gbdt быстрее существенно\n",
    "    min_data_in_leaf=1,\n",
    "    lambda_l1=0.01,\n",
    "    lambda_l2=0.05,\n",
    "    min_sum_hessian_in_leaf=20,  # feature_fraction=0.8,\n",
    "    # min_sum_hessian_in_leaf=100,  # feature_fraction=0.8,\n",
    "    # ndcg_eval_at=[1, 3, 5, 10],\n",
    ")\n",
    "\n",
    "\n",
    "# Гиперпараметры для случаев \"2 пика на всю обучающую выборку\"\n",
    "m1_peak_hyperparams = dict(\n",
    "    n_estimators=10000,  # default 100 - число обрезанных деревьев, alias = num_iterations\n",
    "    # max_depth=1000,\n",
    "    num_leaves=255,\n",
    "    # learning_rate=0.04,\n",
    "    learning_rate=0.2,\n",
    "    # boosting='dart', # ?? gbdt быстрее существенно\n",
    "    min_data_in_leaf=1,\n",
    "    min_sum_hessian_in_leaf=1,  # feature_fraction=0.8,\n",
    "    # ndcg_eval_at=[1, 3, 5, 10],\n",
    ")\n",
    "\n",
    "@dataclass\n",
    "class TrainExgausterConfig:\n",
    "    hyperparametres: dict\n",
    "    window_size: int\n",
    "    booster: Optional[exgauster.trained_booster.TrainedBooster]\n",
    "    booster_scoring: Optional[exgauster.trained_booster.TrainedBooster]\n",
    "\n",
    "\n",
    "exgauster_map = {\n",
    "    exgauster_num: {\n",
    "        'm1': {\n",
    "            feature_num: TrainExgausterConfig(\n",
    "                hyperparametres=m1_peak_hyperparams,\n",
    "                window_size=40,\n",
    "                booster=None,\n",
    "                booster_scoring=None\n",
    "            )\n",
    "            for feature_num in range(len(exgausters_data[exgauster_num].y.m1))\n",
    "        },\n",
    "        'm3': {\n",
    "            feature_num: TrainExgausterConfig(\n",
    "                hyperparametres=m3_hyperparametres,\n",
    "                window_size=300,\n",
    "                booster=None,\n",
    "                booster_scoring=None\n",
    "            )\n",
    "            for feature_num in range(len(exgausters_data[exgauster_num].y.m3))\n",
    "        }\n",
    "    }\n",
    "    for exgauster_num in [4, 5, 6, 7, 8, 9]\n",
    "}\n",
    "# exgauster_map[4]['m1'][0] = TrainExgausterConfig(hyperparametres=m1_peak_hyperparams, window_size=75, booster=None)\n",
    "\n",
    "# booster = train_booster(exgauster_num=4, feature_num=0, is_m1=True)\n",
    "\n",
    "# with open('trained_boosters_with_test_score.pkl', 'rb') as f:\n",
    "#     exgauster_map = pickle.load(f)\n",
    "\n",
    "\n",
    "\n",
    "\n"
   ],
   "metadata": {
    "collapsed": false,
    "pycharm": {
     "name": "#%%\n"
    }
   }
  },
  {
   "cell_type": "code",
   "execution_count": 5,
   "outputs": [
    {
     "name": "stdout",
     "output_type": "stream",
     "text": [
      "23\n"
     ]
    }
   ],
   "source": [
    "print(len(exgausters_data[4].y.m3))"
   ],
   "metadata": {
    "collapsed": false,
    "pycharm": {
     "name": "#%%\n"
    }
   }
  },
  {
   "cell_type": "code",
   "execution_count": null,
   "outputs": [
    {
     "name": "stdout",
     "output_type": "stream",
     "text": [
      "Finale training exgauster 8 m1 6...\n",
      "All of Y_ЭКСГАУСТЕР А/М №8_ЭЛ/ДВИГАТЕЛЬ ГАЗ. ЗАДВИЖКИ ЭКСГ. №8 M1 is 0, skipping learn\n",
      "Finale training exgauster 8 m3 6...\n",
      "Training LGBMForecasterCustom...\n"
     ]
    },
    {
     "name": "stderr",
     "output_type": "stream",
     "text": [
      "Inferred granularity <5 * Minutes>\n"
     ]
    },
    {
     "name": "stdout",
     "output_type": "stream",
     "text": [
      "train time: 3.3058287616666346 min\n",
      "all booster dataset is train dataset, nothing to plotting\n",
      "Finale training exgauster 8 m1 7...\n",
      "All of Y_ЭКСГАУСТЕР А/М №8_МАСЛООХЛАДИТЕЛЬ  М-05-1 ЭКСГ. №8 M1 is 0, skipping learn\n",
      "Finale training exgauster 8 m3 7...\n",
      "Training LGBMForecasterCustom...\n"
     ]
    },
    {
     "name": "stderr",
     "output_type": "stream",
     "text": [
      "Inferred granularity <5 * Minutes>\n"
     ]
    },
    {
     "name": "stdout",
     "output_type": "stream",
     "text": [
      "train time: 3.570420015000127 min\n",
      "all booster dataset is train dataset, nothing to plotting\n",
      "Finale training exgauster 8 m1 8...\n",
      "Training LGBMForecasterCustom...\n"
     ]
    },
    {
     "name": "stderr",
     "output_type": "stream",
     "text": [
      "Inferred granularity <5 * Minutes>\n"
     ]
    },
    {
     "name": "stdout",
     "output_type": "stream",
     "text": [
      "train time: 1.5713700249999722 min\n",
      "all booster dataset is train dataset, nothing to plotting\n",
      "Finale training exgauster 8 m3 8...\n",
      "All of Y_ЭКСГАУСТЕР А/М №8_ТИРИСТОРНЫЙ ВОЗБУДИТЕЛЬ СПВД-М10-400-5 M3 is 0, skipping learn\n",
      "Finale training exgauster 8 m1 9...\n",
      "All of Y_ЭКСГАУСТЕР А/М №8_КЛ2 ТР№8 ДО ЭД ЭКСГАУСТЕРА №8 M1 is 0, skipping learn\n",
      "Finale training exgauster 8 m3 9...\n",
      "All of Y_ЭКСГАУСТЕР А/М №8_КЛ2 ТР№8 ДО ЭД ЭКСГАУСТЕРА №8 M3 is 0, skipping learn\n",
      "Finale training exgauster 8 m1 10...\n",
      "All of Y_ЭКСГАУСТЕР А/М №8_КЛ1 ТР№8 ДО ЭД ЭКСГАУСТЕРА №8 M1 is 0, skipping learn\n",
      "Finale training exgauster 8 m3 10...\n",
      "Training LGBMForecasterCustom...\n"
     ]
    },
    {
     "name": "stderr",
     "output_type": "stream",
     "text": [
      "Inferred granularity <5 * Minutes>\n"
     ]
    },
    {
     "name": "stdout",
     "output_type": "stream",
     "text": [
      "train time: 4.155463521666631 min\n",
      "all booster dataset is train dataset, nothing to plotting\n",
      "Finale training exgauster 8 m1 11...\n",
      "All of Y_ЭКСГАУСТЕР А/М №8_ТСМТ-101-010-50М-400 ТЕРМОПР.ПОДШ.Т.2 M1 is 0, skipping learn\n",
      "Finale training exgauster 8 m3 11...\n",
      "Training LGBMForecasterCustom...\n"
     ]
    },
    {
     "name": "stderr",
     "output_type": "stream",
     "text": [
      "Inferred granularity <5 * Minutes>\n"
     ]
    },
    {
     "name": "stdout",
     "output_type": "stream",
     "text": [
      "train time: 4.197499186666634 min\n",
      "all booster dataset is train dataset, nothing to plotting\n",
      "Finale training exgauster 8 m1 12...\n",
      "All of Y_ЭКСГАУСТЕР А/М №8_КОЖУХ МУФТЫ ЭКСГ. №8 M1 is 0, skipping learn\n",
      "Finale training exgauster 8 m3 12...\n",
      "Training LGBMForecasterCustom...\n"
     ]
    },
    {
     "name": "stderr",
     "output_type": "stream",
     "text": [
      "Inferred granularity <5 * Minutes>\n"
     ]
    },
    {
     "name": "stdout",
     "output_type": "stream",
     "text": [
      "train time: 4.903392098333522 min\n",
      "all booster dataset is train dataset, nothing to plotting\n",
      "Finale training exgauster 8 m1 13...\n",
      "All of Y_ЭКСГАУСТЕР А/М №8_ГСМ ЭКСГ. №8 M1 is 0, skipping learn\n",
      "Finale training exgauster 8 m3 13...\n",
      "Training LGBMForecasterCustom...\n"
     ]
    },
    {
     "name": "stderr",
     "output_type": "stream",
     "text": [
      "Inferred granularity <5 * Minutes>\n"
     ]
    },
    {
     "name": "stdout",
     "output_type": "stream",
     "text": [
      "train time: 5.787452965000072 min\n",
      "all booster dataset is train dataset, nothing to plotting\n",
      "Finale training exgauster 8 m1 14...\n",
      "All of Y_ЭКСГАУСТЕР А/М №8_ПОДШИПНИК ОПОРНЫЙ №2 M1 is 0, skipping learn\n",
      "Finale training exgauster 8 m3 14...\n",
      "Training LGBMForecasterCustom...\n"
     ]
    },
    {
     "name": "stderr",
     "output_type": "stream",
     "text": [
      "Inferred granularity <5 * Minutes>\n"
     ]
    },
    {
     "name": "stdout",
     "output_type": "stream",
     "text": [
      "train time: 4.211075258333342 min\n",
      "all booster dataset is train dataset, nothing to plotting\n",
      "Finale training exgauster 8 m1 15...\n",
      "Training LGBMForecasterCustom...\n"
     ]
    },
    {
     "name": "stderr",
     "output_type": "stream",
     "text": [
      "Inferred granularity <5 * Minutes>\n"
     ]
    },
    {
     "name": "stdout",
     "output_type": "stream",
     "text": [
      "train time: 1.4158996466668516 min\n",
      "all booster dataset is train dataset, nothing to plotting\n",
      "Finale training exgauster 8 m3 15...\n",
      "All of Y_ЭКСГАУСТЕР А/М №8_ЭКСГАУСТЕР А/М №8 M3 is 0, skipping learn\n",
      "Finale training exgauster 8 m1 16...\n",
      "All of Y_ЭКСГАУСТЕР А/М №8_ЗАПОРНАЯ АРМАТУРА ЭКСГАУСТЕРА №8 M1 is 0, skipping learn\n",
      "Finale training exgauster 8 m3 16...\n",
      "Training LGBMForecasterCustom...\n"
     ]
    },
    {
     "name": "stderr",
     "output_type": "stream",
     "text": [
      "Inferred granularity <5 * Minutes>\n"
     ]
    },
    {
     "name": "stdout",
     "output_type": "stream",
     "text": [
      "train time: 3.5419749416665582 min\n",
      "all booster dataset is train dataset, nothing to plotting\n",
      "Finale training exgauster 8 m1 17...\n",
      "All of Y_ЭКСГАУСТЕР А/М №8_ТСМТ-101-010-50М-200 ТЕРМОПР.ПОДШ.Т.4 M1 is 0, skipping learn\n",
      "Finale training exgauster 8 m3 17...\n",
      "Training LGBMForecasterCustom...\n"
     ]
    },
    {
     "name": "stderr",
     "output_type": "stream",
     "text": [
      "Inferred granularity <5 * Minutes>\n"
     ]
    },
    {
     "name": "stdout",
     "output_type": "stream",
     "text": [
      "train time: 3.3839321800000715 min\n",
      "all booster dataset is train dataset, nothing to plotting\n",
      "Finale training exgauster 8 m1 18...\n",
      "All of Y_ЭКСГАУСТЕР А/М №8_МАСЛЯНЫЙ ФИЛЬТР ЭКСГАУСТЕРА №8 M1 is 0, skipping learn\n",
      "Finale training exgauster 8 m3 18...\n",
      "Training LGBMForecasterCustom...\n"
     ]
    },
    {
     "name": "stderr",
     "output_type": "stream",
     "text": [
      "Inferred granularity <5 * Minutes>\n"
     ]
    },
    {
     "name": "stdout",
     "output_type": "stream",
     "text": [
      "train time: 3.988351334999849 min\n",
      "all booster dataset is train dataset, nothing to plotting\n",
      "Finale training exgauster 8 m1 19...\n",
      "Training LGBMForecasterCustom...\n"
     ]
    },
    {
     "name": "stderr",
     "output_type": "stream",
     "text": [
      "Inferred granularity <5 * Minutes>\n"
     ]
    },
    {
     "name": "stdout",
     "output_type": "stream",
     "text": [
      "train time: 1.9708643933331282 min\n",
      "all booster dataset is train dataset, nothing to plotting\n",
      "Finale training exgauster 8 m3 19...\n",
      "All of Y_ЭКСГАУСТЕР А/М №8_ТИРИСТОРНЫЙ ВОЗБУДИТЕЛЬ ТВ-400 ЭКСГ8 ВУ1 M3 is 0, skipping learn\n",
      "Finale training exgauster 8 m1 20...\n",
      "All of Y_ЭКСГАУСТЕР А/М №8_ПОДШИПНИК ОПОРНЫЙ №1 M1 is 0, skipping learn\n",
      "Finale training exgauster 8 m3 20...\n",
      "Training LGBMForecasterCustom...\n"
     ]
    },
    {
     "name": "stderr",
     "output_type": "stream",
     "text": [
      "Inferred granularity <5 * Minutes>\n"
     ]
    },
    {
     "name": "stdout",
     "output_type": "stream",
     "text": [
      "train time: 4.235352398333392 min\n",
      "all booster dataset is train dataset, nothing to plotting\n",
      "Finale training exgauster 8 m1 21...\n",
      "Training LGBMForecasterCustom...\n"
     ]
    },
    {
     "name": "stderr",
     "output_type": "stream",
     "text": [
      "Inferred granularity <5 * Minutes>\n"
     ]
    },
    {
     "name": "stdout",
     "output_type": "stream",
     "text": [
      "train time: 2.026116386666642 min\n",
      "all booster dataset is train dataset, nothing to plotting\n",
      "Finale training exgauster 8 m3 21...\n",
      "Training LGBMForecasterCustom...\n"
     ]
    },
    {
     "name": "stderr",
     "output_type": "stream",
     "text": [
      "Inferred granularity <5 * Minutes>\n"
     ]
    },
    {
     "name": "stdout",
     "output_type": "stream",
     "text": [
      "train time: 4.029464226666702 min\n",
      "all booster dataset is train dataset, nothing to plotting\n",
      "Finale training exgauster 8 m1 22...\n",
      "All of Y_ЭКСГАУСТЕР А/М №8_ПОДШИПНИК ОПОРНЫЙ ЭКСГ. №8 M1 is 0, skipping learn\n",
      "Finale training exgauster 8 m3 22...\n",
      "Training LGBMForecasterCustom...\n"
     ]
    },
    {
     "name": "stderr",
     "output_type": "stream",
     "text": [
      "Inferred granularity <5 * Minutes>\n"
     ]
    },
    {
     "name": "stdout",
     "output_type": "stream",
     "text": [
      "train time: 4.332822483333439 min\n",
      "all booster dataset is train dataset, nothing to plotting\n",
      "Finale training exgauster 8 m1 23...\n",
      "All of Y_ЭКСГАУСТЕР А/М №8_ЗАДВИЖКА ЭКСГ. №8 M1 is 0, skipping learn\n",
      "Finale training exgauster 8 m3 23...\n",
      "Training LGBMForecasterCustom...\n"
     ]
    },
    {
     "name": "stderr",
     "output_type": "stream",
     "text": [
      "Inferred granularity <5 * Minutes>\n"
     ]
    }
   ],
   "source": [
    "\n",
    "def train_booster(exgauster_num: int, feature_num: int, is_m1: bool, train_test_split_factor: Optional[float] = 0.8):\n",
    "    cfg: TrainExgausterConfig = exgauster_map[exgauster_num]['m1' if is_m1 else 'm3'][feature_num]\n",
    "\n",
    "    return exgauster.trained_booster.train_booster(\n",
    "        exgausters_data[exgauster_num].train,\n",
    "        is_m1=is_m1,\n",
    "        target_labels=exgausters_data[exgauster_num].y.m1[feature_num] if is_m1 else exgausters_data[exgauster_num].y.m3[feature_num],\n",
    "        train_test_split_factor=train_test_split_factor,\n",
    "        hyperparams=cfg.hyperparametres,\n",
    "        window_size=cfg.window_size,\n",
    "    )\n",
    "\n",
    "\n",
    "for exgauster_num in [8, 9]:\n",
    "    for feature_num in range(len(exgausters_data[exgauster_num].y.m1)):\n",
    "        if exgauster_num == 8 and feature_num < 6:\n",
    "            continue\n",
    "        for (m, is_m1) in [('m1', True), ('m3', False)]:\n",
    "            cfg: TrainExgausterConfig = exgauster_map[exgauster_num][m][feature_num]\n",
    "            if cfg.booster is not None:\n",
    "                continue\n",
    "\n",
    "            print(f'Finale training exgauster {exgauster_num} {m} {feature_num}...')\n",
    "            cfg.booster = train_booster(\n",
    "                exgauster_num=exgauster_num,\n",
    "                feature_num=feature_num,\n",
    "                is_m1=is_m1,\n",
    "                train_test_split_factor=None\n",
    "            )\n",
    "            exgauster.trained_booster.plot_train_results(\n",
    "                cfg.booster,\n",
    "                exgauster_num=f'final {exgauster_num}',\n",
    "                feature_num=feature_num,\n",
    "                save_to_file=True\n",
    "            )\n",
    "            with open('final_trained_boosters_with_test_score8-9.pkl', 'wb') as f:\n",
    "                pickle.dump(exgauster_map, f, fix_imports=True, buffer_callback=None)\n",
    "\n",
    "\n",
    "for exgauster_num in []:\n",
    "    for feature_num in range(len(exgausters_data[exgauster_num].y.m1)):\n",
    "        for (m, is_m1) in [('m1', True), ('m3', False)]:\n",
    "            cfg: TrainExgausterConfig = exgauster_map[exgauster_num][m][feature_num]\n",
    "            if cfg.booster_scoring is not None:\n",
    "                continue\n",
    "\n",
    "            print(f'training exgauster {exgauster_num} {m} {feature_num}...')\n",
    "            cfg.booster_scoring = train_booster(\n",
    "                exgauster_num=exgauster_num,\n",
    "                feature_num=feature_num,\n",
    "                is_m1=is_m1,\n",
    "                train_test_split_factor=0.8\n",
    "            )\n",
    "            exgauster.trained_booster.plot_train_results(\n",
    "                cfg.booster_scoring,\n",
    "                exgauster_num=exgauster_num,\n",
    "                feature_num=feature_num,\n",
    "                save_to_file=True\n",
    "            )\n",
    "            with open('trained_boosters_with_test_score.pkl', 'wb') as f:\n",
    "                pickle.dump(exgauster_map, f, fix_imports=True, buffer_callback=None)"
   ],
   "metadata": {
    "collapsed": false,
    "pycharm": {
     "name": "#%%\n",
     "is_executing": true
    }
   }
  },
  {
   "cell_type": "code",
   "execution_count": null,
   "outputs": [],
   "source": [],
   "metadata": {
    "collapsed": false,
    "pycharm": {
     "name": "#%%\n",
     "is_executing": true
    }
   }
  }
 ],
 "metadata": {
  "kernelspec": {
   "display_name": "Python 3",
   "language": "python",
   "name": "python3"
  },
  "language_info": {
   "codemirror_mode": {
    "name": "ipython",
    "version": 2
   },
   "file_extension": ".py",
   "mimetype": "text/x-python",
   "name": "python",
   "nbconvert_exporter": "python",
   "pygments_lexer": "ipython2",
   "version": "2.7.6"
  }
 },
 "nbformat": 4,
 "nbformat_minor": 0
}