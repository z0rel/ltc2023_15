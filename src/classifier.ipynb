{
 "cells": [
  {
   "cell_type": "code",
   "execution_count": 1,
   "metadata": {
    "collapsed": true,
    "pycharm": {
     "name": "#%%\n"
    }
   },
   "outputs": [],
   "source": [
    "import pandas as pd\n",
    "import os\n",
    "import pyarrow\n",
    "import openpyxl\n"
   ]
  },
  {
   "cell_type": "code",
   "execution_count": null,
   "outputs": [],
   "source": [
    "x_train = pd.read_parquet(os.path.join('..', 'Датасеты', 'X_train.parquet'), engine='pyarrow')\n",
    "y_train = pd.read_parquet(os.path.join('..', 'Датасеты', 'y_train.parquet'), engine='pyarrow')"
   ],
   "metadata": {
    "collapsed": false,
    "pycharm": {
     "name": "#%%\n"
    }
   }
  },
  {
   "cell_type": "code",
   "execution_count": null,
   "outputs": [],
   "source": [
    "\n",
    "from exgauster.utils import resample_dataset as resample_dataset, fillna_dataset_ffill as fillna_dataset\n"
   ],
   "metadata": {
    "collapsed": false,
    "pycharm": {
     "name": "#%%\n"
    }
   }
  },
  {
   "cell_type": "code",
   "execution_count": null,
   "outputs": [],
   "source": [
    "x_train_unit4_all = fillna_dataset(x_train[[x for x in x_train.columns if 'ЭКСГАУСТЕР 4' in x ]])\n",
    "y_train_unit4_all = fillna_dataset(y_train[[x for x in y_train.columns if 'ЭКСГАУСТЕР А/М №4' in x]])\n",
    "\n",
    "# resample_rule = '12H'\n",
    "resample_rule = '5min'\n",
    "\n",
    "x_train_4_resampled = resample_dataset(x_train_unit4_all, resample_rule)\n"
   ],
   "metadata": {
    "collapsed": false,
    "pycharm": {
     "name": "#%%\n"
    }
   }
  },
  {
   "cell_type": "code",
   "execution_count": null,
   "outputs": [],
   "source": [
    "def is_m3(cell):\n",
    "    return cell == 2\n",
    "\n",
    "def is_m1(cell):\n",
    "    return cell == 1\n"
   ],
   "metadata": {
    "collapsed": false,
    "pycharm": {
     "name": "#%%\n"
    }
   }
  },
  {
   "cell_type": "code",
   "execution_count": null,
   "outputs": [],
   "source": [
    "y_train_unit4_all_m1_mask = y_train_unit4_all.applymap(is_m1)\n",
    "y_train_unit4_all_m3_mask = y_train_unit4_all.applymap(is_m3)\n",
    "\n",
    "y_train_unit4_all_m1 = y_train_unit4_all.copy()\n",
    "y_train_unit4_all_m3 = y_train_unit4_all.copy()\n",
    "\n",
    "y_train_unit4_all_m1[y_train_unit4_all_m3_mask] = 0\n",
    "y_train_unit4_all_m1[y_train_unit4_all_m1_mask] = 1\n",
    "y_train_unit4_all_m3[y_train_unit4_all_m3_mask] = 1\n",
    "y_train_unit4_all_m3[y_train_unit4_all_m1_mask] = 0\n",
    "\n"
   ],
   "metadata": {
    "collapsed": false,
    "pycharm": {
     "name": "#%%\n"
    }
   }
  },
  {
   "cell_type": "code",
   "execution_count": null,
   "outputs": [],
   "source": [
    "y_train_4_m1_resampled = resample_dataset(y_train_unit4_all_m1, resample_rule)\n",
    "y_train_4_m3_resampled = resample_dataset(y_train_unit4_all_m3, resample_rule)\n",
    "\n",
    "\n",
    "target_variables_4_pd_m1 = []\n",
    "for colname in y_train_4_m1_resampled.columns:\n",
    "    target_variables_4_pd_m1.append(y_train_4_m1_resampled[[colname]])\n",
    "\n",
    "\n",
    "target_variables_4_pd_m3 = []\n",
    "for colname in y_train_4_m3_resampled.columns:\n",
    "    target_variables_4_pd_m3.append(y_train_4_m3_resampled[[colname]])\n",
    "\n",
    "\n",
    "\n",
    "\n",
    "\n",
    "\n",
    "\n",
    "\n"
   ],
   "metadata": {
    "collapsed": false,
    "pycharm": {
     "name": "#%%\n"
    }
   }
  },
  {
   "cell_type": "code",
   "execution_count": null,
   "outputs": [],
   "source": [
    "\n",
    "x_train_unit4 = x_train_4_resampled\n",
    "x_train_unit_4_0 = x_train_unit4\n",
    "# x_train_unit_4_0 = pd.merge(x_train_unit4, target_variables_4_pd_m1[0], left_index=True, right_index=True, how='outer')\n",
    "x_train_unit_4_0 = pd.merge(x_train_unit_4_0, target_variables_4_pd_m3[0], left_index=True, right_index=True, how='outer')\n",
    "\n",
    "x_train_unit_4_0.to_parquet(os.path.join('..', 'x_train_unit_4_0.parquet'))\n",
    "\n",
    "\n"
   ],
   "metadata": {
    "collapsed": false,
    "pycharm": {
     "name": "#%%\n"
    }
   }
  },
  {
   "cell_type": "code",
   "execution_count": null,
   "outputs": [],
   "source": [
    "len(x_train_4_resampled)"
   ],
   "metadata": {
    "collapsed": false,
    "pycharm": {
     "name": "#%%\n"
    }
   }
  },
  {
   "cell_type": "markdown",
   "source": [],
   "metadata": {
    "collapsed": false,
    "pycharm": {
     "name": "#%% md\n"
    }
   }
  },
  {
   "cell_type": "code",
   "execution_count": null,
   "outputs": [],
   "source": [
    "messages=pd.read_excel(os.path.join('..', 'Датасеты', 'messages.xlsx'))\n",
    "test_intervals=pd.read_excel(os.path.join('..', 'Датасеты', 'test_intervals.xlsx'))"
   ],
   "metadata": {
    "collapsed": false,
    "pycharm": {
     "name": "#%%\n"
    }
   }
  },
  {
   "cell_type": "code",
   "execution_count": null,
   "outputs": [],
   "source": [
    "x_train_unit4 = x_train_4_resampled\n"
   ],
   "metadata": {
    "collapsed": false,
    "pycharm": {
     "name": "#%%\n"
    }
   }
  },
  {
   "cell_type": "code",
   "execution_count": null,
   "outputs": [],
   "source": [
    "for i, name in enumerate(x_train_unit4.columns):\n",
    "    print(i, name)"
   ],
   "metadata": {
    "collapsed": false,
    "pycharm": {
     "name": "#%%\n"
    }
   }
  },
  {
   "cell_type": "code",
   "execution_count": null,
   "outputs": [],
   "source": [
    "type(x_train_unit4)"
   ],
   "metadata": {
    "collapsed": false,
    "pycharm": {
     "name": "#%%\n"
    }
   }
  },
  {
   "cell_type": "code",
   "execution_count": null,
   "outputs": [],
   "source": [
    "import matplotlib.pyplot as plt\n",
    "import numpy as np\n",
    "from merlion.utils.time_series import TimeSeries"
   ],
   "metadata": {
    "collapsed": false,
    "pycharm": {
     "name": "#%%\n"
    }
   }
  },
  {
   "cell_type": "code",
   "execution_count": null,
   "outputs": [],
   "source": [],
   "metadata": {
    "collapsed": false,
    "pycharm": {
     "name": "#%%\n"
    }
   }
  },
  {
   "cell_type": "code",
   "execution_count": null,
   "outputs": [],
   "source": [
    "len(target_variables_4_pd_m1)"
   ],
   "metadata": {
    "collapsed": false,
    "pycharm": {
     "name": "#%%\n"
    }
   }
  },
  {
   "cell_type": "code",
   "execution_count": null,
   "outputs": [],
   "source": [
    "# x_train_unit_4_0_sorted = x_train_unit_4_0.sort_values(by=x_train_unit_4_0.index)\n",
    "x_train_unit_4_0_sorted = x_train_unit_4_0"
   ],
   "metadata": {
    "collapsed": false,
    "pycharm": {
     "name": "#%%\n"
    }
   }
  },
  {
   "cell_type": "code",
   "execution_count": null,
   "outputs": [],
   "source": [
    "split_index = int(len(x_train_unit_4_0_sorted) * 0.8)\n",
    "\n",
    "x_unit_4_0_train = x_train_unit_4_0_sorted.iloc[:split_index]\n",
    "x_unit_4_0_test = x_train_unit_4_0_sorted.iloc[split_index:]\n"
   ],
   "metadata": {
    "collapsed": false,
    "pycharm": {
     "name": "#%%\n"
    }
   }
  },
  {
   "cell_type": "code",
   "execution_count": null,
   "outputs": [],
   "source": [
    "len(x_unit_4_0_test)"
   ],
   "metadata": {
    "collapsed": false,
    "pycharm": {
     "name": "#%%\n"
    }
   }
  },
  {
   "cell_type": "code",
   "execution_count": null,
   "outputs": [],
   "source": [
    "x_unit_4_0_train = x_unit_4_0_train.apply(pd.to_numeric)\n",
    "x_unit_4_0_test = x_unit_4_0_test.apply(pd.to_numeric)"
   ],
   "metadata": {
    "collapsed": false,
    "pycharm": {
     "name": "#%%\n"
    }
   }
  },
  {
   "cell_type": "code",
   "execution_count": null,
   "outputs": [],
   "source": [
    "m_x_train_4_0 = TimeSeries.from_pd(x_unit_4_0_train)\n",
    "m_x_train_4_0_aligned = m_x_train_4_0.align()\n",
    "\n",
    "\n",
    "m_x_test_4_0 = TimeSeries.from_pd(x_unit_4_0_test)\n",
    "m_x_test_4_0_aligned = m_x_test_4_0.align()"
   ],
   "metadata": {
    "collapsed": false,
    "pycharm": {
     "name": "#%%\n"
    }
   }
  },
  {
   "cell_type": "code",
   "execution_count": null,
   "outputs": [],
   "source": [
    "m_x_train_4_0_aligned[0][1][16]"
   ],
   "metadata": {
    "collapsed": false,
    "pycharm": {
     "name": "#%%\n"
    }
   }
  },
  {
   "cell_type": "code",
   "execution_count": null,
   "outputs": [],
   "source": [
    "len(m_x_train_4_0_aligned)"
   ],
   "metadata": {
    "collapsed": false,
    "pycharm": {
     "name": "#%%\n"
    }
   }
  },
  {
   "cell_type": "code",
   "execution_count": null,
   "outputs": [],
   "source": [
    "len(x_unit_4_0_test)"
   ],
   "metadata": {
    "collapsed": false,
    "pycharm": {
     "name": "#%%\n"
    }
   }
  },
  {
   "cell_type": "code",
   "execution_count": null,
   "outputs": [],
   "source": [
    "if 0:\n",
    "    for model in [model1, model2, model3]:\n",
    "        print(f\"Training {type(model).__name__}...\")\n",
    "        train_pred, train_stderr = model.train(m_x_train_4_0_aligned)\n",
    "        train_results.append([train_pred, train_stderr])\n",
    "\n",
    "from merlion.evaluate.forecast import ForecastMetric\n",
    "from merlion.models.factory import ModelFactory\n",
    "from merlion.models.ensemble.combine import ModelSelector, Mean\n",
    "\n",
    "\n",
    "# Time series is sampled hourly, so max_forecast_steps = 24 means we can predict up to 1 day in the future\n",
    "# target_seq_index = target_index\n",
    "target_seq_index = 16\n",
    "max_forecast_steps = len(x_unit_4_0_test)\n",
    "print(max_forecast_steps)\n",
    "kwargs = dict(target_seq_index=target_seq_index, max_forecast_steps=max_forecast_steps)\n",
    "\n",
    "if 0:\n",
    "    model1 = ModelFactory.create(\"DefaultForecaster\", **kwargs)\n",
    "    model2 = ModelFactory.create(\"Arima\", **kwargs)\n",
    "\n",
    "    # This ModelSelector combiner picks the best model based on sMAPE\n",
    "    model3 = ModelFactory.create(\"ForecasterEnsemble\", models=[model1, model2],\n",
    "                                 combiner=ModelSelector(metric=ForecastMetric.Mean))\n",
    "\n",
    "\n"
   ],
   "metadata": {
    "collapsed": false,
    "pycharm": {
     "name": "#%%\n"
    }
   }
  },
  {
   "cell_type": "code",
   "execution_count": null,
   "outputs": [],
   "source": [
    "target_seq_index = 16\n",
    "max_forecast_steps = 100"
   ],
   "metadata": {
    "collapsed": false,
    "pycharm": {
     "name": "#%%\n"
    }
   }
  },
  {
   "cell_type": "code",
   "execution_count": null,
   "outputs": [],
   "source": [
    "from merlion.models.forecast.trees import LGBMForecasterConfig\n",
    "\n",
    "import lgbm_forecaster_custom\n",
    "from importlib import reload\n",
    "import timeit\n",
    "\n",
    "reload(lgbm_forecaster_custom)\n",
    "\n",
    "window_size = 60\n",
    "lgbm_config = LGBMForecasterConfig(target_seq_index=target_seq_index, max_forecast_steps=max_forecast_steps, maxlags=window_size)\n",
    "model_lgbm = lgbm_forecaster_custom.LGBMForecasterCustom(lgbm_config, window_size=window_size)\n",
    "\n",
    "\n",
    "train_results = []\n",
    "print(f\"Training {type(model_lgbm).__name__}...\")\n",
    "\n",
    "\n",
    "def learn():\n",
    "    shuffle = TimeSeries.from_pd(m_x_train_4_0_aligned.to_pd().sample(frac=1))\n",
    "    train_pred, train_stderr = model_lgbm.train(shuffle)\n",
    "    train_results.append([train_pred, train_stderr])\n",
    "\n",
    "learn_time = timeit.timeit(learn, number=1)\n",
    "print('train time', learn_time / 60, 'min')\n",
    "\n",
    "\n",
    "from merlion.evaluate.forecast import ForecastMetric\n",
    "\n",
    "target_univariate = m_x_test_4_0_aligned.univariates[m_x_test_4_0_aligned.names[target_seq_index]]\n",
    "target = target_univariate[:max_forecast_steps].to_ts()\n",
    "target = target_univariate.to_ts()\n",
    "# print(target)\n",
    "\n",
    "models_list = [model_lgbm]\n",
    "# models_list = [model1, model2, model3]\n",
    "forecast = None\n",
    "stderr = None\n",
    "\n",
    "for model in models_list:\n",
    "    # forecast, stderr = model.forecast(target.time_stamps)\n",
    "    def forecast():\n",
    "        global forecast\n",
    "        global stderr\n",
    "\n",
    "        forecast, stderr = model.forecast(m_x_train_4_0_aligned, m_x_test_4_0_aligned)\n",
    "        rmse = ForecastMetric.RMSE.value(ground_truth=target, predict=forecast)\n",
    "        smape = ForecastMetric.sMAPE.value(ground_truth=target, predict=forecast)\n",
    "        print(f\"{type(model).__name__}\")\n",
    "        print(f\"RMSE:  {rmse:.4f}\")\n",
    "        print(f\"sMAPE: {smape:.4f}\")\n",
    "        print('window_size: ', window_size)\n",
    "    learn_time = timeit.timeit(forecast, number=1)\n",
    "    print('forecast_time', learn_time, 'sec')\n",
    "\n",
    "\n",
    "import matplotlib.pyplot as plt\n",
    "import matplotlib.colors as mcolors\n",
    "\n",
    "model_index = 0\n",
    "model_plot = models_list\n",
    "model = model_plot[model_index]\n",
    "train_forecast = train_results[model_index][0]\n",
    "\n",
    "# создаем объект figure\n",
    "fig = plt.figure(figsize=(20, 10))\n",
    "# добавляем объект axes на figure\n",
    "ax = fig.add_subplot(111)\n",
    "\n",
    "target_name_col = 'Y_ЭКСГАУСТЕР А/М №4_ЭЛЕКТРОДВИГАТЕЛЬ ДСПУ-140-84-4 ЭКСГ. №4'\n",
    "ax.plot(forecast.index, forecast[target_name_col], label='Прогноз')\n",
    "\n",
    "# fig, ax = model.plot_forecast(time_stamps=target.time_stamps, plot_forecast_uncertainty=True, time_series_prev=m_x_train_4_0_aligned)\n",
    "\n",
    "ax.plot(target.index, target.univariates[target_name_col], label='Реальное значение', color=\"#303030\")\n",
    "ax.plot(x_unit_4_0_train.index, x_unit_4_0_train[target_name_col], color=\"#303030\")\n",
    "ax.plot(train_forecast.index, train_forecast.univariates[target_name_col], label='Прогноз при обучении', color=\"red\")\n",
    "\n",
    "ax.set_xlim(x_unit_4_0_train.index[0], target.index[-1])\n",
    "ax.legend()\n",
    "plt.show()"
   ],
   "metadata": {
    "collapsed": false,
    "pycharm": {
     "name": "#%%\n"
    }
   }
  },
  {
   "cell_type": "code",
   "execution_count": null,
   "outputs": [],
   "source": [
    "len_of_indices = []\n",
    "len_of_lags = []\n",
    "len_of_names = []\n",
    "max_indices = len(model_lgbm.model.feature_importances_)\n",
    "tmplt = list(range(16))\n",
    "for i in range(max_indices // 16 + 1):\n",
    "    len_of_indices.extend(tmplt)\n",
    "    len_of_lags.extend([i for x in range(16)])\n",
    "    len_of_names.extend(list(x_train_unit4.columns))\n",
    "\n",
    "len_of_indices = len_of_indices[:max_indices]\n",
    "len_of_lags = len_of_lags[:max_indices]\n",
    "len_of_names = len_of_names[:max_indices]\n",
    "importances = pd.DataFrame({\n",
    "    'importances': model_lgbm.model.feature_importances_,\n",
    "    'indices': list(range(len(model_lgbm.model.feature_importances_))),\n",
    "    'feature_number': len_of_indices,\n",
    "    'feature_lag': len_of_lags,\n",
    "    'names': len_of_names\n",
    "}).sort_values(by=['importances', 'feature_number', 'feature_lag'], ascending=[False, True, True])\n",
    "\n",
    "\n",
    "from IPython.display import display\n",
    "\n",
    "\n",
    "with pd.option_context('display.max_rows', None, 'display.max_columns', None):\n",
    "    display(importances)\n"
   ],
   "metadata": {
    "collapsed": false,
    "pycharm": {
     "name": "#%%\n"
    }
   }
  },
  {
   "cell_type": "code",
   "execution_count": null,
   "outputs": [],
   "source": [],
   "metadata": {
    "collapsed": false,
    "pycharm": {
     "name": "#%%\n"
    }
   }
  }
 ],
 "metadata": {
  "kernelspec": {
   "display_name": "Python 3",
   "language": "python",
   "name": "python3"
  },
  "language_info": {
   "codemirror_mode": {
    "name": "ipython",
    "version": 2
   },
   "file_extension": ".py",
   "mimetype": "text/x-python",
   "name": "python",
   "nbconvert_exporter": "python",
   "pygments_lexer": "ipython2",
   "version": "2.7.6"
  }
 },
 "nbformat": 4,
 "nbformat_minor": 0
}