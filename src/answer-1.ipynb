{
 "cells": [
  {
   "cell_type": "code",
   "execution_count": null,
   "outputs": [],
   "source": [],
   "metadata": {
    "collapsed": false,
    "pycharm": {
     "name": "#%%\n"
    }
   }
  },
  {
   "cell_type": "code",
   "execution_count": 3,
   "outputs": [],
   "source": [
    "import pandas as pd\n",
    "import os\n",
    "import pyarrow\n",
    "import openpyxl\n",
    "\n",
    "import os\n",
    "import pyarrow\n",
    "import openpyxl\n",
    "import pickle\n",
    "from typing import Dict\n",
    "\n",
    "from exgauster.utils import DataOfExgauster\n",
    "from dataclasses import dataclass\n",
    "from typing import Optional\n",
    "import exgauster.trained_booster\n",
    "\n",
    "@dataclass\n",
    "class TrainExgausterConfig:\n",
    "    hyperparametres: dict\n",
    "    window_size: int\n",
    "    booster: Optional[exgauster.trained_booster.TrainedBooster]\n",
    "    booster_scoring: Optional[exgauster.trained_booster.TrainedBooster]\n",
    "\n",
    "\n",
    "with open('final_trained_boosters_with_test_score 4.0-8.5.pkl', \"rb\") as f:\n",
    "    exgauster_map = pickle.load(f)\n",
    "\n",
    "\n",
    "\n",
    "\n"
   ],
   "metadata": {
    "collapsed": false,
    "pycharm": {
     "name": "#%%\n"
    }
   }
  },
  {
   "cell_type": "code",
   "execution_count": 8,
   "outputs": [],
   "source": [
    "with open('prepared_data.pkl', \"rb\") as f:\n",
    "    exgausters_data = pickle.load(f)\n",
    "\n"
   ],
   "metadata": {
    "collapsed": false,
    "pycharm": {
     "name": "#%%\n"
    }
   }
  },
  {
   "cell_type": "code",
   "execution_count": 9,
   "outputs": [],
   "source": [
    "type(exgauster_map[4]['m1'][0].booster)\n",
    "\n",
    "len(exgauster_map[4]['m1'])\n",
    "\n",
    "\n",
    "booster = exgauster_map[4]['m1'][0].booster"
   ],
   "metadata": {
    "collapsed": false,
    "pycharm": {
     "name": "#%%\n"
    }
   }
  },
  {
   "cell_type": "code",
   "execution_count": 10,
   "outputs": [],
   "source": [
    "test_data = exgausters_data[4].test"
   ],
   "metadata": {
    "collapsed": false,
    "pycharm": {
     "name": "#%%\n"
    }
   }
  },
  {
   "cell_type": "code",
   "execution_count": 15,
   "outputs": [],
   "source": [
    "\n",
    "from merlion.utils import TimeSeries\n"
   ],
   "metadata": {
    "collapsed": false,
    "pycharm": {
     "name": "#%%\n"
    }
   }
  },
  {
   "cell_type": "code",
   "execution_count": 16,
   "outputs": [
    {
     "name": "stderr",
     "output_type": "stream",
     "text": [
      "C:\\devs\\ts\\LTC2023_15\\exgauster\\ts_transformer_for_lgbm.py:62: RuntimeWarning: invalid value encountered in cast\n",
      "  labels = labels_to_fit[window_diff:].ravel().round().astype(np.int32).astype(np.float64)\n"
     ]
    }
   ],
   "source": [
    "fc, err = booster.model.forecast(booster.x_train, TimeSeries.from_pd(test_data).align())"
   ],
   "metadata": {
    "collapsed": false,
    "pycharm": {
     "name": "#%%\n"
    }
   }
  },
  {
   "cell_type": "code",
   "execution_count": 20,
   "outputs": [
    {
     "data": {
      "text/plain": "pandas.core.frame.DataFrame"
     },
     "execution_count": 20,
     "metadata": {},
     "output_type": "execute_result"
    }
   ],
   "source": [
    "type(fc)"
   ],
   "metadata": {
    "collapsed": false,
    "pycharm": {
     "name": "#%%\n"
    }
   }
  },
  {
   "cell_type": "code",
   "execution_count": null,
   "outputs": [
    {
     "name": "stderr",
     "output_type": "stream",
     "text": [
      "C:\\devs\\ts\\LTC2023_15\\exgauster\\ts_transformer_for_lgbm.py:62: RuntimeWarning: invalid value encountered in cast\n",
      "  labels = labels_to_fit[window_diff:].ravel().round().astype(np.int32).astype(np.float64)\n",
      "C:\\devs\\ts\\LTC2023_15\\exgauster\\ts_transformer_for_lgbm.py:62: RuntimeWarning: invalid value encountered in cast\n",
      "  labels = labels_to_fit[window_diff:].ravel().round().astype(np.int32).astype(np.float64)\n",
      "C:\\devs\\ts\\LTC2023_15\\exgauster\\ts_transformer_for_lgbm.py:62: RuntimeWarning: invalid value encountered in cast\n",
      "  labels = labels_to_fit[window_diff:].ravel().round().astype(np.int32).astype(np.float64)\n",
      "C:\\devs\\ts\\LTC2023_15\\exgauster\\ts_transformer_for_lgbm.py:62: RuntimeWarning: invalid value encountered in cast\n",
      "  labels = labels_to_fit[window_diff:].ravel().round().astype(np.int32).astype(np.float64)\n",
      "C:\\devs\\ts\\LTC2023_15\\exgauster\\ts_transformer_for_lgbm.py:62: RuntimeWarning: invalid value encountered in cast\n",
      "  labels = labels_to_fit[window_diff:].ravel().round().astype(np.int32).astype(np.float64)\n",
      "C:\\devs\\ts\\LTC2023_15\\exgauster\\ts_transformer_for_lgbm.py:62: RuntimeWarning: invalid value encountered in cast\n",
      "  labels = labels_to_fit[window_diff:].ravel().round().astype(np.int32).astype(np.float64)\n",
      "C:\\devs\\ts\\LTC2023_15\\exgauster\\ts_transformer_for_lgbm.py:62: RuntimeWarning: invalid value encountered in cast\n",
      "  labels = labels_to_fit[window_diff:].ravel().round().astype(np.int32).astype(np.float64)\n",
      "C:\\devs\\ts\\LTC2023_15\\exgauster\\ts_transformer_for_lgbm.py:62: RuntimeWarning: invalid value encountered in cast\n",
      "  labels = labels_to_fit[window_diff:].ravel().round().astype(np.int32).astype(np.float64)\n",
      "C:\\devs\\ts\\LTC2023_15\\exgauster\\ts_transformer_for_lgbm.py:62: RuntimeWarning: invalid value encountered in cast\n",
      "  labels = labels_to_fit[window_diff:].ravel().round().astype(np.int32).astype(np.float64)\n",
      "C:\\devs\\ts\\LTC2023_15\\exgauster\\ts_transformer_for_lgbm.py:62: RuntimeWarning: invalid value encountered in cast\n",
      "  labels = labels_to_fit[window_diff:].ravel().round().astype(np.int32).astype(np.float64)\n",
      "C:\\devs\\ts\\LTC2023_15\\exgauster\\ts_transformer_for_lgbm.py:62: RuntimeWarning: invalid value encountered in cast\n",
      "  labels = labels_to_fit[window_diff:].ravel().round().astype(np.int32).astype(np.float64)\n",
      "C:\\devs\\ts\\LTC2023_15\\exgauster\\ts_transformer_for_lgbm.py:62: RuntimeWarning: invalid value encountered in cast\n",
      "  labels = labels_to_fit[window_diff:].ravel().round().astype(np.int32).astype(np.float64)\n",
      "C:\\devs\\ts\\LTC2023_15\\exgauster\\ts_transformer_for_lgbm.py:62: RuntimeWarning: invalid value encountered in cast\n",
      "  labels = labels_to_fit[window_diff:].ravel().round().astype(np.int32).astype(np.float64)\n",
      "C:\\devs\\ts\\LTC2023_15\\exgauster\\ts_transformer_for_lgbm.py:62: RuntimeWarning: invalid value encountered in cast\n",
      "  labels = labels_to_fit[window_diff:].ravel().round().astype(np.int32).astype(np.float64)\n",
      "C:\\devs\\ts\\LTC2023_15\\exgauster\\ts_transformer_for_lgbm.py:62: RuntimeWarning: invalid value encountered in cast\n",
      "  labels = labels_to_fit[window_diff:].ravel().round().astype(np.int32).astype(np.float64)\n",
      "C:\\devs\\ts\\LTC2023_15\\exgauster\\ts_transformer_for_lgbm.py:62: RuntimeWarning: invalid value encountered in cast\n",
      "  labels = labels_to_fit[window_diff:].ravel().round().astype(np.int32).astype(np.float64)\n",
      "C:\\devs\\ts\\LTC2023_15\\exgauster\\ts_transformer_for_lgbm.py:62: RuntimeWarning: invalid value encountered in cast\n",
      "  labels = labels_to_fit[window_diff:].ravel().round().astype(np.int32).astype(np.float64)\n"
     ]
    }
   ],
   "source": [
    "\n",
    "\n",
    "forecasts_m3 = []\n",
    "exg_numbers = [4, 5, 6, 7, 8]\n",
    "# exg_numbers = [4]\n",
    "for exg_number in exg_numbers:\n",
    "    test_data = exgausters_data[exg_number].test\n",
    "    for feature_num in range(len(exgauster_map[exg_number]['m3'])):\n",
    "    # for feature_num in range():\n",
    "        if exg_numbers == 8 and feature_num >= 6:\n",
    "            continue\n",
    "        booster = exgauster_map[exg_number]['m3'][feature_num].booster\n",
    "        if booster is None:\n",
    "            y = exgausters_data[exg_number].y.m1[feature_num]\n",
    "            if y.all_is0:\n",
    "                df = pd.DataFrame(index=test_data.index, columns=[y.colname], data=0)\n",
    "                forecasts_m3.append(df)\n",
    "            elif y.all_is1:\n",
    "                df = pd.DataFrame(index=test_data.index, columns=[y.colname], data=1)\n",
    "                forecasts_m3.append(df)\n",
    "            else:\n",
    "                df = pd.DataFrame(index=test_data.index, columns=[y.colname], data=0)\n",
    "        else:\n",
    "            fc, err = booster.model.forecast(booster.x_train, TimeSeries.from_pd(test_data).align())\n",
    "            forecasts_m3.append(fc)\n",
    "\n",
    "\n"
   ],
   "metadata": {
    "collapsed": false,
    "pycharm": {
     "name": "#%%\n",
     "is_executing": true
    }
   }
  },
  {
   "cell_type": "code",
   "execution_count": 22,
   "outputs": [
    {
     "data": {
      "text/plain": "3"
     },
     "execution_count": 22,
     "metadata": {},
     "output_type": "execute_result"
    }
   ],
   "source": [
    "len(forecasts_m1)"
   ],
   "metadata": {
    "collapsed": false,
    "pycharm": {
     "name": "#%%\n"
    }
   }
  },
  {
   "cell_type": "code",
   "execution_count": null,
   "outputs": [],
   "source": [],
   "metadata": {
    "collapsed": false,
    "pycharm": {
     "name": "#%%\n"
    }
   }
  },
  {
   "cell_type": "code",
   "execution_count": null,
   "outputs": [],
   "source": [
    "new_df_m3 = pd.DataFrame(index=test_data.index)\n",
    "\n",
    "for df in forecasts_m3:\n",
    "    new_df_m3 = new_df_m3.merge(df, left_index=True, right_index=True)\n",
    "\n",
    "new_df_m3 = new_df_m3.replace(1, 2)"
   ],
   "metadata": {
    "collapsed": false,
    "pycharm": {
     "name": "#%%\n",
     "is_executing": true
    }
   }
  },
  {
   "cell_type": "code",
   "execution_count": null,
   "outputs": [],
   "source": [
    "new_df_m3.to_parquet('m3_answer no_resampled ex4.0-8.5.parquet')"
   ],
   "metadata": {
    "collapsed": false,
    "pycharm": {
     "name": "#%%\n",
     "is_executing": true
    }
   }
  },
  {
   "cell_type": "code",
   "execution_count": 34,
   "outputs": [],
   "source": [
    "new_df.to_parquet('m1_answer no_resampled ex4.0-8.5.parquet')"
   ],
   "metadata": {
    "collapsed": false,
    "pycharm": {
     "name": "#%%\n"
    }
   }
  },
  {
   "cell_type": "code",
   "execution_count": 25,
   "outputs": [],
   "source": [
    "new_df_resampled = new_df.resample('10S').asfreq()"
   ],
   "metadata": {
    "collapsed": false,
    "pycharm": {
     "name": "#%%\n"
    }
   }
  },
  {
   "cell_type": "code",
   "execution_count": 27,
   "outputs": [
    {
     "data": {
      "text/plain": "                     Y_ЭКСГАУСТЕР А/М №4_ЭЛЕКТРОДВИГАТЕЛЬ ДСПУ-140-84-4 ЭКСГ. №4  \\\n2022-01-01 03:10:00                                                0.0             \n2022-01-01 03:10:10                                                0.0             \n2022-01-01 03:10:20                                                0.0             \n2022-01-01 03:10:30                                                0.0             \n2022-01-01 03:10:40                                                0.0             \n...                                                                ...             \n2023-04-09 23:59:20                                                0.0             \n2023-04-09 23:59:30                                                0.0             \n2023-04-09 23:59:40                                                0.0             \n2023-04-09 23:59:50                                                0.0             \n2023-04-10 00:00:00                                                0.0             \n\n                     Y_ЭКСГАУСТЕР А/М №4_ПОДШИПНИК ОПОРНЫЙ ЭКСГ. №4  \\\n2022-01-01 03:10:00                                             0.0   \n2022-01-01 03:10:10                                             0.0   \n2022-01-01 03:10:20                                             0.0   \n2022-01-01 03:10:30                                             0.0   \n2022-01-01 03:10:40                                             0.0   \n...                                                             ...   \n2023-04-09 23:59:20                                             0.0   \n2023-04-09 23:59:30                                             0.0   \n2023-04-09 23:59:40                                             0.0   \n2023-04-09 23:59:50                                             0.0   \n2023-04-10 00:00:00                                             0.0   \n\n                     Y_ЭКСГАУСТЕР А/М №4_УЛИТА ЭКСГ. №4  \n2022-01-01 03:10:00                                 0.0  \n2022-01-01 03:10:10                                 0.0  \n2022-01-01 03:10:20                                 0.0  \n2022-01-01 03:10:30                                 0.0  \n2022-01-01 03:10:40                                 0.0  \n...                                                 ...  \n2023-04-09 23:59:20                                 0.0  \n2023-04-09 23:59:30                                 0.0  \n2023-04-09 23:59:40                                 0.0  \n2023-04-09 23:59:50                                 0.0  \n2023-04-10 00:00:00                                 0.0  \n\n[4007821 rows x 3 columns]",
      "text/html": "<div>\n<style scoped>\n    .dataframe tbody tr th:only-of-type {\n        vertical-align: middle;\n    }\n\n    .dataframe tbody tr th {\n        vertical-align: top;\n    }\n\n    .dataframe thead th {\n        text-align: right;\n    }\n</style>\n<table border=\"1\" class=\"dataframe\">\n  <thead>\n    <tr style=\"text-align: right;\">\n      <th></th>\n      <th>Y_ЭКСГАУСТЕР А/М №4_ЭЛЕКТРОДВИГАТЕЛЬ ДСПУ-140-84-4 ЭКСГ. №4</th>\n      <th>Y_ЭКСГАУСТЕР А/М №4_ПОДШИПНИК ОПОРНЫЙ ЭКСГ. №4</th>\n      <th>Y_ЭКСГАУСТЕР А/М №4_УЛИТА ЭКСГ. №4</th>\n    </tr>\n  </thead>\n  <tbody>\n    <tr>\n      <th>2022-01-01 03:10:00</th>\n      <td>0.0</td>\n      <td>0.0</td>\n      <td>0.0</td>\n    </tr>\n    <tr>\n      <th>2022-01-01 03:10:10</th>\n      <td>0.0</td>\n      <td>0.0</td>\n      <td>0.0</td>\n    </tr>\n    <tr>\n      <th>2022-01-01 03:10:20</th>\n      <td>0.0</td>\n      <td>0.0</td>\n      <td>0.0</td>\n    </tr>\n    <tr>\n      <th>2022-01-01 03:10:30</th>\n      <td>0.0</td>\n      <td>0.0</td>\n      <td>0.0</td>\n    </tr>\n    <tr>\n      <th>2022-01-01 03:10:40</th>\n      <td>0.0</td>\n      <td>0.0</td>\n      <td>0.0</td>\n    </tr>\n    <tr>\n      <th>...</th>\n      <td>...</td>\n      <td>...</td>\n      <td>...</td>\n    </tr>\n    <tr>\n      <th>2023-04-09 23:59:20</th>\n      <td>0.0</td>\n      <td>0.0</td>\n      <td>0.0</td>\n    </tr>\n    <tr>\n      <th>2023-04-09 23:59:30</th>\n      <td>0.0</td>\n      <td>0.0</td>\n      <td>0.0</td>\n    </tr>\n    <tr>\n      <th>2023-04-09 23:59:40</th>\n      <td>0.0</td>\n      <td>0.0</td>\n      <td>0.0</td>\n    </tr>\n    <tr>\n      <th>2023-04-09 23:59:50</th>\n      <td>0.0</td>\n      <td>0.0</td>\n      <td>0.0</td>\n    </tr>\n    <tr>\n      <th>2023-04-10 00:00:00</th>\n      <td>0.0</td>\n      <td>0.0</td>\n      <td>0.0</td>\n    </tr>\n  </tbody>\n</table>\n<p>4007821 rows × 3 columns</p>\n</div>"
     },
     "execution_count": 27,
     "metadata": {},
     "output_type": "execute_result"
    }
   ],
   "source": [
    "new_df_resampled.fillna(method='ffill')"
   ],
   "metadata": {
    "collapsed": false,
    "pycharm": {
     "name": "#%%\n"
    }
   }
  }
 ],
 "metadata": {
  "kernelspec": {
   "display_name": "Python 3",
   "language": "python",
   "name": "python3"
  },
  "language_info": {
   "codemirror_mode": {
    "name": "ipython",
    "version": 2
   },
   "file_extension": ".py",
   "mimetype": "text/x-python",
   "name": "python",
   "nbconvert_exporter": "python",
   "pygments_lexer": "ipython2",
   "version": "2.7.6"
  }
 },
 "nbformat": 4,
 "nbformat_minor": 0
}