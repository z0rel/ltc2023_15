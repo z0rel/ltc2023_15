{
 "cells": [
  {
   "cell_type": "code",
   "execution_count": null,
   "outputs": [],
   "source": [],
   "metadata": {
    "collapsed": false,
    "pycharm": {
     "name": "#%%\n"
    }
   }
  },
  {
   "cell_type": "code",
   "execution_count": 1,
   "outputs": [
    {
     "name": "stderr",
     "output_type": "stream",
     "text": [
      "C:\\tools\\miniconda3\\envs\\stal\\lib\\site-packages\\scipy\\__init__.py:146: UserWarning: A NumPy version >=1.16.5 and <1.23.0 is required for this version of SciPy (detected version 1.24.3\n",
      "  warnings.warn(f\"A NumPy version >={np_minversion} and <{np_maxversion}\"\n"
     ]
    }
   ],
   "source": [
    "import pandas as pd\n",
    "import os\n",
    "import pyarrow\n",
    "import openpyxl\n",
    "\n",
    "import os\n",
    "import pyarrow\n",
    "import openpyxl\n",
    "import pickle\n",
    "from typing import Dict\n",
    "\n",
    "from exgauster.utils import DataOfExgauster\n",
    "from dataclasses import dataclass\n",
    "from typing import Optional\n",
    "import exgauster.trained_booster\n",
    "\n",
    "@dataclass\n",
    "class TrainExgausterConfig:\n",
    "    hyperparametres: dict\n",
    "    window_size: int\n",
    "    booster: Optional[exgauster.trained_booster.TrainedBooster]\n",
    "    booster_scoring: Optional[exgauster.trained_booster.TrainedBooster]\n",
    "\n",
    "\n",
    "with open('final_trained_boosters_with_test_score 4.0-8.5.pkl', \"rb\") as f:\n",
    "    exgauster_map = pickle.load(f)\n"
   ],
   "metadata": {
    "collapsed": false,
    "pycharm": {
     "name": "#%%\n"
    }
   }
  },
  {
   "cell_type": "code",
   "execution_count": 2,
   "outputs": [],
   "source": [
    "with open('final_trained_boosters_with_test_score8-9.pkl', \"rb\") as f:\n",
    "    exgauster_map_8_9 = pickle.load(f)\n",
    "\n"
   ],
   "metadata": {
    "collapsed": false,
    "pycharm": {
     "name": "#%%\n"
    }
   }
  },
  {
   "cell_type": "code",
   "execution_count": 3,
   "outputs": [],
   "source": [
    "with open('prepared_data.pkl', \"rb\") as f:\n",
    "    exgausters_data = pickle.load(f)\n",
    "\n"
   ],
   "metadata": {
    "collapsed": false,
    "pycharm": {
     "name": "#%%\n"
    }
   }
  },
  {
   "cell_type": "code",
   "execution_count": 10,
   "outputs": [],
   "source": [
    "# test_data = exgausters_data[4].test"
   ],
   "metadata": {
    "collapsed": false,
    "pycharm": {
     "name": "#%%\n"
    }
   }
  },
  {
   "cell_type": "code",
   "execution_count": 4,
   "outputs": [],
   "source": [
    "\n",
    "from merlion.utils import TimeSeries\n"
   ],
   "metadata": {
    "collapsed": false,
    "pycharm": {
     "name": "#%%\n"
    }
   }
  },
  {
   "cell_type": "code",
   "execution_count": 27,
   "outputs": [],
   "source": [
    "exg_index = forecasts_m1_with_future[0].index\n",
    "\n",
    "def make_forecasts_on_test(m_key='m3', forecasts_of_future=None):\n",
    "    \"\"\"\n",
    "\n",
    "    :param m_key: m1 или m3\n",
    "    :param forecasts_of_future: прогнозы на месяц вперед по рядам\n",
    "    :return: датафреймы с прогнозами по фичам\n",
    "    \"\"\"\n",
    "    result_forecasts = []\n",
    "    exg_numbers = [4, 5, 6, 7, 8, 9]\n",
    "    for exg_number in exg_numbers:\n",
    "        test_data = exgausters_data[exg_number].test\n",
    "        for feature_num in range(len(exgauster_map[exg_number][m_key])):\n",
    "            print('make forecast for exgauster', exg_number, m_key, 'feature', feature_num, )\n",
    "            if (int(exg_number) == 8 and int(feature_num) >= 6) or int(exg_number) == 9:\n",
    "                booster = exgauster_map_8_9[exg_number][m_key][feature_num].booster\n",
    "            else:\n",
    "                booster = exgauster_map[exg_number][m_key][feature_num].booster\n",
    "\n",
    "            if booster is not None:\n",
    "                if forecasts_of_future is not None:\n",
    "                    # добавить к данным тестирования построенные прогнозы\n",
    "                    x_for_forecast = pd.concat([test_data, forecasts_of_future[exg_number]])\n",
    "                else:\n",
    "                    x_for_forecast = test_data\n",
    "\n",
    "                fc, err = booster.model.forecast(booster.x_train, TimeSeries.from_pd(x_for_forecast).align())\n",
    "                result_forecasts.append(fc)\n",
    "            else:\n",
    "                if m_key == 'm3':\n",
    "                    y = exgausters_data[exg_number].y.m3[feature_num]\n",
    "                else:\n",
    "                    y = exgausters_data[exg_number].y.m1[feature_num]\n",
    "\n",
    "                if y.all_is0:\n",
    "                    df = pd.DataFrame(index=exg_index, columns=[y.colname], data=0)\n",
    "                    result_forecasts.append(df)\n",
    "                elif y.all_is1:\n",
    "                    df = pd.DataFrame(index=exg_index, columns=[y.colname], data=1)\n",
    "                    result_forecasts.append(df)\n",
    "                else:\n",
    "                    print('error: exgauster ', exg_number, m_key, 'feature: ', feature_num)\n",
    "                    df = pd.DataFrame(index=exg_index, columns=[y.colname], data=0)\n",
    "                    result_forecasts.append(df)\n",
    "    return result_forecasts\n",
    "\n"
   ],
   "metadata": {
    "collapsed": false,
    "pycharm": {
     "name": "#%%\n"
    }
   }
  },
  {
   "cell_type": "code",
   "execution_count": null,
   "outputs": [],
   "source": [
    "forecasts_m1 = make_forecasts_on_test('m1')\n",
    "forecasts_m3 = make_forecasts_on_test('m3')\n"
   ],
   "metadata": {
    "collapsed": false,
    "pycharm": {
     "name": "#%%\n"
    }
   }
  },
  {
   "cell_type": "code",
   "execution_count": 6,
   "outputs": [],
   "source": [
    "def join_forecasts_to_df(forecasts, index=None):\n",
    "    if index is None:\n",
    "        index = forecasts[0].index\n",
    "    new_df = pd.DataFrame(index=index)\n",
    "    for df in forecasts:\n",
    "        new_df = new_df.merge(df, left_index=True, right_index=True)\n",
    "    return new_df"
   ],
   "metadata": {
    "collapsed": false,
    "pycharm": {
     "name": "#%%\n"
    }
   }
  },
  {
   "cell_type": "code",
   "execution_count": null,
   "outputs": [],
   "source": [
    "joined_m1 = join_forecasts_to_df(forecasts_m1)\n",
    "joined_m3 = join_forecasts_to_df(forecasts_m3)\n",
    "\n",
    "joined_m1_resampled = joined_m1.resample('10S').asfreq().fillna(method='ffill').round(decimals=0)\n",
    "joined_m3_resampled = joined_m3.resample('10S').asfreq().fillna(method='ffill').round(decimals=0)\n"
   ],
   "metadata": {
    "collapsed": false,
    "pycharm": {
     "name": "#%%\n"
    }
   }
  },
  {
   "cell_type": "code",
   "execution_count": 71,
   "outputs": [],
   "source": [
    "joined_m1.to_parquet('m1_answers_noresampled.parquet')\n",
    "joined_m3.to_parquet('m3_answers_noresampled.parquet')\n"
   ],
   "metadata": {
    "collapsed": false,
    "pycharm": {
     "name": "#%%\n"
    }
   }
  },
  {
   "cell_type": "code",
   "execution_count": 59,
   "outputs": [],
   "source": [
    "joined_m1_mask = joined_m1 == 1\n",
    "joined_m3_replaced = joined_m3.replace(1, 2)\n",
    "joined_m3_unioned_m1 = joined_m3_replaced.where(~joined_m1_mask, 1)\n",
    "\n",
    "joined_m1_resampled_mask = joined_m1_resampled == 1\n",
    "joined_m3_resampled_replaced = joined_m3_resampled.replace(1, 2)\n",
    "joined_m3_resampled_unioned_m1 = joined_m3_resampled_replaced.where(~joined_m1_resampled_mask, 1)\n",
    "\n"
   ],
   "metadata": {
    "collapsed": false,
    "pycharm": {
     "name": "#%%\n"
    }
   }
  },
  {
   "cell_type": "code",
   "execution_count": 60,
   "outputs": [
    {
     "name": "stdout",
     "output_type": "stream",
     "text": [
      "0 22303014\n",
      "1 2618\n",
      "2 1027993\n",
      "0 669085664\n",
      "1 78540\n",
      "2 30839471\n"
     ]
    }
   ],
   "source": [
    "print(0, joined_m3_unioned_m1.values.ravel().tolist().count(0))\n",
    "print(1, joined_m3_unioned_m1.values.ravel().tolist().count(1))\n",
    "print(2, joined_m3_unioned_m1.values.ravel().tolist().count(2))\n",
    "\n",
    "print(0, joined_m3_resampled_unioned_m1.values.ravel().tolist().count(0))\n",
    "print(1, joined_m3_resampled_unioned_m1.values.ravel().tolist().count(1))\n",
    "print(2, joined_m3_resampled_unioned_m1.values.ravel().tolist().count(2))\n"
   ],
   "metadata": {
    "collapsed": false,
    "pycharm": {
     "name": "#%%\n"
    }
   }
  },
  {
   "cell_type": "code",
   "execution_count": 61,
   "outputs": [],
   "source": [
    "# ответ на задачу 1 в ожидаемом формате + форматы по отдельности\n",
    "joined_m3_resampled_unioned_m1.to_parquet('submission_2.parquet')\n",
    "joined_m1_resampled.to_parquet('submission_2_only_M1==1.parquet')\n",
    "joined_m3_resampled_replaced.to_parquet('submission_2_only_M3==2.parquet')\n",
    "\n"
   ],
   "metadata": {
    "collapsed": false,
    "pycharm": {
     "name": "#%%\n"
    }
   }
  },
  {
   "cell_type": "code",
   "execution_count": 8,
   "outputs": [],
   "source": [
    "forecasts_list = {}\n",
    "\n",
    "for idx in [4, 5, 6, 7, 8, 9]:\n",
    "    fc = pd.read_parquet(os.path.join('forecasts', f'forecast_exgauster{idx}.parquet'))\n",
    "    forecasts_list[idx] = fc\n",
    "\n",
    "\n",
    "for idx in []:\n",
    "    fc = pd.read_parquet(os.path.join('forecasts', f'forecast_exgauster{idx}.parquet'))\n",
    "    fc = fc.filter(like='_y')\n",
    "    fc = fc.rename(columns=lambda x: x.rstrip('_y'))\n",
    "    forecasts_list[idx] = fc\n"
   ],
   "metadata": {
    "collapsed": false,
    "pycharm": {
     "name": "#%%\n"
    }
   }
  },
  {
   "cell_type": "code",
   "execution_count": 10,
   "outputs": [
    {
     "data": {
      "text/plain": "16"
     },
     "execution_count": 10,
     "metadata": {},
     "output_type": "execute_result"
    }
   ],
   "source": [
    "len(forecasts_list[9].columns)"
   ],
   "metadata": {
    "collapsed": false,
    "pycharm": {
     "name": "#%%\n"
    }
   }
  },
  {
   "cell_type": "code",
   "execution_count": 12,
   "outputs": [
    {
     "name": "stdout",
     "output_type": "stream",
     "text": [
      "2023-05-10 01:00:00\n",
      "2023-04-10 00:00:00 2023-05-10 01:00:00\n"
     ]
    }
   ],
   "source": [
    "print(forecasts_list[9].index[0], forecasts_list[9].index[-1])"
   ],
   "metadata": {
    "collapsed": false,
    "pycharm": {
     "name": "#%%\n"
    }
   }
  },
  {
   "cell_type": "code",
   "execution_count": 13,
   "outputs": [],
   "source": [
    "forecasts_list_resampled = {}\n",
    "\n",
    "for idx, df in forecasts_list.items():\n",
    "     resampled_df = df.resample('5Min').asfreq().fillna(method='ffill')\n",
    "     fc = resampled_df.drop(resampled_df.index[0])\n",
    "     forecasts_list_resampled[idx] = fc\n"
   ],
   "metadata": {
    "collapsed": false,
    "pycharm": {
     "name": "#%%\n"
    }
   }
  },
  {
   "cell_type": "code",
   "execution_count": 84,
   "outputs": [],
   "source": [
    "test_data = exgausters_data[4].test"
   ],
   "metadata": {
    "collapsed": false,
    "pycharm": {
     "name": "#%%\n"
    }
   }
  },
  {
   "cell_type": "code",
   "execution_count": 83,
   "outputs": [
    {
     "data": {
      "text/plain": "pandas.core.frame.DataFrame"
     },
     "execution_count": 83,
     "metadata": {},
     "output_type": "execute_result"
    }
   ],
   "source": [
    "type(test_data)"
   ],
   "metadata": {
    "collapsed": false,
    "pycharm": {
     "name": "#%%\n"
    }
   }
  },
  {
   "cell_type": "code",
   "execution_count": 85,
   "outputs": [],
   "source": [
    "new_df1 = pd.concat([test_data, forecasts_list_resampled[4]])"
   ],
   "metadata": {
    "collapsed": false,
    "pycharm": {
     "name": "#%%\n"
    }
   }
  },
  {
   "cell_type": "code",
   "execution_count": 87,
   "outputs": [
    {
     "data": {
      "text/plain": "                     ЭКСГАУСТЕР 4. ТОК РОТОРА 1  ЭКСГАУСТЕР 4. ТОК РОТОРА2  \\\n2022-01-01 00:00:00                  247.496667                 247.496667   \n2022-01-01 00:05:00                  247.510000                 247.510000   \n2022-01-01 00:10:00                  247.524333                 247.524333   \n2022-01-01 00:15:00                  247.497667                 247.497667   \n2022-01-01 00:20:00                  247.422667                 247.422667   \n...                                         ...                        ...   \n2023-04-30 23:40:00                  245.507655                 245.248751   \n2023-04-30 23:45:00                  245.507655                 245.248751   \n2023-04-30 23:50:00                  245.507655                 245.248751   \n2023-04-30 23:55:00                  245.507655                 245.248751   \n2023-05-01 00:00:00                  241.306278                 240.577100   \n\n                     ЭКСГАУСТЕР 4. ТОК СТАТОРА  \\\n2022-01-01 00:00:00                 271.203667   \n2022-01-01 00:05:00                 270.190667   \n2022-01-01 00:10:00                 268.929667   \n2022-01-01 00:15:00                 268.851000   \n2022-01-01 00:20:00                 269.148667   \n...                                        ...   \n2023-04-30 23:40:00                 128.731640   \n2023-04-30 23:45:00                 128.731640   \n2023-04-30 23:50:00                 128.731640   \n2023-04-30 23:55:00                 128.731640   \n2023-05-01 00:00:00                 124.573510   \n\n                     ЭКСГАУСТЕР 4. ДАВЛЕНИЕ МАСЛА В СИСТЕМЕ  \\\n2022-01-01 00:00:00                              134.441000   \n2022-01-01 00:05:00                              134.345667   \n2022-01-01 00:10:00                              134.279000   \n2022-01-01 00:15:00                              134.135667   \n2022-01-01 00:20:00                              134.011667   \n...                                                     ...   \n2023-04-30 23:40:00                              105.131238   \n2023-04-30 23:45:00                              105.131238   \n2023-04-30 23:50:00                              105.131238   \n2023-04-30 23:55:00                              105.131238   \n2023-05-01 00:00:00                              105.130560   \n\n                     ЭКСГАУСТЕР 4. ТЕМПЕРАТУРА ПОДШИПНИКА НА ОПОРЕ 1  \\\n2022-01-01 00:00:00                                        42.553103   \n2022-01-01 00:05:00                                        42.703000   \n2022-01-01 00:10:00                                        42.757000   \n2022-01-01 00:15:00                                        42.703000   \n2022-01-01 00:20:00                                        42.811000   \n...                                                              ...   \n2023-04-30 23:40:00                                        41.385403   \n2023-04-30 23:45:00                                        41.385403   \n2023-04-30 23:50:00                                        41.385403   \n2023-04-30 23:55:00                                        41.385403   \n2023-05-01 00:00:00                                        41.325136   \n\n                     ЭКСГАУСТЕР 4. ТЕМПЕРАТУРА ПОДШИПНИКА НА ОПОРЕ 2  \\\n2022-01-01 00:00:00                                        43.135000   \n2022-01-01 00:05:00                                        43.081000   \n2022-01-01 00:10:00                                        43.351000   \n2022-01-01 00:15:00                                        43.135000   \n2022-01-01 00:20:00                                        43.027000   \n...                                                              ...   \n2023-04-30 23:40:00                                        26.153676   \n2023-04-30 23:45:00                                        26.153676   \n2023-04-30 23:50:00                                        26.153676   \n2023-04-30 23:55:00                                        26.153676   \n2023-05-01 00:00:00                                        26.058805   \n\n                     ЭКСГАУСТЕР 4. ТЕМПЕРАТУРА ПОДШИПНИКА НА ОПОРЕ 3  \\\n2022-01-01 00:00:00                                        30.913793   \n2022-01-01 00:05:00                                        30.884000   \n2022-01-01 00:10:00                                        30.911000   \n2022-01-01 00:15:00                                        31.208000   \n2022-01-01 00:20:00                                        31.316000   \n...                                                              ...   \n2023-04-30 23:40:00                                        27.556355   \n2023-04-30 23:45:00                                        27.556355   \n2023-04-30 23:50:00                                        27.556355   \n2023-04-30 23:55:00                                        27.556355   \n2023-05-01 00:00:00                                        27.445440   \n\n                     ЭКСГАУСТЕР 4. ТЕМПЕРАТУРА ПОДШИПНИКА НА ОПОРЕ 4  \\\n2022-01-01 00:00:00                                         34.47500   \n2022-01-01 00:05:00                                         34.55600   \n2022-01-01 00:10:00                                         34.63700   \n2022-01-01 00:15:00                                         34.69100   \n2022-01-01 00:20:00                                         34.71800   \n...                                                              ...   \n2023-04-30 23:40:00                                         31.36450   \n2023-04-30 23:45:00                                         31.36450   \n2023-04-30 23:50:00                                         31.36450   \n2023-04-30 23:55:00                                         31.36450   \n2023-05-01 00:00:00                                         31.28756   \n\n                     ЭКСГАУСТЕР 4. ТЕМПЕРАТУРА МАСЛА В СИСТЕМЕ  \\\n2022-01-01 00:00:00                                  31.359615   \n2022-01-01 00:05:00                                  31.559000   \n2022-01-01 00:10:00                                  31.640000   \n2022-01-01 00:15:00                                  31.721000   \n2022-01-01 00:20:00                                  31.694000   \n...                                                        ...   \n2023-04-30 23:40:00                                  22.867082   \n2023-04-30 23:45:00                                  22.867082   \n2023-04-30 23:50:00                                  22.867082   \n2023-04-30 23:55:00                                  22.867082   \n2023-05-01 00:00:00                                  22.705934   \n\n                     ЭКСГАУСТЕР 4. ТЕМПЕРАТУРА МАСЛА В МАСЛОБЛОКЕ  \\\n2022-01-01 00:00:00                                     32.620526   \n2022-01-01 00:05:00                                     32.612000   \n2022-01-01 00:10:00                                     32.774000   \n2022-01-01 00:15:00                                     33.044000   \n2022-01-01 00:20:00                                     33.044000   \n...                                                           ...   \n2023-04-30 23:40:00                                     30.592384   \n2023-04-30 23:45:00                                     30.592384   \n2023-04-30 23:50:00                                     30.592384   \n2023-04-30 23:55:00                                     30.592384   \n2023-05-01 00:00:00                                     30.532211   \n\n                     ЭКСГАУСТЕР 4. ВИБРАЦИЯ НА ОПОРЕ 1  \\\n2022-01-01 00:00:00                           0.723000   \n2022-01-01 00:05:00                           0.726667   \n2022-01-01 00:10:00                           0.748333   \n2022-01-01 00:15:00                           0.758333   \n2022-01-01 00:20:00                           0.780333   \n...                                                ...   \n2023-04-30 23:40:00                           2.005687   \n2023-04-30 23:45:00                           2.005687   \n2023-04-30 23:50:00                           2.005687   \n2023-04-30 23:55:00                           2.005687   \n2023-05-01 00:00:00                           2.005398   \n\n                     ЭКСГАУСТЕР 4. ВИБРАЦИЯ НА ОПОРЕ 2  \\\n2022-01-01 00:00:00                           1.188000   \n2022-01-01 00:05:00                           1.194667   \n2022-01-01 00:10:00                           1.200333   \n2022-01-01 00:15:00                           1.214333   \n2022-01-01 00:20:00                           1.218333   \n...                                                ...   \n2023-04-30 23:40:00                           1.159304   \n2023-04-30 23:45:00                           1.159304   \n2023-04-30 23:50:00                           1.159304   \n2023-04-30 23:55:00                           1.159304   \n2023-05-01 00:00:00                           1.156354   \n\n                     ЭКСГАУСТЕР 4. ВИБРАЦИЯ НА ОПОРЕ 3  \\\n2022-01-01 00:00:00                           0.342069   \n2022-01-01 00:05:00                           0.315000   \n2022-01-01 00:10:00                           0.313667   \n2022-01-01 00:15:00                           0.324667   \n2022-01-01 00:20:00                           0.358000   \n...                                                ...   \n2023-04-30 23:40:00                           0.897693   \n2023-04-30 23:45:00                           0.897693   \n2023-04-30 23:50:00                           0.897693   \n2023-04-30 23:55:00                           0.897693   \n2023-05-01 00:00:00                           0.895975   \n\n                     ЭКСГАУСТЕР 4. ВИБРАЦИЯ НА ОПОРЕ 3. ПРОДОЛЬНАЯ.  \\\n2022-01-01 00:00:00                                        1.903793   \n2022-01-01 00:05:00                                        1.860333   \n2022-01-01 00:10:00                                        1.904000   \n2022-01-01 00:15:00                                        1.876667   \n2022-01-01 00:20:00                                        1.825000   \n...                                                             ...   \n2023-04-30 23:40:00                                        1.656713   \n2023-04-30 23:45:00                                        1.656713   \n2023-04-30 23:50:00                                        1.656713   \n2023-04-30 23:55:00                                        1.656713   \n2023-05-01 00:00:00                                        1.678751   \n\n                     ЭКСГАУСТЕР 4. ВИБРАЦИЯ НА ОПОРЕ 4  \\\n2022-01-01 00:00:00                           1.810333   \n2022-01-01 00:05:00                           1.853667   \n2022-01-01 00:10:00                           1.719667   \n2022-01-01 00:15:00                           1.770333   \n2022-01-01 00:20:00                           1.853667   \n...                                                ...   \n2023-04-30 23:40:00                           1.833309   \n2023-04-30 23:45:00                           1.833309   \n2023-04-30 23:50:00                           1.833309   \n2023-04-30 23:55:00                           1.833309   \n2023-05-01 00:00:00                           1.798859   \n\n                     ЭКСГАУСТЕР 4. ВИБРАЦИЯ НА ОПОРЕ 4. ПРОДОЛЬНАЯ.  \n2022-01-01 00:00:00                                        1.361000  \n2022-01-01 00:05:00                                        1.368333  \n2022-01-01 00:10:00                                        1.372333  \n2022-01-01 00:15:00                                        1.343333  \n2022-01-01 00:20:00                                        1.395333  \n...                                                             ...  \n2023-04-30 23:40:00                                        0.604046  \n2023-04-30 23:45:00                                        0.604046  \n2023-04-30 23:50:00                                        0.604046  \n2023-04-30 23:55:00                                        0.604046  \n2023-05-01 00:00:00                                        0.607857  \n\n[139682 rows x 16 columns]",
      "text/html": "<div>\n<style scoped>\n    .dataframe tbody tr th:only-of-type {\n        vertical-align: middle;\n    }\n\n    .dataframe tbody tr th {\n        vertical-align: top;\n    }\n\n    .dataframe thead th {\n        text-align: right;\n    }\n</style>\n<table border=\"1\" class=\"dataframe\">\n  <thead>\n    <tr style=\"text-align: right;\">\n      <th></th>\n      <th>ЭКСГАУСТЕР 4. ТОК РОТОРА 1</th>\n      <th>ЭКСГАУСТЕР 4. ТОК РОТОРА2</th>\n      <th>ЭКСГАУСТЕР 4. ТОК СТАТОРА</th>\n      <th>ЭКСГАУСТЕР 4. ДАВЛЕНИЕ МАСЛА В СИСТЕМЕ</th>\n      <th>ЭКСГАУСТЕР 4. ТЕМПЕРАТУРА ПОДШИПНИКА НА ОПОРЕ 1</th>\n      <th>ЭКСГАУСТЕР 4. ТЕМПЕРАТУРА ПОДШИПНИКА НА ОПОРЕ 2</th>\n      <th>ЭКСГАУСТЕР 4. ТЕМПЕРАТУРА ПОДШИПНИКА НА ОПОРЕ 3</th>\n      <th>ЭКСГАУСТЕР 4. ТЕМПЕРАТУРА ПОДШИПНИКА НА ОПОРЕ 4</th>\n      <th>ЭКСГАУСТЕР 4. ТЕМПЕРАТУРА МАСЛА В СИСТЕМЕ</th>\n      <th>ЭКСГАУСТЕР 4. ТЕМПЕРАТУРА МАСЛА В МАСЛОБЛОКЕ</th>\n      <th>ЭКСГАУСТЕР 4. ВИБРАЦИЯ НА ОПОРЕ 1</th>\n      <th>ЭКСГАУСТЕР 4. ВИБРАЦИЯ НА ОПОРЕ 2</th>\n      <th>ЭКСГАУСТЕР 4. ВИБРАЦИЯ НА ОПОРЕ 3</th>\n      <th>ЭКСГАУСТЕР 4. ВИБРАЦИЯ НА ОПОРЕ 3. ПРОДОЛЬНАЯ.</th>\n      <th>ЭКСГАУСТЕР 4. ВИБРАЦИЯ НА ОПОРЕ 4</th>\n      <th>ЭКСГАУСТЕР 4. ВИБРАЦИЯ НА ОПОРЕ 4. ПРОДОЛЬНАЯ.</th>\n    </tr>\n  </thead>\n  <tbody>\n    <tr>\n      <th>2022-01-01 00:00:00</th>\n      <td>247.496667</td>\n      <td>247.496667</td>\n      <td>271.203667</td>\n      <td>134.441000</td>\n      <td>42.553103</td>\n      <td>43.135000</td>\n      <td>30.913793</td>\n      <td>34.47500</td>\n      <td>31.359615</td>\n      <td>32.620526</td>\n      <td>0.723000</td>\n      <td>1.188000</td>\n      <td>0.342069</td>\n      <td>1.903793</td>\n      <td>1.810333</td>\n      <td>1.361000</td>\n    </tr>\n    <tr>\n      <th>2022-01-01 00:05:00</th>\n      <td>247.510000</td>\n      <td>247.510000</td>\n      <td>270.190667</td>\n      <td>134.345667</td>\n      <td>42.703000</td>\n      <td>43.081000</td>\n      <td>30.884000</td>\n      <td>34.55600</td>\n      <td>31.559000</td>\n      <td>32.612000</td>\n      <td>0.726667</td>\n      <td>1.194667</td>\n      <td>0.315000</td>\n      <td>1.860333</td>\n      <td>1.853667</td>\n      <td>1.368333</td>\n    </tr>\n    <tr>\n      <th>2022-01-01 00:10:00</th>\n      <td>247.524333</td>\n      <td>247.524333</td>\n      <td>268.929667</td>\n      <td>134.279000</td>\n      <td>42.757000</td>\n      <td>43.351000</td>\n      <td>30.911000</td>\n      <td>34.63700</td>\n      <td>31.640000</td>\n      <td>32.774000</td>\n      <td>0.748333</td>\n      <td>1.200333</td>\n      <td>0.313667</td>\n      <td>1.904000</td>\n      <td>1.719667</td>\n      <td>1.372333</td>\n    </tr>\n    <tr>\n      <th>2022-01-01 00:15:00</th>\n      <td>247.497667</td>\n      <td>247.497667</td>\n      <td>268.851000</td>\n      <td>134.135667</td>\n      <td>42.703000</td>\n      <td>43.135000</td>\n      <td>31.208000</td>\n      <td>34.69100</td>\n      <td>31.721000</td>\n      <td>33.044000</td>\n      <td>0.758333</td>\n      <td>1.214333</td>\n      <td>0.324667</td>\n      <td>1.876667</td>\n      <td>1.770333</td>\n      <td>1.343333</td>\n    </tr>\n    <tr>\n      <th>2022-01-01 00:20:00</th>\n      <td>247.422667</td>\n      <td>247.422667</td>\n      <td>269.148667</td>\n      <td>134.011667</td>\n      <td>42.811000</td>\n      <td>43.027000</td>\n      <td>31.316000</td>\n      <td>34.71800</td>\n      <td>31.694000</td>\n      <td>33.044000</td>\n      <td>0.780333</td>\n      <td>1.218333</td>\n      <td>0.358000</td>\n      <td>1.825000</td>\n      <td>1.853667</td>\n      <td>1.395333</td>\n    </tr>\n    <tr>\n      <th>...</th>\n      <td>...</td>\n      <td>...</td>\n      <td>...</td>\n      <td>...</td>\n      <td>...</td>\n      <td>...</td>\n      <td>...</td>\n      <td>...</td>\n      <td>...</td>\n      <td>...</td>\n      <td>...</td>\n      <td>...</td>\n      <td>...</td>\n      <td>...</td>\n      <td>...</td>\n      <td>...</td>\n    </tr>\n    <tr>\n      <th>2023-04-30 23:40:00</th>\n      <td>245.507655</td>\n      <td>245.248751</td>\n      <td>128.731640</td>\n      <td>105.131238</td>\n      <td>41.385403</td>\n      <td>26.153676</td>\n      <td>27.556355</td>\n      <td>31.36450</td>\n      <td>22.867082</td>\n      <td>30.592384</td>\n      <td>2.005687</td>\n      <td>1.159304</td>\n      <td>0.897693</td>\n      <td>1.656713</td>\n      <td>1.833309</td>\n      <td>0.604046</td>\n    </tr>\n    <tr>\n      <th>2023-04-30 23:45:00</th>\n      <td>245.507655</td>\n      <td>245.248751</td>\n      <td>128.731640</td>\n      <td>105.131238</td>\n      <td>41.385403</td>\n      <td>26.153676</td>\n      <td>27.556355</td>\n      <td>31.36450</td>\n      <td>22.867082</td>\n      <td>30.592384</td>\n      <td>2.005687</td>\n      <td>1.159304</td>\n      <td>0.897693</td>\n      <td>1.656713</td>\n      <td>1.833309</td>\n      <td>0.604046</td>\n    </tr>\n    <tr>\n      <th>2023-04-30 23:50:00</th>\n      <td>245.507655</td>\n      <td>245.248751</td>\n      <td>128.731640</td>\n      <td>105.131238</td>\n      <td>41.385403</td>\n      <td>26.153676</td>\n      <td>27.556355</td>\n      <td>31.36450</td>\n      <td>22.867082</td>\n      <td>30.592384</td>\n      <td>2.005687</td>\n      <td>1.159304</td>\n      <td>0.897693</td>\n      <td>1.656713</td>\n      <td>1.833309</td>\n      <td>0.604046</td>\n    </tr>\n    <tr>\n      <th>2023-04-30 23:55:00</th>\n      <td>245.507655</td>\n      <td>245.248751</td>\n      <td>128.731640</td>\n      <td>105.131238</td>\n      <td>41.385403</td>\n      <td>26.153676</td>\n      <td>27.556355</td>\n      <td>31.36450</td>\n      <td>22.867082</td>\n      <td>30.592384</td>\n      <td>2.005687</td>\n      <td>1.159304</td>\n      <td>0.897693</td>\n      <td>1.656713</td>\n      <td>1.833309</td>\n      <td>0.604046</td>\n    </tr>\n    <tr>\n      <th>2023-05-01 00:00:00</th>\n      <td>241.306278</td>\n      <td>240.577100</td>\n      <td>124.573510</td>\n      <td>105.130560</td>\n      <td>41.325136</td>\n      <td>26.058805</td>\n      <td>27.445440</td>\n      <td>31.28756</td>\n      <td>22.705934</td>\n      <td>30.532211</td>\n      <td>2.005398</td>\n      <td>1.156354</td>\n      <td>0.895975</td>\n      <td>1.678751</td>\n      <td>1.798859</td>\n      <td>0.607857</td>\n    </tr>\n  </tbody>\n</table>\n<p>139682 rows × 16 columns</p>\n</div>"
     },
     "execution_count": 87,
     "metadata": {},
     "output_type": "execute_result"
    }
   ],
   "source": [
    "new_df1"
   ],
   "metadata": {
    "collapsed": false,
    "pycharm": {
     "name": "#%%\n"
    }
   }
  },
  {
   "cell_type": "code",
   "execution_count": 28,
   "outputs": [
    {
     "name": "stdout",
     "output_type": "stream",
     "text": [
      "make forecast for exgauster 4 m1 feature 0\n"
     ]
    },
    {
     "name": "stderr",
     "output_type": "stream",
     "text": [
      "C:\\devs\\ts\\LTC2023_15\\exgauster\\ts_transformer_for_lgbm.py:62: RuntimeWarning: invalid value encountered in cast\n",
      "  labels = labels_to_fit[window_diff:].ravel().round().astype(np.int32).astype(np.float64)\n"
     ]
    },
    {
     "name": "stdout",
     "output_type": "stream",
     "text": [
      "make forecast for exgauster 4 m1 feature 1\n",
      "make forecast for exgauster 4 m1 feature 2\n",
      "make forecast for exgauster 4 m1 feature 3\n"
     ]
    },
    {
     "name": "stderr",
     "output_type": "stream",
     "text": [
      "C:\\devs\\ts\\LTC2023_15\\exgauster\\ts_transformer_for_lgbm.py:62: RuntimeWarning: invalid value encountered in cast\n",
      "  labels = labels_to_fit[window_diff:].ravel().round().astype(np.int32).astype(np.float64)\n"
     ]
    },
    {
     "name": "stdout",
     "output_type": "stream",
     "text": [
      "make forecast for exgauster 4 m1 feature 4\n",
      "make forecast for exgauster 4 m1 feature 5\n"
     ]
    },
    {
     "name": "stderr",
     "output_type": "stream",
     "text": [
      "C:\\devs\\ts\\LTC2023_15\\exgauster\\ts_transformer_for_lgbm.py:62: RuntimeWarning: invalid value encountered in cast\n",
      "  labels = labels_to_fit[window_diff:].ravel().round().astype(np.int32).astype(np.float64)\n"
     ]
    },
    {
     "name": "stdout",
     "output_type": "stream",
     "text": [
      "make forecast for exgauster 4 m1 feature 6\n"
     ]
    },
    {
     "name": "stderr",
     "output_type": "stream",
     "text": [
      "C:\\devs\\ts\\LTC2023_15\\exgauster\\ts_transformer_for_lgbm.py:62: RuntimeWarning: invalid value encountered in cast\n",
      "  labels = labels_to_fit[window_diff:].ravel().round().astype(np.int32).astype(np.float64)\n"
     ]
    },
    {
     "name": "stdout",
     "output_type": "stream",
     "text": [
      "make forecast for exgauster 4 m1 feature 7\n"
     ]
    },
    {
     "name": "stderr",
     "output_type": "stream",
     "text": [
      "C:\\devs\\ts\\LTC2023_15\\exgauster\\ts_transformer_for_lgbm.py:62: RuntimeWarning: invalid value encountered in cast\n",
      "  labels = labels_to_fit[window_diff:].ravel().round().astype(np.int32).astype(np.float64)\n"
     ]
    },
    {
     "name": "stdout",
     "output_type": "stream",
     "text": [
      "make forecast for exgauster 4 m1 feature 8\n",
      "make forecast for exgauster 4 m1 feature 9\n",
      "make forecast for exgauster 4 m1 feature 10\n",
      "make forecast for exgauster 4 m1 feature 11\n"
     ]
    },
    {
     "name": "stderr",
     "output_type": "stream",
     "text": [
      "C:\\devs\\ts\\LTC2023_15\\exgauster\\ts_transformer_for_lgbm.py:62: RuntimeWarning: invalid value encountered in cast\n",
      "  labels = labels_to_fit[window_diff:].ravel().round().astype(np.int32).astype(np.float64)\n"
     ]
    },
    {
     "name": "stdout",
     "output_type": "stream",
     "text": [
      "make forecast for exgauster 4 m1 feature 12\n",
      "make forecast for exgauster 4 m1 feature 13\n"
     ]
    },
    {
     "name": "stderr",
     "output_type": "stream",
     "text": [
      "C:\\devs\\ts\\LTC2023_15\\exgauster\\ts_transformer_for_lgbm.py:62: RuntimeWarning: invalid value encountered in cast\n",
      "  labels = labels_to_fit[window_diff:].ravel().round().astype(np.int32).astype(np.float64)\n"
     ]
    },
    {
     "name": "stdout",
     "output_type": "stream",
     "text": [
      "make forecast for exgauster 4 m1 feature 14\n"
     ]
    },
    {
     "name": "stderr",
     "output_type": "stream",
     "text": [
      "C:\\devs\\ts\\LTC2023_15\\exgauster\\ts_transformer_for_lgbm.py:62: RuntimeWarning: invalid value encountered in cast\n",
      "  labels = labels_to_fit[window_diff:].ravel().round().astype(np.int32).astype(np.float64)\n"
     ]
    },
    {
     "name": "stdout",
     "output_type": "stream",
     "text": [
      "make forecast for exgauster 4 m1 feature 15\n",
      "make forecast for exgauster 4 m1 feature 16\n",
      "make forecast for exgauster 4 m1 feature 17\n",
      "make forecast for exgauster 4 m1 feature 18\n",
      "make forecast for exgauster 4 m1 feature 19\n",
      "make forecast for exgauster 4 m1 feature 20\n",
      "make forecast for exgauster 4 m1 feature 21\n",
      "make forecast for exgauster 4 m1 feature 22\n",
      "make forecast for exgauster 5 m1 feature 0\n",
      "make forecast for exgauster 5 m1 feature 1\n"
     ]
    },
    {
     "name": "stderr",
     "output_type": "stream",
     "text": [
      "C:\\devs\\ts\\LTC2023_15\\exgauster\\ts_transformer_for_lgbm.py:62: RuntimeWarning: invalid value encountered in cast\n",
      "  labels = labels_to_fit[window_diff:].ravel().round().astype(np.int32).astype(np.float64)\n"
     ]
    },
    {
     "name": "stdout",
     "output_type": "stream",
     "text": [
      "make forecast for exgauster 5 m1 feature 2\n",
      "make forecast for exgauster 5 m1 feature 3\n"
     ]
    },
    {
     "name": "stderr",
     "output_type": "stream",
     "text": [
      "C:\\devs\\ts\\LTC2023_15\\exgauster\\ts_transformer_for_lgbm.py:62: RuntimeWarning: invalid value encountered in cast\n",
      "  labels = labels_to_fit[window_diff:].ravel().round().astype(np.int32).astype(np.float64)\n"
     ]
    },
    {
     "name": "stdout",
     "output_type": "stream",
     "text": [
      "make forecast for exgauster 5 m1 feature 4\n",
      "make forecast for exgauster 5 m1 feature 5\n",
      "make forecast for exgauster 5 m1 feature 6\n",
      "make forecast for exgauster 5 m1 feature 7\n",
      "make forecast for exgauster 5 m1 feature 8\n",
      "make forecast for exgauster 5 m1 feature 9\n",
      "make forecast for exgauster 5 m1 feature 10\n"
     ]
    },
    {
     "name": "stderr",
     "output_type": "stream",
     "text": [
      "C:\\devs\\ts\\LTC2023_15\\exgauster\\ts_transformer_for_lgbm.py:62: RuntimeWarning: invalid value encountered in cast\n",
      "  labels = labels_to_fit[window_diff:].ravel().round().astype(np.int32).astype(np.float64)\n"
     ]
    },
    {
     "name": "stdout",
     "output_type": "stream",
     "text": [
      "make forecast for exgauster 5 m1 feature 11\n",
      "make forecast for exgauster 5 m1 feature 12\n"
     ]
    },
    {
     "name": "stderr",
     "output_type": "stream",
     "text": [
      "C:\\devs\\ts\\LTC2023_15\\exgauster\\ts_transformer_for_lgbm.py:62: RuntimeWarning: invalid value encountered in cast\n",
      "  labels = labels_to_fit[window_diff:].ravel().round().astype(np.int32).astype(np.float64)\n"
     ]
    },
    {
     "name": "stdout",
     "output_type": "stream",
     "text": [
      "make forecast for exgauster 5 m1 feature 13\n",
      "make forecast for exgauster 5 m1 feature 14\n"
     ]
    },
    {
     "name": "stderr",
     "output_type": "stream",
     "text": [
      "C:\\devs\\ts\\LTC2023_15\\exgauster\\ts_transformer_for_lgbm.py:62: RuntimeWarning: invalid value encountered in cast\n",
      "  labels = labels_to_fit[window_diff:].ravel().round().astype(np.int32).astype(np.float64)\n"
     ]
    },
    {
     "name": "stdout",
     "output_type": "stream",
     "text": [
      "make forecast for exgauster 5 m1 feature 15\n",
      "make forecast for exgauster 5 m1 feature 16\n",
      "make forecast for exgauster 5 m1 feature 17\n",
      "make forecast for exgauster 5 m1 feature 18\n"
     ]
    },
    {
     "name": "stderr",
     "output_type": "stream",
     "text": [
      "C:\\devs\\ts\\LTC2023_15\\exgauster\\ts_transformer_for_lgbm.py:62: RuntimeWarning: invalid value encountered in cast\n",
      "  labels = labels_to_fit[window_diff:].ravel().round().astype(np.int32).astype(np.float64)\n"
     ]
    },
    {
     "name": "stdout",
     "output_type": "stream",
     "text": [
      "make forecast for exgauster 5 m1 feature 19\n",
      "make forecast for exgauster 5 m1 feature 20\n",
      "make forecast for exgauster 5 m1 feature 21\n",
      "make forecast for exgauster 5 m1 feature 22\n",
      "make forecast for exgauster 5 m1 feature 23\n",
      "make forecast for exgauster 5 m1 feature 24\n"
     ]
    },
    {
     "name": "stderr",
     "output_type": "stream",
     "text": [
      "C:\\devs\\ts\\LTC2023_15\\exgauster\\ts_transformer_for_lgbm.py:62: RuntimeWarning: invalid value encountered in cast\n",
      "  labels = labels_to_fit[window_diff:].ravel().round().astype(np.int32).astype(np.float64)\n"
     ]
    },
    {
     "name": "stdout",
     "output_type": "stream",
     "text": [
      "make forecast for exgauster 5 m1 feature 25\n",
      "make forecast for exgauster 5 m1 feature 26\n",
      "make forecast for exgauster 5 m1 feature 27\n"
     ]
    },
    {
     "name": "stderr",
     "output_type": "stream",
     "text": [
      "C:\\devs\\ts\\LTC2023_15\\exgauster\\ts_transformer_for_lgbm.py:62: RuntimeWarning: invalid value encountered in cast\n",
      "  labels = labels_to_fit[window_diff:].ravel().round().astype(np.int32).astype(np.float64)\n"
     ]
    },
    {
     "name": "stdout",
     "output_type": "stream",
     "text": [
      "make forecast for exgauster 5 m1 feature 28\n",
      "make forecast for exgauster 5 m1 feature 29\n"
     ]
    },
    {
     "name": "stderr",
     "output_type": "stream",
     "text": [
      "C:\\devs\\ts\\LTC2023_15\\exgauster\\ts_transformer_for_lgbm.py:62: RuntimeWarning: invalid value encountered in cast\n",
      "  labels = labels_to_fit[window_diff:].ravel().round().astype(np.int32).astype(np.float64)\n"
     ]
    },
    {
     "name": "stdout",
     "output_type": "stream",
     "text": [
      "make forecast for exgauster 5 m1 feature 30\n",
      "make forecast for exgauster 5 m1 feature 31\n",
      "make forecast for exgauster 5 m1 feature 32\n",
      "make forecast for exgauster 5 m1 feature 33\n",
      "make forecast for exgauster 6 m1 feature 0\n",
      "make forecast for exgauster 6 m1 feature 1\n",
      "make forecast for exgauster 6 m1 feature 2\n"
     ]
    },
    {
     "name": "stderr",
     "output_type": "stream",
     "text": [
      "C:\\devs\\ts\\LTC2023_15\\exgauster\\ts_transformer_for_lgbm.py:62: RuntimeWarning: invalid value encountered in cast\n",
      "  labels = labels_to_fit[window_diff:].ravel().round().astype(np.int32).astype(np.float64)\n"
     ]
    },
    {
     "name": "stdout",
     "output_type": "stream",
     "text": [
      "make forecast for exgauster 6 m1 feature 3\n",
      "make forecast for exgauster 6 m1 feature 4\n",
      "make forecast for exgauster 6 m1 feature 5\n",
      "make forecast for exgauster 6 m1 feature 6\n",
      "make forecast for exgauster 6 m1 feature 7\n",
      "make forecast for exgauster 6 m1 feature 8\n",
      "make forecast for exgauster 6 m1 feature 9\n",
      "make forecast for exgauster 6 m1 feature 10\n",
      "make forecast for exgauster 6 m1 feature 11\n",
      "make forecast for exgauster 6 m1 feature 12\n",
      "make forecast for exgauster 6 m1 feature 13\n",
      "make forecast for exgauster 6 m1 feature 14\n",
      "make forecast for exgauster 6 m1 feature 15\n",
      "make forecast for exgauster 6 m1 feature 16\n"
     ]
    },
    {
     "name": "stderr",
     "output_type": "stream",
     "text": [
      "C:\\devs\\ts\\LTC2023_15\\exgauster\\ts_transformer_for_lgbm.py:62: RuntimeWarning: invalid value encountered in cast\n",
      "  labels = labels_to_fit[window_diff:].ravel().round().astype(np.int32).astype(np.float64)\n"
     ]
    },
    {
     "name": "stdout",
     "output_type": "stream",
     "text": [
      "make forecast for exgauster 6 m1 feature 17\n"
     ]
    },
    {
     "name": "stderr",
     "output_type": "stream",
     "text": [
      "C:\\devs\\ts\\LTC2023_15\\exgauster\\ts_transformer_for_lgbm.py:62: RuntimeWarning: invalid value encountered in cast\n",
      "  labels = labels_to_fit[window_diff:].ravel().round().astype(np.int32).astype(np.float64)\n"
     ]
    },
    {
     "name": "stdout",
     "output_type": "stream",
     "text": [
      "make forecast for exgauster 6 m1 feature 18\n",
      "make forecast for exgauster 6 m1 feature 19\n",
      "make forecast for exgauster 6 m1 feature 20\n",
      "make forecast for exgauster 6 m1 feature 21\n",
      "make forecast for exgauster 6 m1 feature 22\n",
      "make forecast for exgauster 6 m1 feature 23\n",
      "make forecast for exgauster 6 m1 feature 24\n",
      "make forecast for exgauster 6 m1 feature 25\n",
      "make forecast for exgauster 6 m1 feature 26\n",
      "make forecast for exgauster 7 m1 feature 0\n"
     ]
    },
    {
     "name": "stderr",
     "output_type": "stream",
     "text": [
      "C:\\devs\\ts\\LTC2023_15\\exgauster\\ts_transformer_for_lgbm.py:62: RuntimeWarning: invalid value encountered in cast\n",
      "  labels = labels_to_fit[window_diff:].ravel().round().astype(np.int32).astype(np.float64)\n"
     ]
    },
    {
     "name": "stdout",
     "output_type": "stream",
     "text": [
      "make forecast for exgauster 7 m1 feature 1\n"
     ]
    },
    {
     "name": "stderr",
     "output_type": "stream",
     "text": [
      "C:\\devs\\ts\\LTC2023_15\\exgauster\\ts_transformer_for_lgbm.py:62: RuntimeWarning: invalid value encountered in cast\n",
      "  labels = labels_to_fit[window_diff:].ravel().round().astype(np.int32).astype(np.float64)\n"
     ]
    },
    {
     "name": "stdout",
     "output_type": "stream",
     "text": [
      "make forecast for exgauster 7 m1 feature 2\n",
      "make forecast for exgauster 7 m1 feature 3\n",
      "make forecast for exgauster 7 m1 feature 4\n"
     ]
    },
    {
     "name": "stderr",
     "output_type": "stream",
     "text": [
      "C:\\devs\\ts\\LTC2023_15\\exgauster\\ts_transformer_for_lgbm.py:62: RuntimeWarning: invalid value encountered in cast\n",
      "  labels = labels_to_fit[window_diff:].ravel().round().astype(np.int32).astype(np.float64)\n"
     ]
    },
    {
     "name": "stdout",
     "output_type": "stream",
     "text": [
      "make forecast for exgauster 7 m1 feature 5\n"
     ]
    },
    {
     "name": "stderr",
     "output_type": "stream",
     "text": [
      "C:\\devs\\ts\\LTC2023_15\\exgauster\\ts_transformer_for_lgbm.py:62: RuntimeWarning: invalid value encountered in cast\n",
      "  labels = labels_to_fit[window_diff:].ravel().round().astype(np.int32).astype(np.float64)\n"
     ]
    },
    {
     "name": "stdout",
     "output_type": "stream",
     "text": [
      "make forecast for exgauster 7 m1 feature 6\n",
      "make forecast for exgauster 7 m1 feature 7\n",
      "make forecast for exgauster 7 m1 feature 8\n",
      "make forecast for exgauster 7 m1 feature 9\n",
      "make forecast for exgauster 7 m1 feature 10\n",
      "make forecast for exgauster 7 m1 feature 11\n",
      "make forecast for exgauster 7 m1 feature 12\n",
      "make forecast for exgauster 7 m1 feature 13\n"
     ]
    },
    {
     "name": "stderr",
     "output_type": "stream",
     "text": [
      "C:\\devs\\ts\\LTC2023_15\\exgauster\\ts_transformer_for_lgbm.py:62: RuntimeWarning: invalid value encountered in cast\n",
      "  labels = labels_to_fit[window_diff:].ravel().round().astype(np.int32).astype(np.float64)\n"
     ]
    },
    {
     "name": "stdout",
     "output_type": "stream",
     "text": [
      "make forecast for exgauster 7 m1 feature 14\n",
      "make forecast for exgauster 7 m1 feature 15\n",
      "make forecast for exgauster 7 m1 feature 16\n",
      "make forecast for exgauster 7 m1 feature 17\n"
     ]
    },
    {
     "name": "stderr",
     "output_type": "stream",
     "text": [
      "C:\\devs\\ts\\LTC2023_15\\exgauster\\ts_transformer_for_lgbm.py:62: RuntimeWarning: invalid value encountered in cast\n",
      "  labels = labels_to_fit[window_diff:].ravel().round().astype(np.int32).astype(np.float64)\n"
     ]
    },
    {
     "name": "stdout",
     "output_type": "stream",
     "text": [
      "make forecast for exgauster 7 m1 feature 18\n",
      "make forecast for exgauster 7 m1 feature 19\n",
      "make forecast for exgauster 7 m1 feature 20\n",
      "make forecast for exgauster 7 m1 feature 21\n",
      "make forecast for exgauster 7 m1 feature 22\n",
      "make forecast for exgauster 7 m1 feature 23\n",
      "make forecast for exgauster 7 m1 feature 24\n",
      "make forecast for exgauster 7 m1 feature 25\n",
      "make forecast for exgauster 7 m1 feature 26\n",
      "make forecast for exgauster 7 m1 feature 27\n",
      "make forecast for exgauster 7 m1 feature 28\n",
      "make forecast for exgauster 7 m1 feature 29\n",
      "make forecast for exgauster 7 m1 feature 30\n",
      "make forecast for exgauster 7 m1 feature 31\n",
      "make forecast for exgauster 8 m1 feature 0\n"
     ]
    },
    {
     "name": "stderr",
     "output_type": "stream",
     "text": [
      "C:\\devs\\ts\\LTC2023_15\\exgauster\\ts_transformer_for_lgbm.py:62: RuntimeWarning: invalid value encountered in cast\n",
      "  labels = labels_to_fit[window_diff:].ravel().round().astype(np.int32).astype(np.float64)\n"
     ]
    },
    {
     "name": "stdout",
     "output_type": "stream",
     "text": [
      "make forecast for exgauster 8 m1 feature 1\n"
     ]
    },
    {
     "name": "stderr",
     "output_type": "stream",
     "text": [
      "C:\\devs\\ts\\LTC2023_15\\exgauster\\ts_transformer_for_lgbm.py:62: RuntimeWarning: invalid value encountered in cast\n",
      "  labels = labels_to_fit[window_diff:].ravel().round().astype(np.int32).astype(np.float64)\n"
     ]
    },
    {
     "name": "stdout",
     "output_type": "stream",
     "text": [
      "make forecast for exgauster 8 m1 feature 2\n",
      "make forecast for exgauster 8 m1 feature 3\n",
      "make forecast for exgauster 8 m1 feature 4\n",
      "make forecast for exgauster 8 m1 feature 5\n",
      "make forecast for exgauster 8 m1 feature 6\n",
      "make forecast for exgauster 8 m1 feature 7\n",
      "make forecast for exgauster 8 m1 feature 8\n"
     ]
    },
    {
     "name": "stderr",
     "output_type": "stream",
     "text": [
      "C:\\devs\\ts\\LTC2023_15\\exgauster\\ts_transformer_for_lgbm.py:62: RuntimeWarning: invalid value encountered in cast\n",
      "  labels = labels_to_fit[window_diff:].ravel().round().astype(np.int32).astype(np.float64)\n"
     ]
    },
    {
     "name": "stdout",
     "output_type": "stream",
     "text": [
      "make forecast for exgauster 8 m1 feature 9\n",
      "make forecast for exgauster 8 m1 feature 10\n",
      "make forecast for exgauster 8 m1 feature 11\n",
      "make forecast for exgauster 8 m1 feature 12\n",
      "make forecast for exgauster 8 m1 feature 13\n",
      "make forecast for exgauster 8 m1 feature 14\n",
      "make forecast for exgauster 8 m1 feature 15\n"
     ]
    },
    {
     "name": "stderr",
     "output_type": "stream",
     "text": [
      "C:\\devs\\ts\\LTC2023_15\\exgauster\\ts_transformer_for_lgbm.py:62: RuntimeWarning: invalid value encountered in cast\n",
      "  labels = labels_to_fit[window_diff:].ravel().round().astype(np.int32).astype(np.float64)\n"
     ]
    },
    {
     "name": "stdout",
     "output_type": "stream",
     "text": [
      "make forecast for exgauster 8 m1 feature 16\n",
      "make forecast for exgauster 8 m1 feature 17\n",
      "make forecast for exgauster 8 m1 feature 18\n",
      "make forecast for exgauster 8 m1 feature 19\n"
     ]
    },
    {
     "name": "stderr",
     "output_type": "stream",
     "text": [
      "C:\\devs\\ts\\LTC2023_15\\exgauster\\ts_transformer_for_lgbm.py:62: RuntimeWarning: invalid value encountered in cast\n",
      "  labels = labels_to_fit[window_diff:].ravel().round().astype(np.int32).astype(np.float64)\n"
     ]
    },
    {
     "name": "stdout",
     "output_type": "stream",
     "text": [
      "make forecast for exgauster 8 m1 feature 20\n",
      "make forecast for exgauster 8 m1 feature 21\n"
     ]
    },
    {
     "name": "stderr",
     "output_type": "stream",
     "text": [
      "C:\\devs\\ts\\LTC2023_15\\exgauster\\ts_transformer_for_lgbm.py:62: RuntimeWarning: invalid value encountered in cast\n",
      "  labels = labels_to_fit[window_diff:].ravel().round().astype(np.int32).astype(np.float64)\n"
     ]
    },
    {
     "name": "stdout",
     "output_type": "stream",
     "text": [
      "make forecast for exgauster 8 m1 feature 22\n",
      "make forecast for exgauster 8 m1 feature 23\n",
      "make forecast for exgauster 8 m1 feature 24\n",
      "make forecast for exgauster 8 m1 feature 25\n",
      "make forecast for exgauster 8 m1 feature 26\n",
      "make forecast for exgauster 8 m1 feature 27\n",
      "make forecast for exgauster 8 m1 feature 28\n",
      "make forecast for exgauster 8 m1 feature 29\n",
      "make forecast for exgauster 8 m1 feature 30\n",
      "make forecast for exgauster 9 m1 feature 0\n",
      "make forecast for exgauster 9 m1 feature 1\n",
      "make forecast for exgauster 9 m1 feature 2\n",
      "make forecast for exgauster 9 m1 feature 3\n",
      "make forecast for exgauster 9 m1 feature 4\n",
      "make forecast for exgauster 9 m1 feature 5\n",
      "make forecast for exgauster 9 m1 feature 6\n",
      "make forecast for exgauster 9 m1 feature 7\n",
      "make forecast for exgauster 9 m1 feature 8\n",
      "make forecast for exgauster 9 m1 feature 9\n"
     ]
    },
    {
     "name": "stderr",
     "output_type": "stream",
     "text": [
      "C:\\devs\\ts\\LTC2023_15\\exgauster\\ts_transformer_for_lgbm.py:62: RuntimeWarning: invalid value encountered in cast\n",
      "  labels = labels_to_fit[window_diff:].ravel().round().astype(np.int32).astype(np.float64)\n"
     ]
    },
    {
     "name": "stdout",
     "output_type": "stream",
     "text": [
      "make forecast for exgauster 9 m1 feature 10\n",
      "make forecast for exgauster 9 m1 feature 11\n",
      "make forecast for exgauster 9 m1 feature 12\n",
      "make forecast for exgauster 9 m1 feature 13\n",
      "make forecast for exgauster 9 m1 feature 14\n",
      "make forecast for exgauster 9 m1 feature 15\n",
      "make forecast for exgauster 9 m1 feature 16\n",
      "make forecast for exgauster 9 m1 feature 17\n",
      "make forecast for exgauster 9 m1 feature 18\n",
      "make forecast for exgauster 9 m1 feature 19\n",
      "make forecast for exgauster 9 m1 feature 20\n",
      "make forecast for exgauster 9 m1 feature 21\n",
      "make forecast for exgauster 9 m1 feature 22\n",
      "make forecast for exgauster 9 m1 feature 23\n",
      "make forecast for exgauster 9 m1 feature 24\n",
      "make forecast for exgauster 9 m1 feature 25\n",
      "make forecast for exgauster 9 m1 feature 26\n",
      "make forecast for exgauster 9 m1 feature 27\n"
     ]
    },
    {
     "name": "stderr",
     "output_type": "stream",
     "text": [
      "C:\\devs\\ts\\LTC2023_15\\exgauster\\ts_transformer_for_lgbm.py:62: RuntimeWarning: invalid value encountered in cast\n",
      "  labels = labels_to_fit[window_diff:].ravel().round().astype(np.int32).astype(np.float64)\n"
     ]
    }
   ],
   "source": [
    "\n",
    "forecasts_m1_with_future = make_forecasts_on_test('m1', forecasts_list_resampled)\n",
    "# forecasts_m3_with_future = make_forecasts_on_test('m3', forecasts_list_resampled)\n",
    "\n",
    "\n"
   ],
   "metadata": {
    "collapsed": false,
    "pycharm": {
     "name": "#%%\n"
    }
   }
  },
  {
   "cell_type": "code",
   "execution_count": 32,
   "outputs": [],
   "source": [
    "\n",
    "joined_with_future_m1 = join_forecasts_to_df(forecasts_m1_with_future)\n",
    "joined_with_future_m3 = join_forecasts_to_df(forecasts_m3_with_future)\n"
   ],
   "metadata": {
    "collapsed": false,
    "pycharm": {
     "name": "#%%\n"
    }
   }
  },
  {
   "cell_type": "code",
   "execution_count": 30,
   "outputs": [
    {
     "data": {
      "text/plain": "Timestamp('2023-05-10 01:00:00', freq='5T')"
     },
     "execution_count": 30,
     "metadata": {},
     "output_type": "execute_result"
    }
   ],
   "source": [
    "forecasts_m1_with_future[0].index[-1]\n"
   ],
   "metadata": {
    "collapsed": false,
    "pycharm": {
     "name": "#%%\n"
    }
   }
  },
  {
   "cell_type": "code",
   "execution_count": 33,
   "outputs": [],
   "source": [
    "joined_with_future_m1.to_parquet('m1_answers_with_future_noresampled.parquet')\n",
    "joined_with_future_m3.to_parquet('m3_answers_with_future_noresampled.parquet')\n"
   ],
   "metadata": {
    "collapsed": false,
    "pycharm": {
     "name": "#%%\n"
    }
   }
  },
  {
   "cell_type": "code",
   "execution_count": 25,
   "outputs": [
    {
     "data": {
      "text/plain": "Timestamp('2023-04-10 00:00:00', freq='5T')"
     },
     "execution_count": 25,
     "metadata": {},
     "output_type": "execute_result"
    }
   ],
   "source": [
    "joined_with_future_m1.index[-1]"
   ],
   "metadata": {
    "collapsed": false,
    "pycharm": {
     "name": "#%%\n"
    }
   }
  },
  {
   "cell_type": "code",
   "execution_count": 17,
   "outputs": [],
   "source": [
    "test_exgauster_num = 9\n",
    "test_booster = exgauster_map_8_9[test_exgauster_num]['m1'][9].booster\n",
    "test_test_data = exgausters_data[test_exgauster_num].test\n"
   ],
   "metadata": {
    "collapsed": false,
    "pycharm": {
     "name": "#%%\n"
    }
   }
  },
  {
   "cell_type": "code",
   "execution_count": 25,
   "outputs": [
    {
     "data": {
      "text/plain": "Timestamp('2023-04-10 00:00:00', freq='5T')"
     },
     "execution_count": 25,
     "metadata": {},
     "output_type": "execute_result"
    }
   ],
   "source": [
    "test_test_data.index[-1]"
   ],
   "metadata": {
    "collapsed": false,
    "pycharm": {
     "name": "#%%\n"
    }
   }
  },
  {
   "cell_type": "code",
   "execution_count": 20,
   "outputs": [
    {
     "data": {
      "text/plain": "Timestamp('2023-05-10 01:00:00', freq='5T')"
     },
     "execution_count": 20,
     "metadata": {},
     "output_type": "execute_result"
    }
   ],
   "source": [
    "forecasts_list_resampled[test_exgauster_num].index[-1]\n"
   ],
   "metadata": {
    "collapsed": false,
    "pycharm": {
     "name": "#%%\n"
    }
   }
  },
  {
   "cell_type": "code",
   "execution_count": 21,
   "outputs": [
    {
     "data": {
      "text/plain": "Timestamp('2023-05-10 01:00:00', freq='5T')"
     },
     "execution_count": 21,
     "metadata": {},
     "output_type": "execute_result"
    }
   ],
   "source": [
    "test_x_for_forecast.index[-1]\n"
   ],
   "metadata": {
    "collapsed": false,
    "pycharm": {
     "name": "#%%\n"
    }
   }
  },
  {
   "cell_type": "code",
   "execution_count": null,
   "outputs": [],
   "source": [
    "ts_test = TimeSeries.from_pd(test_test_data).align()\n",
    "ts_test"
   ],
   "metadata": {
    "collapsed": false,
    "pycharm": {
     "name": "#%%\n"
    }
   }
  },
  {
   "cell_type": "code",
   "execution_count": 22,
   "outputs": [
    {
     "name": "stderr",
     "output_type": "stream",
     "text": [
      "C:\\devs\\ts\\LTC2023_15\\exgauster\\ts_transformer_for_lgbm.py:62: RuntimeWarning: invalid value encountered in cast\n",
      "  labels = labels_to_fit[window_diff:].ravel().round().astype(np.int32).astype(np.float64)\n"
     ]
    }
   ],
   "source": [
    "\n",
    "test_x_for_forecast = pd.concat([test_test_data, forecasts_list_resampled[test_exgauster_num]])\n",
    "\n",
    "fc, err = test_booster.model.forecast(test_booster.x_train, TimeSeries.from_pd(test_x_for_forecast).align())\n"
   ],
   "metadata": {
    "collapsed": false,
    "pycharm": {
     "name": "#%%\n"
    }
   }
  },
  {
   "cell_type": "code",
   "execution_count": 23,
   "outputs": [
    {
     "data": {
      "text/plain": "Timestamp('2023-05-10 01:00:00', freq='5T')"
     },
     "execution_count": 23,
     "metadata": {},
     "output_type": "execute_result"
    }
   ],
   "source": [
    "fc.index[-1]"
   ],
   "metadata": {
    "collapsed": false,
    "pycharm": {
     "name": "#%%\n"
    }
   }
  },
  {
   "cell_type": "code",
   "execution_count": 32,
   "outputs": [
    {
     "data": {
      "text/plain": "48"
     },
     "execution_count": 32,
     "metadata": {},
     "output_type": "execute_result"
    }
   ],
   "source": [
    "len(test_x_for_forecast.columns)"
   ],
   "metadata": {
    "collapsed": false,
    "pycharm": {
     "name": "#%%\n"
    }
   }
  },
  {
   "cell_type": "code",
   "execution_count": 33,
   "outputs": [
    {
     "data": {
      "text/plain": "32"
     },
     "execution_count": 33,
     "metadata": {},
     "output_type": "execute_result"
    }
   ],
   "source": [
    "len(forecasts_list_resampled[test_exgauster_num].columns)"
   ],
   "metadata": {
    "collapsed": false,
    "pycharm": {
     "name": "#%%\n"
    }
   }
  },
  {
   "cell_type": "code",
   "execution_count": 34,
   "outputs": [
    {
     "data": {
      "text/plain": "16"
     },
     "execution_count": 34,
     "metadata": {},
     "output_type": "execute_result"
    }
   ],
   "source": [
    "len(test_test_data.columns)"
   ],
   "metadata": {
    "collapsed": false,
    "pycharm": {
     "name": "#%%\n"
    }
   }
  },
  {
   "cell_type": "code",
   "execution_count": 36,
   "outputs": [
    {
     "name": "stdout",
     "output_type": "stream",
     "text": [
      "False ЭКСГАУСТЕР 9. ТОК РОТОРА 1 ЭКСГАУСТЕР 9. ТОК РОТОРА 1_x\n",
      "False ЭКСГАУСТЕР 9. ТОК РОТОРА 2 ЭКСГАУСТЕР 9. ТОК РОТОРА 2_x\n",
      "False ЭКСГАУСТЕР 9. ТОК СТАТОРА ЭКСГАУСТЕР 9. ТОК СТАТОРА_x\n",
      "False ЭКСГАУСТЕР 9. ДАВЛЕНИЕ МАСЛА В СИСТЕМЕ ЭКСГАУСТЕР 9. ДАВЛЕНИЕ МАСЛА В СИСТЕМЕ_x\n",
      "False ЭКСГАУСТЕР 9. ТЕМПЕРАТУРА ПОДШИПНИКА НА ОПОРЕ 1 ЭКСГАУСТЕР 9. ТЕМПЕРАТУРА ПОДШИПНИКА НА ОПОРЕ 1_x\n",
      "False ЭКСГАУСТЕР 9. ТЕМПЕРАТУРА ПОДШИПНИКА НА ОПОРЕ 2 ЭКСГАУСТЕР 9. ТЕМПЕРАТУРА ПОДШИПНИКА НА ОПОРЕ 2_x\n",
      "False ЭКСГАУСТЕР 9. ТЕМПЕРАТУРА ПОДШИПНИКА НА ОПОРЕ 3 ЭКСГАУСТЕР 9. ТЕМПЕРАТУРА ПОДШИПНИКА НА ОПОРЕ 3_x\n",
      "False ЭКСГАУСТЕР 9. ТЕМПЕРАТУРА ПОДШИПНИКА НА ОПОРЕ 4 ЭКСГАУСТЕР 9. ТЕМПЕРАТУРА ПОДШИПНИКА НА ОПОРЕ 4_x\n",
      "False ЭКСГАУСТЕР 9. ТЕМПЕРАТУРА МАСЛА В СИСТЕМЕ ЭКСГАУСТЕР 9. ТЕМПЕРАТУРА МАСЛА В СИСТЕМЕ_x\n",
      "False ЭКСГАУСТЕР 9. ТЕМПЕРАТУРА МАСЛА В МАСЛОБЛОКЕ ЭКСГАУСТЕР 9. ТЕМПЕРАТУРА МАСЛА В МАСЛОБЛОКЕ_x\n",
      "False ЭКСГАУСТЕР 9. ВИБРАЦИЯ НА ОПОРЕ 1 ЭКСГАУСТЕР 9. ВИБРАЦИЯ НА ОПОРЕ 1_x\n",
      "False ЭКСГАУСТЕР 9. ВИБРАЦИЯ НА ОПОРЕ 2 ЭКСГАУСТЕР 9. ВИБРАЦИЯ НА ОПОРЕ 2_x\n",
      "False ЭКСГАУСТЕР 9. ВИБРАЦИЯ НА ОПОРЕ 3 ЭКСГАУСТЕР 9. ВИБРАЦИЯ НА ОПОРЕ 3_x\n",
      "False ЭКСГАУСТЕР 9. ВИБРАЦИЯ НА ОПОРЕ 3. ПРОДОЛЬНАЯ. ЭКСГАУСТЕР 9. ВИБРАЦИЯ НА ОПОРЕ 3. ПРОДОЛЬНАЯ._x\n",
      "False ЭКСГАУСТЕР 9. ВИБРАЦИЯ НА ОПОРЕ 4 ЭКСГАУСТЕР 9. ВИБРАЦИЯ НА ОПОРЕ 4_x\n",
      "False ЭКСГАУСТЕР 9. ВИБРАЦИЯ НА ОПОРЕ 4. ПРОДОЛЬНАЯ. ЭКСГАУСТЕР 9. ВИБРАЦИЯ НА ОПОРЕ 4. ПРОДОЛЬНАЯ._x\n"
     ]
    }
   ],
   "source": [
    "for idx, colname in enumerate(test_test_data.columns):\n",
    "    print(colname == forecasts_list_resampled[test_exgauster_num].columns[idx], colname, forecasts_list_resampled[test_exgauster_num].columns[idx], )"
   ],
   "metadata": {
    "collapsed": false,
    "pycharm": {
     "name": "#%%\n"
    }
   }
  },
  {
   "cell_type": "code",
   "execution_count": 38,
   "outputs": [
    {
     "name": "stdout",
     "output_type": "stream",
     "text": [
      "4 0 ЭКСГАУСТЕР 4. ТОК РОТОРА 1\n",
      "4 1 ЭКСГАУСТЕР 4. ТОК РОТОРА2\n",
      "4 2 ЭКСГАУСТЕР 4. ТОК СТАТОРА\n",
      "4 3 ЭКСГАУСТЕР 4. ДАВЛЕНИЕ МАСЛА В СИСТЕМЕ\n",
      "4 4 ЭКСГАУСТЕР 4. ТЕМПЕРАТУРА ПОДШИПНИКА НА ОПОРЕ 1\n",
      "4 5 ЭКСГАУСТЕР 4. ТЕМПЕРАТУРА ПОДШИПНИКА НА ОПОРЕ 2\n",
      "4 6 ЭКСГАУСТЕР 4. ТЕМПЕРАТУРА ПОДШИПНИКА НА ОПОРЕ 3\n",
      "4 7 ЭКСГАУСТЕР 4. ТЕМПЕРАТУРА ПОДШИПНИКА НА ОПОРЕ 4\n",
      "4 8 ЭКСГАУСТЕР 4. ТЕМПЕРАТУРА МАСЛА В СИСТЕМЕ\n",
      "4 9 ЭКСГАУСТЕР 4. ТЕМПЕРАТУРА МАСЛА В МАСЛОБЛОКЕ\n",
      "4 10 ЭКСГАУСТЕР 4. ВИБРАЦИЯ НА ОПОРЕ 1\n",
      "4 11 ЭКСГАУСТЕР 4. ВИБРАЦИЯ НА ОПОРЕ 2\n",
      "4 12 ЭКСГАУСТЕР 4. ВИБРАЦИЯ НА ОПОРЕ 3\n",
      "4 13 ЭКСГАУСТЕР 4. ВИБРАЦИЯ НА ОПОРЕ 3. ПРОДОЛЬНАЯ.\n",
      "4 14 ЭКСГАУСТЕР 4. ВИБРАЦИЯ НА ОПОРЕ 4\n",
      "4 15 ЭКСГАУСТЕР 4. ВИБРАЦИЯ НА ОПОРЕ 4. ПРОДОЛЬНАЯ.\n",
      "5 0 ЭКСГАУСТЕР 5. ТОК РОТОРА 1\n",
      "5 1 ЭКСГАУСТЕР 5. ТОК РОТОРА 2\n",
      "5 2 ЭКСГАУСТЕР 5. ТОК СТАТОРА\n",
      "5 3 ЭКСГАУСТЕР 5. ДАВЛЕНИЕ МАСЛА В СИСТЕМЕ\n",
      "5 4 ЭКСГАУСТЕР 5. ТЕМПЕРАТУРА ПОДШИПНИКА НА ОПОРЕ 1\n",
      "5 5 ЭКСГАУСТЕР 5. ТЕМПЕРАТУРА ПОДШИПНИКА НА ОПОРЕ 2\n",
      "5 6 ЭКСГАУСТЕР 5. ТЕМПЕРАТУРА ПОДШИПНИКА НА ОПОРЕ 3\n",
      "5 7 ЭКСГАУСТЕР 5. ТЕМПЕРАТУРА ПОДШИПНИКА НА ОПОРЕ 4\n",
      "5 8 ЭКСГАУСТЕР 5. ТЕМПЕРАТУРА МАСЛА В СИСТЕМЕ\n",
      "5 9 ЭКСГАУСТЕР 5. ТЕМПЕРАТУРА МАСЛА В МАСЛОБЛОКЕ\n",
      "5 10 ЭКСГАУСТЕР 5. ВИБРАЦИЯ НА ОПОРЕ 1\n",
      "5 11 ЭКСГАУСТЕР 5. ВИБРАЦИЯ НА ОПОРЕ 2\n",
      "5 12 ЭКСГАУСТЕР 5. ВИБРАЦИЯ НА ОПОРЕ 3\n",
      "5 13 ЭКСГАУСТЕР 5. ВИБРАЦИЯ НА ОПОРЕ 3. ПРОДОЛЬНАЯ.\n",
      "5 14 ЭКСГАУСТЕР 5. ВИБРАЦИЯ НА ОПОРЕ 4\n",
      "5 15 ЭКСГАУСТЕР 5. ВИБРАЦИЯ НА ОПОРЕ 4. ПРОДОЛЬНАЯ.\n",
      "6 0 ЭКСГАУСТЕР 6. ТОК РОТОРА 1\n",
      "6 1 ЭКСГАУСТЕР 6. ТОК РОТОРА 2\n",
      "6 2 ЭКСГАУСТЕР 6. ТОК СТАТОРА\n",
      "6 3 ЭКСГАУСТЕР 6. ДАВЛЕНИЕ МАСЛА В СИСТЕМЕ\n",
      "6 4 ЭКСГАУСТЕР 6. ТЕМПЕРАТУРА ПОДШИПНИКА НА ОПОРЕ 1\n",
      "6 5 ЭКСГАУСТЕР 6. ТЕМПЕРАТУРА ПОДШИПНИКА НА ОПОРЕ 2\n",
      "6 6 ЭКСГАУСТЕР 6. ТЕМПЕРАТУРА ПОДШИПНИКА НА ОПОРЕ 3\n",
      "6 7 ЭКСГАУСТЕР 6. ТЕМПЕРАТУРА ПОДШИПНИКА НА ОПОРЕ 4\n",
      "6 8 ЭКСГАУСТЕР 6. ТЕМПЕРАТУРА МАСЛА В СИСТЕМЕ\n",
      "6 9 ЭКСГАУСТЕР 6. ТЕМПЕРАТУРА МАСЛА В МАСЛОБЛОКЕ\n",
      "6 10 ЭКСГАУСТЕР 6. ВИБРАЦИЯ НА ОПОРЕ 1\n",
      "6 11 ЭКСГАУСТЕР 6. ВИБРАЦИЯ НА ОПОРЕ 2\n",
      "6 12 ЭКСГАУСТЕР 6. ВИБРАЦИЯ НА ОПОРЕ 3\n",
      "6 13 ЭКСГАУСТЕР 6. ВИБРАЦИЯ НА ОПОРЕ 3. ПРОДОЛЬНАЯ.\n",
      "6 14 ЭКСГАУСТЕР 6. ВИБРАЦИЯ НА ОПОРЕ 4\n",
      "6 15 ЭКСГАУСТЕР 6. ВИБРАЦИЯ НА ОПОРЕ 4. ПРОДОЛЬНАЯ.\n",
      "7 0 ЭКСГАУСТЕР 7. ТОК РОТОРА 1\n",
      "7 1 ЭКСГАУСТЕР 7. ТОК РОТОРА 2\n",
      "7 2 ЭКСГАУСТЕР 7. ТОК СТАТОРА\n",
      "7 3 ЭКСГАУСТЕР 7. ДАВЛЕНИЕ МАСЛА В СИСТЕМЕ\n",
      "7 4 ЭКСГАУСТЕР 7. ТЕМПЕРАТУРА ПОДШИПНИКА НА ОПОРЕ 1\n",
      "7 5 ЭКСГАУСТЕР 7. ТЕМПЕРАТУРА ПОДШИПНИКА НА ОПОРЕ 2\n",
      "7 6 ЭКСГАУСТЕР 7. ТЕМПЕРАТУРА ПОДШИПНИКА НА ОПОРЕ 3\n",
      "7 7 ЭКСГАУСТЕР 7. ТЕМПЕРАТУРА ПОДШИПНИКА НА ОПОРЕ 4\n",
      "7 8 ЭКСГАУСТЕР 7. ТЕМПЕРАТУРА МАСЛА В СИСТЕМЕ\n",
      "7 9 ЭКСГАУСТЕР 7. ТЕМПЕРАТУРА МАСЛА В МАСЛОБЛОКЕ\n",
      "7 10 ЭКСГАУСТЕР 7. ВИБРАЦИЯ НА ОПОРЕ 1\n",
      "7 11 ЭКСГАУСТЕР 7. ВИБРАЦИЯ НА ОПОРЕ 2\n",
      "7 12 ЭКСГАУСТЕР 7. ВИБРАЦИЯ НА ОПОРЕ 3\n",
      "7 13 ЭКСГАУСТЕР 7. ВИБРАЦИЯ НА ОПОРЕ 3. ПРОДОЛЬНАЯ.\n",
      "7 14 ЭКСГАУСТЕР 7. ВИБРАЦИЯ НА ОПОРЕ 4\n",
      "7 15 ЭКСГАУСТЕР 7. ВИБРАЦИЯ НА ОПОРЕ 4. ПРОДОЛЬНАЯ.\n",
      "8 0 ЭКСГАУСТЕР 8. ТОК РОТОРА 1\n",
      "8 1 ЭКСГАУСТЕР 8. ТОК РОТОРА 2\n",
      "8 2 ЭКСГАУСТЕР 8. ТОК СТАТОРА\n",
      "8 3 ЭКСГАУСТЕР 8. ДАВЛЕНИЕ МАСЛА В СИСТЕМЕ\n",
      "8 4 ЭКСГАУСТЕР 8. ТЕМПЕРАТУРА ПОДШИПНИКА НА ОПОРЕ 1\n",
      "8 5 ЭКСГАУСТЕР 8. ТЕМПЕРАТУРА ПОДШИПНИКА НА ОПОРЕ 2\n",
      "8 6 ЭКСГАУСТЕР 8. ТЕМПЕРАТУРА ПОДШИПНИКА НА ОПОРЕ 3\n",
      "8 7 ЭКСГАУСТЕР 8. ТЕМПЕРАТУРА ПОДШИПНИКА НА ОПОРЕ 4\n",
      "8 8 ЭКСГАУСТЕР 8. ТЕМПЕРАТУРА МАСЛА В СИСТЕМЕ\n",
      "8 9 ЭКСГАУСТЕР 8. ТЕМПЕРАТУРА МАСЛА В МАСЛОБЛОКЕ\n",
      "8 10 ЭКСГАУСТЕР 8. ВИБРАЦИЯ НА ОПОРЕ 1\n",
      "8 11 ЭКСГАУСТЕР 8. ВИБРАЦИЯ НА ОПОРЕ 2\n",
      "8 12 ЭКСГАУСТЕР 8. ВИБРАЦИЯ НА ОПОРЕ 3\n",
      "8 13 ЭКСГАУСТЕР 8. ВИБРАЦИЯ НА ОПОРЕ 3. ПРОДОЛЬНАЯ.\n",
      "8 14 ЭКСГАУСТЕР 8. ВИБРАЦИЯ НА ОПОРЕ 4\n",
      "8 15 ЭКСГАУСТЕР 8. ВИБРАЦИЯ НА ОПОРЕ 4. ПРОДОЛЬНАЯ.\n",
      "9 0 ЭКСГАУСТЕР 9. ТОК РОТОРА 1_x\n",
      "9 1 ЭКСГАУСТЕР 9. ТОК РОТОРА 2_x\n",
      "9 2 ЭКСГАУСТЕР 9. ТОК СТАТОРА_x\n",
      "9 3 ЭКСГАУСТЕР 9. ДАВЛЕНИЕ МАСЛА В СИСТЕМЕ_x\n",
      "9 4 ЭКСГАУСТЕР 9. ТЕМПЕРАТУРА ПОДШИПНИКА НА ОПОРЕ 1_x\n",
      "9 5 ЭКСГАУСТЕР 9. ТЕМПЕРАТУРА ПОДШИПНИКА НА ОПОРЕ 2_x\n",
      "9 6 ЭКСГАУСТЕР 9. ТЕМПЕРАТУРА ПОДШИПНИКА НА ОПОРЕ 3_x\n",
      "9 7 ЭКСГАУСТЕР 9. ТЕМПЕРАТУРА ПОДШИПНИКА НА ОПОРЕ 4_x\n",
      "9 8 ЭКСГАУСТЕР 9. ТЕМПЕРАТУРА МАСЛА В СИСТЕМЕ_x\n",
      "9 9 ЭКСГАУСТЕР 9. ТЕМПЕРАТУРА МАСЛА В МАСЛОБЛОКЕ_x\n",
      "9 10 ЭКСГАУСТЕР 9. ВИБРАЦИЯ НА ОПОРЕ 1_x\n",
      "9 11 ЭКСГАУСТЕР 9. ВИБРАЦИЯ НА ОПОРЕ 2_x\n",
      "9 12 ЭКСГАУСТЕР 9. ВИБРАЦИЯ НА ОПОРЕ 3_x\n",
      "9 13 ЭКСГАУСТЕР 9. ВИБРАЦИЯ НА ОПОРЕ 3. ПРОДОЛЬНАЯ._x\n",
      "9 14 ЭКСГАУСТЕР 9. ВИБРАЦИЯ НА ОПОРЕ 4_x\n",
      "9 15 ЭКСГАУСТЕР 9. ВИБРАЦИЯ НА ОПОРЕ 4. ПРОДОЛЬНАЯ._x\n",
      "9 16 ЭКСГАУСТЕР 9. ТОК РОТОРА 1_y\n",
      "9 17 ЭКСГАУСТЕР 9. ТОК РОТОРА 2_y\n",
      "9 18 ЭКСГАУСТЕР 9. ТОК СТАТОРА_y\n",
      "9 19 ЭКСГАУСТЕР 9. ДАВЛЕНИЕ МАСЛА В СИСТЕМЕ_y\n",
      "9 20 ЭКСГАУСТЕР 9. ТЕМПЕРАТУРА ПОДШИПНИКА НА ОПОРЕ 1_y\n",
      "9 21 ЭКСГАУСТЕР 9. ТЕМПЕРАТУРА ПОДШИПНИКА НА ОПОРЕ 2_y\n",
      "9 22 ЭКСГАУСТЕР 9. ТЕМПЕРАТУРА ПОДШИПНИКА НА ОПОРЕ 3_y\n",
      "9 23 ЭКСГАУСТЕР 9. ТЕМПЕРАТУРА ПОДШИПНИКА НА ОПОРЕ 4_y\n",
      "9 24 ЭКСГАУСТЕР 9. ТЕМПЕРАТУРА МАСЛА В СИСТЕМЕ_y\n",
      "9 25 ЭКСГАУСТЕР 9. ТЕМПЕРАТУРА МАСЛА В МАСЛОБЛОКЕ_y\n",
      "9 26 ЭКСГАУСТЕР 9. ВИБРАЦИЯ НА ОПОРЕ 1_y\n",
      "9 27 ЭКСГАУСТЕР 9. ВИБРАЦИЯ НА ОПОРЕ 2_y\n",
      "9 28 ЭКСГАУСТЕР 9. ВИБРАЦИЯ НА ОПОРЕ 3_y\n",
      "9 29 ЭКСГАУСТЕР 9. ВИБРАЦИЯ НА ОПОРЕ 3. ПРОДОЛЬНАЯ._y\n",
      "9 30 ЭКСГАУСТЕР 9. ВИБРАЦИЯ НА ОПОРЕ 4_y\n",
      "9 31 ЭКСГАУСТЕР 9. ВИБРАЦИЯ НА ОПОРЕ 4. ПРОДОЛЬНАЯ._y\n"
     ]
    }
   ],
   "source": [
    "for i in range(4,10):\n",
    "    for idx, colname in enumerate(forecasts_list_resampled[i].columns):\n",
    "        print(i, idx, colname)\n"
   ],
   "metadata": {
    "collapsed": false,
    "pycharm": {
     "name": "#%%\n"
    }
   }
  },
  {
   "cell_type": "code",
   "execution_count": 39,
   "outputs": [],
   "source": [
    "data = pd.read_parquet(os.path.join('forecasts', f'forecast_exgauster{9}.parquet'))\n"
   ],
   "metadata": {
    "collapsed": false,
    "pycharm": {
     "name": "#%%\n"
    }
   }
  },
  {
   "cell_type": "code",
   "execution_count": 41,
   "outputs": [
    {
     "name": "stdout",
     "output_type": "stream",
     "text": [
      "16\n"
     ]
    }
   ],
   "source": [
    "data = data.filter(like='_y')\n",
    "data = data.rename(columns=lambda x: x.rstrip('_y'))\n",
    "\n",
    "print(len(data.columns))"
   ],
   "metadata": {
    "collapsed": false,
    "pycharm": {
     "name": "#%%\n"
    }
   }
  }
 ],
 "metadata": {
  "kernelspec": {
   "display_name": "Python 3",
   "language": "python",
   "name": "python3"
  },
  "language_info": {
   "codemirror_mode": {
    "name": "ipython",
    "version": 2
   },
   "file_extension": ".py",
   "mimetype": "text/x-python",
   "name": "python",
   "nbconvert_exporter": "python",
   "pygments_lexer": "ipython2",
   "version": "2.7.6"
  }
 },
 "nbformat": 4,
 "nbformat_minor": 0
}