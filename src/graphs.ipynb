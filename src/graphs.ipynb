{
 "cells": [
  {
   "cell_type": "code",
   "execution_count": 1,
   "outputs": [],
   "source": [
    "import pandas as pd\n",
    "import os\n",
    "import pyarrow\n",
    "import openpyxl\n"
   ],
   "metadata": {
    "collapsed": false,
    "pycharm": {
     "name": "#%%\n"
    }
   }
  },
  {
   "cell_type": "code",
   "execution_count": 17,
   "outputs": [],
   "source": [
    "from dataclasses import dataclass\n",
    "import numpy as np\n",
    "\n",
    "resample_rule = '5min'\n",
    "\n",
    "\n",
    "def resampler_by_treshold(x, treshold):\n",
    "    # здесь может быть ваш код для ресемплирования\n",
    "    max_elem = np.amax(x)\n",
    "    if max_elem > treshold:\n",
    "        return max_elem\n",
    "    else:\n",
    "        return x.mean()\n",
    "\n",
    "def positive(x):\n",
    "    val = x.mean()\n",
    "    return val if val >= 0 else 0.0\n",
    "\n",
    "\n",
    "def default_resampler(x):\n",
    "    return resampler_by_treshold(x, 100000)\n",
    "\n",
    "\n",
    "\n",
    "def resampler_current_startor(x):\n",
    "    return resampler_by_treshold(x, 1000)\n",
    "\n",
    "def resampler_vibroplatform4_prodol(x):\n",
    "    return resampler_by_treshold(x, 10)\n",
    "\n",
    "def resampler_vibroplatform4_prodol(x):\n",
    "    return resampler_by_treshold(x, 10)\n",
    "\n",
    "def resampler_vibroplatform3(x):\n",
    "    return resampler_by_treshold(x, 7)\n",
    "\n",
    "\n",
    "@dataclass\n",
    "class TrainData:\n",
    "    all: pd.DataFrame\n",
    "    filtered_na_marked_ffill: pd.DataFrame\n",
    "    filtered_na_marked_mean: pd.DataFrame\n",
    "    filtered_resampled_na_ffill: pd.DataFrame\n",
    "    filtered_resampled_na_mean: pd.DataFrame\n",
    "    filtered_resampled_na_ffill_to_mean: pd.DataFrame\n",
    "\n",
    "    @classmethod\n",
    "    def construct_from(cls, all, filtered):\n",
    "        na_marked = filtered.fillna(-5)\n",
    "        na_ffilled = filtered.fillna(method='ffill')\n",
    "        na_ffilled_rolling_window = filtered.fillna(filtered.rolling(2, min_periods=1).mean())\n",
    "\n",
    "        columns = na_ffilled_rolling_window.columns\n",
    "        columns_names = {\n",
    "            i: name for i, name in enumerate(na_ffilled_rolling_window.columns)\n",
    "        }\n",
    "        apply_mapping = {\n",
    "            i: 'mean' for i in range(16)\n",
    "        }\n",
    "        # apply_mapping[2] = resampler_current_startor\n",
    "        apply_mapping[12] = resampler_vibroplatform3\n",
    "        apply_mapping[15] = resampler_vibroplatform4_prodol\n",
    "\n",
    "        transformed_mappings = {\n",
    "           columns_names[idx]: mapping for (idx, mapping) in apply_mapping.items()\n",
    "        }\n",
    "        # print(columns_names[2])\n",
    "        print(columns_names[12])\n",
    "        print(columns_names[15])\n",
    "\n",
    "        return TrainData(\n",
    "            all=all,\n",
    "            filtered_na_marked_ffill=na_marked.resample(resample_rule).ffill(),\n",
    "            filtered_na_marked_mean=na_marked.resample(resample_rule).mean(),\n",
    "            filtered_resampled_na_ffill=na_ffilled.resample(resample_rule).ffill(),\n",
    "            # filtered_resampled_na_mean=na_ffilled_rolling_window.resample(resample_rule).mean(),\n",
    "            filtered_resampled_na_mean=na_ffilled_rolling_window.resample(resample_rule).mean(),\n",
    "            filtered_resampled_na_ffill_to_mean=na_ffilled.resample(resample_rule).mean()\n",
    "        )\n",
    "\n",
    "\n",
    "\n",
    "\n"
   ],
   "metadata": {
    "collapsed": false,
    "pycharm": {
     "name": "#%%\n"
    }
   }
  },
  {
   "cell_type": "code",
   "execution_count": 3,
   "outputs": [],
   "source": [
    "train_or_test = 'train' if True else 'test'\n",
    "x_all = pd.read_parquet(os.path.join('..', 'Датасеты', f'X_{train_or_test}.parquet'), engine='pyarrow')\n",
    "x_filtered = x_all[[x for x in x_all.columns if f'ЭКСГАУСТЕР {4}' in x ]]\n",
    "\n",
    "\n"
   ],
   "metadata": {
    "collapsed": false,
    "pycharm": {
     "name": "#%%\n"
    }
   }
  },
  {
   "cell_type": "code",
   "execution_count": 31,
   "outputs": [
    {
     "name": "stdout",
     "output_type": "stream",
     "text": [
      "ЭКСГАУСТЕР 4. ТОК СТАТОРА\n",
      "ЭКСГАУСТЕР 4. ВИБРАЦИЯ НА ОПОРЕ 3\n",
      "ЭКСГАУСТЕР 4. ВИБРАЦИЯ НА ОПОРЕ 4. ПРОДОЛЬНАЯ.\n"
     ]
    }
   ],
   "source": [
    "\n",
    "val = TrainData.construct_from(x_all, x_filtered)\n",
    "\n"
   ],
   "metadata": {
    "collapsed": false,
    "pycharm": {
     "name": "#%%\n"
    }
   }
  },
  {
   "cell_type": "code",
   "execution_count": null,
   "outputs": [],
   "source": [
    "\n",
    "plot_x(val.filtered_resampled_na_mean,     f'exg{4}_train_filtered_resampled_na_mean')\n"
   ],
   "metadata": {
    "collapsed": false,
    "pycharm": {
     "name": "#%%\n"
    }
   }
  },
  {
   "cell_type": "code",
   "execution_count": 4,
   "outputs": [],
   "source": [
    "import matplotlib.pyplot as plt\n",
    "\n",
    "\n",
    "def plot_x(X, filename):\n",
    "    fig, axs = plt.subplots(len(X.columns), 1, figsize=(20, 100))\n",
    "    for i, head in enumerate(X.columns):\n",
    "        ax = axs[i]\n",
    "        ax.plot(X.index, X[head], label=head)\n",
    "        ax.set_xlim(X.index[0], X.index[-1])\n",
    "        ax.axhline(y=0, color='red')\n",
    "        ax.legend()\n",
    "\n",
    "    plt.plot()\n",
    "    plt.savefig(filename + '.png', dpi=300)\n",
    "    plt.clf()\n",
    "\n",
    "\n",
    "def plot_y(y, filename):\n",
    "    fig, axs = plt.subplots(len(y.columns), 1, figsize=(20, 20))\n",
    "\n",
    "    for j, head in enumerate(y.columns):\n",
    "        ax = axs[j]\n",
    "        ax.plot(y.index, y[head], label=head)\n",
    "        ax.set_xlim(y.index[0], y.index[-1])\n",
    "        ax.axhline(y=0, color='red')\n",
    "        ax.legend()\n",
    "    plt.savefig(gilename + '.png', dpi=300)\n",
    "    plt.clf()\n"
   ],
   "metadata": {
    "collapsed": false,
    "pycharm": {
     "name": "#%%\n"
    }
   }
  },
  {
   "cell_type": "code",
   "execution_count": 13,
   "outputs": [
    {
     "ename": "KeyError",
     "evalue": "'Column(s) [0, 1, 2, 3, 4, 5, 6, 7, 8, 9, 10, 11, 12, 13, 14, 15] do not exist'",
     "output_type": "error",
     "traceback": [
      "\u001B[1;31m---------------------------------------------------------------------------\u001B[0m",
      "\u001B[1;31mKeyError\u001B[0m                                  Traceback (most recent call last)",
      "Cell \u001B[1;32mIn[13], line 1\u001B[0m\n\u001B[1;32m----> 1\u001B[0m train_x_data \u001B[38;5;241m=\u001B[39m \u001B[43mload_x_data_for_exgauster\u001B[49m\u001B[43m(\u001B[49m\u001B[43mexgauster_num\u001B[49m\u001B[38;5;241;43m=\u001B[39;49m\u001B[38;5;241;43m4\u001B[39;49m\u001B[43m,\u001B[49m\u001B[43m \u001B[49m\u001B[43mis_train\u001B[49m\u001B[38;5;241;43m=\u001B[39;49m\u001B[38;5;28;43;01mTrue\u001B[39;49;00m\u001B[43m)\u001B[49m\n\u001B[0;32m      2\u001B[0m plot_x(train_x_data\u001B[38;5;241m.\u001B[39mfiltered_na_marked_mean,     \u001B[38;5;124mf\u001B[39m\u001B[38;5;124m'\u001B[39m\u001B[38;5;124mexg\u001B[39m\u001B[38;5;132;01m{\u001B[39;00m\u001B[38;5;241m4\u001B[39m\u001B[38;5;132;01m}\u001B[39;00m\u001B[38;5;124m_train_filtered_na_marked_mean\u001B[39m\u001B[38;5;124m'\u001B[39m)\n",
      "Cell \u001B[1;32mIn[11], line 56\u001B[0m, in \u001B[0;36mload_x_data_for_exgauster\u001B[1;34m(exgauster_num, is_train)\u001B[0m\n\u001B[0;32m     54\u001B[0m x_all \u001B[38;5;241m=\u001B[39m pd\u001B[38;5;241m.\u001B[39mread_parquet(os\u001B[38;5;241m.\u001B[39mpath\u001B[38;5;241m.\u001B[39mjoin(\u001B[38;5;124m'\u001B[39m\u001B[38;5;124m..\u001B[39m\u001B[38;5;124m'\u001B[39m, \u001B[38;5;124m'\u001B[39m\u001B[38;5;124mДатасеты\u001B[39m\u001B[38;5;124m'\u001B[39m, \u001B[38;5;124mf\u001B[39m\u001B[38;5;124m'\u001B[39m\u001B[38;5;124mX_\u001B[39m\u001B[38;5;132;01m{\u001B[39;00mtrain_or_test\u001B[38;5;132;01m}\u001B[39;00m\u001B[38;5;124m.parquet\u001B[39m\u001B[38;5;124m'\u001B[39m), engine\u001B[38;5;241m=\u001B[39m\u001B[38;5;124m'\u001B[39m\u001B[38;5;124mpyarrow\u001B[39m\u001B[38;5;124m'\u001B[39m)\n\u001B[0;32m     55\u001B[0m x_filtered \u001B[38;5;241m=\u001B[39m x_all[[x \u001B[38;5;28;01mfor\u001B[39;00m x \u001B[38;5;129;01min\u001B[39;00m x_all\u001B[38;5;241m.\u001B[39mcolumns \u001B[38;5;28;01mif\u001B[39;00m \u001B[38;5;124mf\u001B[39m\u001B[38;5;124m'\u001B[39m\u001B[38;5;124mЭКСГАУСТЕР \u001B[39m\u001B[38;5;132;01m{\u001B[39;00mexgauster_num\u001B[38;5;132;01m}\u001B[39;00m\u001B[38;5;124m'\u001B[39m \u001B[38;5;129;01min\u001B[39;00m x ]]\n\u001B[1;32m---> 56\u001B[0m \u001B[38;5;28;01mreturn\u001B[39;00m \u001B[43mTrainData\u001B[49m\u001B[38;5;241;43m.\u001B[39;49m\u001B[43mconstruct_from\u001B[49m\u001B[43m(\u001B[49m\u001B[43mx_all\u001B[49m\u001B[43m,\u001B[49m\u001B[43m \u001B[49m\u001B[43mx_filtered\u001B[49m\u001B[43m)\u001B[49m\n",
      "Cell \u001B[1;32mIn[11], line 46\u001B[0m, in \u001B[0;36mTrainData.construct_from\u001B[1;34m(cls, all, filtered)\u001B[0m\n\u001B[0;32m     34\u001B[0m apply_mapping \u001B[38;5;241m=\u001B[39m {\n\u001B[0;32m     35\u001B[0m     i: \u001B[38;5;124m'\u001B[39m\u001B[38;5;124mmean\u001B[39m\u001B[38;5;124m'\u001B[39m \u001B[38;5;28;01mfor\u001B[39;00m i \u001B[38;5;129;01min\u001B[39;00m \u001B[38;5;28mrange\u001B[39m(\u001B[38;5;241m16\u001B[39m)\n\u001B[0;32m     36\u001B[0m }\n\u001B[0;32m     37\u001B[0m apply_mapping[\u001B[38;5;241m3\u001B[39m] \u001B[38;5;241m=\u001B[39m resampler_current_startor\n\u001B[0;32m     40\u001B[0m \u001B[38;5;28;01mreturn\u001B[39;00m TrainData(\n\u001B[0;32m     41\u001B[0m     \u001B[38;5;28mall\u001B[39m\u001B[38;5;241m=\u001B[39m\u001B[38;5;28mall\u001B[39m,\n\u001B[0;32m     42\u001B[0m     filtered_na_marked_ffill\u001B[38;5;241m=\u001B[39mna_marked\u001B[38;5;241m.\u001B[39mresample(resample_rule)\u001B[38;5;241m.\u001B[39mffill(),\n\u001B[0;32m     43\u001B[0m     filtered_na_marked_mean\u001B[38;5;241m=\u001B[39mna_marked\u001B[38;5;241m.\u001B[39mresample(resample_rule)\u001B[38;5;241m.\u001B[39mmean(),\n\u001B[0;32m     44\u001B[0m     filtered_resampled_na_ffill\u001B[38;5;241m=\u001B[39mna_ffilled\u001B[38;5;241m.\u001B[39mresample(resample_rule)\u001B[38;5;241m.\u001B[39mffill(),\n\u001B[0;32m     45\u001B[0m     \u001B[38;5;66;03m# filtered_resampled_na_mean=na_ffilled_rolling_window.resample(resample_rule).mean()\u001B[39;00m\n\u001B[1;32m---> 46\u001B[0m     filtered_resampled_na_mean\u001B[38;5;241m=\u001B[39m\u001B[43mna_ffilled_rolling_window\u001B[49m\u001B[38;5;241;43m.\u001B[39;49m\u001B[43mresample\u001B[49m\u001B[43m(\u001B[49m\u001B[43mresample_rule\u001B[49m\u001B[43m)\u001B[49m\u001B[38;5;241;43m.\u001B[39;49m\u001B[43mapply\u001B[49m\u001B[43m(\u001B[49m\u001B[43mapply_mapping\u001B[49m\u001B[43m)\u001B[49m,\n\u001B[0;32m     47\u001B[0m )\n",
      "File \u001B[1;32mC:\\tools\\miniconda3\\envs\\stal\\lib\\site-packages\\pandas\\core\\resample.py:352\u001B[0m, in \u001B[0;36mResampler.aggregate\u001B[1;34m(self, func, *args, **kwargs)\u001B[0m\n\u001B[0;32m    343\u001B[0m \u001B[38;5;129m@doc\u001B[39m(\n\u001B[0;32m    344\u001B[0m     _shared_docs[\u001B[38;5;124m\"\u001B[39m\u001B[38;5;124maggregate\u001B[39m\u001B[38;5;124m\"\u001B[39m],\n\u001B[0;32m    345\u001B[0m     see_also\u001B[38;5;241m=\u001B[39m_agg_see_also_doc,\n\u001B[1;32m   (...)\u001B[0m\n\u001B[0;32m    349\u001B[0m )\n\u001B[0;32m    350\u001B[0m \u001B[38;5;28;01mdef\u001B[39;00m \u001B[38;5;21maggregate\u001B[39m(\u001B[38;5;28mself\u001B[39m, func\u001B[38;5;241m=\u001B[39m\u001B[38;5;28;01mNone\u001B[39;00m, \u001B[38;5;241m*\u001B[39margs, \u001B[38;5;241m*\u001B[39m\u001B[38;5;241m*\u001B[39mkwargs):\n\u001B[1;32m--> 352\u001B[0m     result \u001B[38;5;241m=\u001B[39m \u001B[43mResamplerWindowApply\u001B[49m\u001B[43m(\u001B[49m\u001B[38;5;28;43mself\u001B[39;49m\u001B[43m,\u001B[49m\u001B[43m \u001B[49m\u001B[43mfunc\u001B[49m\u001B[43m,\u001B[49m\u001B[43m \u001B[49m\u001B[43margs\u001B[49m\u001B[38;5;241;43m=\u001B[39;49m\u001B[43margs\u001B[49m\u001B[43m,\u001B[49m\u001B[43m \u001B[49m\u001B[43mkwargs\u001B[49m\u001B[38;5;241;43m=\u001B[39;49m\u001B[43mkwargs\u001B[49m\u001B[43m)\u001B[49m\u001B[38;5;241;43m.\u001B[39;49m\u001B[43magg\u001B[49m\u001B[43m(\u001B[49m\u001B[43m)\u001B[49m\n\u001B[0;32m    353\u001B[0m     \u001B[38;5;28;01mif\u001B[39;00m result \u001B[38;5;129;01mis\u001B[39;00m \u001B[38;5;28;01mNone\u001B[39;00m:\n\u001B[0;32m    354\u001B[0m         how \u001B[38;5;241m=\u001B[39m func\n",
      "File \u001B[1;32mC:\\tools\\miniconda3\\envs\\stal\\lib\\site-packages\\pandas\\core\\apply.py:172\u001B[0m, in \u001B[0;36mApply.agg\u001B[1;34m(self)\u001B[0m\n\u001B[0;32m    169\u001B[0m     \u001B[38;5;28;01mreturn\u001B[39;00m \u001B[38;5;28mself\u001B[39m\u001B[38;5;241m.\u001B[39mapply_str()\n\u001B[0;32m    171\u001B[0m \u001B[38;5;28;01mif\u001B[39;00m is_dict_like(arg):\n\u001B[1;32m--> 172\u001B[0m     \u001B[38;5;28;01mreturn\u001B[39;00m \u001B[38;5;28;43mself\u001B[39;49m\u001B[38;5;241;43m.\u001B[39;49m\u001B[43magg_dict_like\u001B[49m\u001B[43m(\u001B[49m\u001B[43m)\u001B[49m\n\u001B[0;32m    173\u001B[0m \u001B[38;5;28;01melif\u001B[39;00m is_list_like(arg):\n\u001B[0;32m    174\u001B[0m     \u001B[38;5;66;03m# we require a list, but not a 'str'\u001B[39;00m\n\u001B[0;32m    175\u001B[0m     \u001B[38;5;28;01mreturn\u001B[39;00m \u001B[38;5;28mself\u001B[39m\u001B[38;5;241m.\u001B[39magg_list_like()\n",
      "File \u001B[1;32mC:\\tools\\miniconda3\\envs\\stal\\lib\\site-packages\\pandas\\core\\apply.py:496\u001B[0m, in \u001B[0;36mApply.agg_dict_like\u001B[1;34m(self)\u001B[0m\n\u001B[0;32m    493\u001B[0m     selected_obj \u001B[38;5;241m=\u001B[39m obj\u001B[38;5;241m.\u001B[39m_selected_obj\n\u001B[0;32m    494\u001B[0m     selection \u001B[38;5;241m=\u001B[39m obj\u001B[38;5;241m.\u001B[39m_selection\n\u001B[1;32m--> 496\u001B[0m arg \u001B[38;5;241m=\u001B[39m \u001B[38;5;28;43mself\u001B[39;49m\u001B[38;5;241;43m.\u001B[39;49m\u001B[43mnormalize_dictlike_arg\u001B[49m\u001B[43m(\u001B[49m\u001B[38;5;124;43m\"\u001B[39;49m\u001B[38;5;124;43magg\u001B[39;49m\u001B[38;5;124;43m\"\u001B[39;49m\u001B[43m,\u001B[49m\u001B[43m \u001B[49m\u001B[43mselected_obj\u001B[49m\u001B[43m,\u001B[49m\u001B[43m \u001B[49m\u001B[43marg\u001B[49m\u001B[43m)\u001B[49m\n\u001B[0;32m    498\u001B[0m \u001B[38;5;28;01mif\u001B[39;00m selected_obj\u001B[38;5;241m.\u001B[39mndim \u001B[38;5;241m==\u001B[39m \u001B[38;5;241m1\u001B[39m:\n\u001B[0;32m    499\u001B[0m     \u001B[38;5;66;03m# key only used for output\u001B[39;00m\n\u001B[0;32m    500\u001B[0m     colg \u001B[38;5;241m=\u001B[39m obj\u001B[38;5;241m.\u001B[39m_gotitem(selection, ndim\u001B[38;5;241m=\u001B[39m\u001B[38;5;241m1\u001B[39m)\n",
      "File \u001B[1;32mC:\\tools\\miniconda3\\envs\\stal\\lib\\site-packages\\pandas\\core\\apply.py:619\u001B[0m, in \u001B[0;36mApply.normalize_dictlike_arg\u001B[1;34m(self, how, obj, func)\u001B[0m\n\u001B[0;32m    617\u001B[0m     \u001B[38;5;28;01mif\u001B[39;00m \u001B[38;5;28mlen\u001B[39m(cols) \u001B[38;5;241m>\u001B[39m \u001B[38;5;241m0\u001B[39m:\n\u001B[0;32m    618\u001B[0m         cols_sorted \u001B[38;5;241m=\u001B[39m \u001B[38;5;28mlist\u001B[39m(safe_sort(\u001B[38;5;28mlist\u001B[39m(cols)))\n\u001B[1;32m--> 619\u001B[0m         \u001B[38;5;28;01mraise\u001B[39;00m \u001B[38;5;167;01mKeyError\u001B[39;00m(\u001B[38;5;124mf\u001B[39m\u001B[38;5;124m\"\u001B[39m\u001B[38;5;124mColumn(s) \u001B[39m\u001B[38;5;132;01m{\u001B[39;00mcols_sorted\u001B[38;5;132;01m}\u001B[39;00m\u001B[38;5;124m do not exist\u001B[39m\u001B[38;5;124m\"\u001B[39m)\n\u001B[0;32m    621\u001B[0m aggregator_types \u001B[38;5;241m=\u001B[39m (\u001B[38;5;28mlist\u001B[39m, \u001B[38;5;28mtuple\u001B[39m, \u001B[38;5;28mdict\u001B[39m)\n\u001B[0;32m    623\u001B[0m \u001B[38;5;66;03m# if we have a dict of any non-scalars\u001B[39;00m\n\u001B[0;32m    624\u001B[0m \u001B[38;5;66;03m# eg. {'A' : ['mean']}, normalize all to\u001B[39;00m\n\u001B[0;32m    625\u001B[0m \u001B[38;5;66;03m# be list-likes\u001B[39;00m\n\u001B[0;32m    626\u001B[0m \u001B[38;5;66;03m# Cannot use func.values() because arg may be a Series\u001B[39;00m\n",
      "\u001B[1;31mKeyError\u001B[0m: 'Column(s) [0, 1, 2, 3, 4, 5, 6, 7, 8, 9, 10, 11, 12, 13, 14, 15] do not exist'"
     ]
    }
   ],
   "source": [
    "\n",
    "\n",
    "\n",
    "train_x_data = load_x_data_for_exgauster(exgauster_num=4, is_train=True)\n",
    "\n"
   ],
   "metadata": {
    "collapsed": false,
    "pycharm": {
     "name": "#%%\n"
    }
   }
  },
  {
   "cell_type": "code",
   "execution_count": null,
   "outputs": [],
   "source": [
    "\n",
    "plot_x(train_x_data.filtered_na_marked_mean,     f'exg{4}_train_filtered_na_marked_mean')\n",
    "\n"
   ],
   "metadata": {
    "collapsed": false,
    "pycharm": {
     "name": "#%%\n"
    }
   }
  },
  {
   "cell_type": "code",
   "execution_count": 19,
   "outputs": [
    {
     "name": "stdout",
     "output_type": "stream",
     "text": [
      "ЭКСГАУСТЕР 4. ВИБРАЦИЯ НА ОПОРЕ 3\n",
      "ЭКСГАУСТЕР 4. ВИБРАЦИЯ НА ОПОРЕ 4. ПРОДОЛЬНАЯ.\n",
      "ЭКСГАУСТЕР 4. ВИБРАЦИЯ НА ОПОРЕ 3\n",
      "ЭКСГАУСТЕР 4. ВИБРАЦИЯ НА ОПОРЕ 4. ПРОДОЛЬНАЯ.\n",
      "exg4_test_filtered_na_marked_ffil\n",
      "exg4_test_filtered_na_marked_mean\n",
      "exg4_test_filtered_resampled_na_ffill\n",
      "exg4_test_filtered_resampled_na_mean\n",
      "exg4_test_filtered_resampled_na_ffill_to_mean\n",
      "ЭКСГАУСТЕР 5. ВИБРАЦИЯ НА ОПОРЕ 3\n",
      "ЭКСГАУСТЕР 5. ВИБРАЦИЯ НА ОПОРЕ 4. ПРОДОЛЬНАЯ.\n",
      "ЭКСГАУСТЕР 5. ВИБРАЦИЯ НА ОПОРЕ 3\n",
      "ЭКСГАУСТЕР 5. ВИБРАЦИЯ НА ОПОРЕ 4. ПРОДОЛЬНАЯ.\n",
      "exg5_test_filtered_na_marked_ffil\n",
      "exg5_test_filtered_na_marked_mean\n",
      "exg5_test_filtered_resampled_na_ffill\n",
      "exg5_test_filtered_resampled_na_mean\n"
     ]
    },
    {
     "name": "stderr",
     "output_type": "stream",
     "text": [
      "C:\\Users\\artem\\AppData\\Local\\Temp\\ipykernel_30920\\4157132090.py:5: RuntimeWarning: More than 20 figures have been opened. Figures created through the pyplot interface (`matplotlib.pyplot.figure`) are retained until explicitly closed and may consume too much memory. (To control this warning, see the rcParam `figure.max_open_warning`). Consider using `matplotlib.pyplot.close()`.\n",
      "  fig, axs = plt.subplots(len(X.columns), 1, figsize=(20, 100))\n"
     ]
    },
    {
     "name": "stdout",
     "output_type": "stream",
     "text": [
      "exg5_test_filtered_resampled_na_ffill_to_mean\n",
      "ЭКСГАУСТЕР 6. ВИБРАЦИЯ НА ОПОРЕ 3\n",
      "ЭКСГАУСТЕР 6. ВИБРАЦИЯ НА ОПОРЕ 4. ПРОДОЛЬНАЯ.\n",
      "ЭКСГАУСТЕР 6. ВИБРАЦИЯ НА ОПОРЕ 3\n",
      "ЭКСГАУСТЕР 6. ВИБРАЦИЯ НА ОПОРЕ 4. ПРОДОЛЬНАЯ.\n",
      "exg6_test_filtered_na_marked_ffil\n",
      "exg6_test_filtered_na_marked_mean\n",
      "exg6_test_filtered_resampled_na_ffill\n",
      "exg6_test_filtered_resampled_na_mean\n",
      "exg6_test_filtered_resampled_na_ffill_to_mean\n",
      "ЭКСГАУСТЕР 7. ВИБРАЦИЯ НА ОПОРЕ 3\n",
      "ЭКСГАУСТЕР 7. ВИБРАЦИЯ НА ОПОРЕ 4. ПРОДОЛЬНАЯ.\n",
      "ЭКСГАУСТЕР 7. ВИБРАЦИЯ НА ОПОРЕ 3\n",
      "ЭКСГАУСТЕР 7. ВИБРАЦИЯ НА ОПОРЕ 4. ПРОДОЛЬНАЯ.\n",
      "exg7_test_filtered_na_marked_ffil\n",
      "exg7_test_filtered_na_marked_mean\n",
      "exg7_test_filtered_resampled_na_ffill\n",
      "exg7_test_filtered_resampled_na_mean\n",
      "exg7_test_filtered_resampled_na_ffill_to_mean\n",
      "ЭКСГАУСТЕР 8. ВИБРАЦИЯ НА ОПОРЕ 3\n",
      "ЭКСГАУСТЕР 8. ВИБРАЦИЯ НА ОПОРЕ 4. ПРОДОЛЬНАЯ.\n",
      "ЭКСГАУСТЕР 8. ВИБРАЦИЯ НА ОПОРЕ 3\n",
      "ЭКСГАУСТЕР 8. ВИБРАЦИЯ НА ОПОРЕ 4. ПРОДОЛЬНАЯ.\n",
      "exg8_test_filtered_na_marked_ffil\n",
      "exg8_test_filtered_na_marked_mean\n",
      "exg8_test_filtered_resampled_na_ffill\n",
      "exg8_test_filtered_resampled_na_mean\n",
      "exg8_test_filtered_resampled_na_ffill_to_mean\n",
      "ЭКСГАУСТЕР 9. ВИБРАЦИЯ НА ОПОРЕ 3\n",
      "ЭКСГАУСТЕР 9. ВИБРАЦИЯ НА ОПОРЕ 4. ПРОДОЛЬНАЯ.\n",
      "ЭКСГАУСТЕР 9. ВИБРАЦИЯ НА ОПОРЕ 3\n",
      "ЭКСГАУСТЕР 9. ВИБРАЦИЯ НА ОПОРЕ 4. ПРОДОЛЬНАЯ.\n",
      "exg9_test_filtered_na_marked_ffil\n",
      "exg9_test_filtered_na_marked_mean\n",
      "exg9_test_filtered_resampled_na_ffill\n",
      "exg9_test_filtered_resampled_na_mean\n",
      "exg9_test_filtered_resampled_na_ffill_to_mean\n"
     ]
    },
    {
     "data": {
      "text/plain": "<Figure size 2000x10000 with 0 Axes>"
     },
     "metadata": {},
     "output_type": "display_data"
    },
    {
     "data": {
      "text/plain": "<Figure size 2000x10000 with 0 Axes>"
     },
     "metadata": {},
     "output_type": "display_data"
    },
    {
     "data": {
      "text/plain": "<Figure size 2000x10000 with 0 Axes>"
     },
     "metadata": {},
     "output_type": "display_data"
    },
    {
     "data": {
      "text/plain": "<Figure size 2000x10000 with 0 Axes>"
     },
     "metadata": {},
     "output_type": "display_data"
    },
    {
     "data": {
      "text/plain": "<Figure size 2000x10000 with 0 Axes>"
     },
     "metadata": {},
     "output_type": "display_data"
    },
    {
     "data": {
      "text/plain": "<Figure size 2000x10000 with 0 Axes>"
     },
     "metadata": {},
     "output_type": "display_data"
    },
    {
     "data": {
      "text/plain": "<Figure size 2000x10000 with 0 Axes>"
     },
     "metadata": {},
     "output_type": "display_data"
    },
    {
     "data": {
      "text/plain": "<Figure size 2000x10000 with 0 Axes>"
     },
     "metadata": {},
     "output_type": "display_data"
    },
    {
     "data": {
      "text/plain": "<Figure size 2000x10000 with 0 Axes>"
     },
     "metadata": {},
     "output_type": "display_data"
    },
    {
     "data": {
      "text/plain": "<Figure size 2000x10000 with 0 Axes>"
     },
     "metadata": {},
     "output_type": "display_data"
    },
    {
     "data": {
      "text/plain": "<Figure size 2000x10000 with 0 Axes>"
     },
     "metadata": {},
     "output_type": "display_data"
    },
    {
     "data": {
      "text/plain": "<Figure size 2000x10000 with 0 Axes>"
     },
     "metadata": {},
     "output_type": "display_data"
    },
    {
     "data": {
      "text/plain": "<Figure size 2000x10000 with 0 Axes>"
     },
     "metadata": {},
     "output_type": "display_data"
    },
    {
     "data": {
      "text/plain": "<Figure size 2000x10000 with 0 Axes>"
     },
     "metadata": {},
     "output_type": "display_data"
    },
    {
     "data": {
      "text/plain": "<Figure size 2000x10000 with 0 Axes>"
     },
     "metadata": {},
     "output_type": "display_data"
    },
    {
     "data": {
      "text/plain": "<Figure size 2000x10000 with 0 Axes>"
     },
     "metadata": {},
     "output_type": "display_data"
    },
    {
     "data": {
      "text/plain": "<Figure size 2000x10000 with 0 Axes>"
     },
     "metadata": {},
     "output_type": "display_data"
    },
    {
     "data": {
      "text/plain": "<Figure size 2000x10000 with 0 Axes>"
     },
     "metadata": {},
     "output_type": "display_data"
    },
    {
     "data": {
      "text/plain": "<Figure size 2000x10000 with 0 Axes>"
     },
     "metadata": {},
     "output_type": "display_data"
    },
    {
     "data": {
      "text/plain": "<Figure size 2000x10000 with 0 Axes>"
     },
     "metadata": {},
     "output_type": "display_data"
    },
    {
     "data": {
      "text/plain": "<Figure size 2000x10000 with 0 Axes>"
     },
     "metadata": {},
     "output_type": "display_data"
    },
    {
     "data": {
      "text/plain": "<Figure size 2000x10000 with 0 Axes>"
     },
     "metadata": {},
     "output_type": "display_data"
    },
    {
     "data": {
      "text/plain": "<Figure size 2000x10000 with 0 Axes>"
     },
     "metadata": {},
     "output_type": "display_data"
    },
    {
     "data": {
      "text/plain": "<Figure size 2000x10000 with 0 Axes>"
     },
     "metadata": {},
     "output_type": "display_data"
    },
    {
     "data": {
      "text/plain": "<Figure size 2000x10000 with 0 Axes>"
     },
     "metadata": {},
     "output_type": "display_data"
    },
    {
     "data": {
      "text/plain": "<Figure size 2000x10000 with 0 Axes>"
     },
     "metadata": {},
     "output_type": "display_data"
    },
    {
     "data": {
      "text/plain": "<Figure size 2000x10000 with 0 Axes>"
     },
     "metadata": {},
     "output_type": "display_data"
    },
    {
     "data": {
      "text/plain": "<Figure size 2000x10000 with 0 Axes>"
     },
     "metadata": {},
     "output_type": "display_data"
    },
    {
     "data": {
      "text/plain": "<Figure size 2000x10000 with 0 Axes>"
     },
     "metadata": {},
     "output_type": "display_data"
    },
    {
     "data": {
      "text/plain": "<Figure size 2000x10000 with 0 Axes>"
     },
     "metadata": {},
     "output_type": "display_data"
    },
    {
     "data": {
      "text/plain": "<Figure size 2000x10000 with 0 Axes>"
     },
     "metadata": {},
     "output_type": "display_data"
    },
    {
     "data": {
      "text/plain": "<Figure size 2000x10000 with 0 Axes>"
     },
     "metadata": {},
     "output_type": "display_data"
    },
    {
     "data": {
      "text/plain": "<Figure size 2000x10000 with 0 Axes>"
     },
     "metadata": {},
     "output_type": "display_data"
    },
    {
     "data": {
      "text/plain": "<Figure size 2000x10000 with 0 Axes>"
     },
     "metadata": {},
     "output_type": "display_data"
    },
    {
     "data": {
      "text/plain": "<Figure size 2000x10000 with 0 Axes>"
     },
     "metadata": {},
     "output_type": "display_data"
    },
    {
     "data": {
      "text/plain": "<Figure size 2000x10000 with 0 Axes>"
     },
     "metadata": {},
     "output_type": "display_data"
    },
    {
     "data": {
      "text/plain": "<Figure size 2000x10000 with 0 Axes>"
     },
     "metadata": {},
     "output_type": "display_data"
    },
    {
     "data": {
      "text/plain": "<Figure size 2000x10000 with 0 Axes>"
     },
     "metadata": {},
     "output_type": "display_data"
    },
    {
     "data": {
      "text/plain": "<Figure size 2000x10000 with 0 Axes>"
     },
     "metadata": {},
     "output_type": "display_data"
    },
    {
     "data": {
      "text/plain": "<Figure size 2000x10000 with 0 Axes>"
     },
     "metadata": {},
     "output_type": "display_data"
    },
    {
     "data": {
      "text/plain": "<Figure size 2000x10000 with 0 Axes>"
     },
     "metadata": {},
     "output_type": "display_data"
    },
    {
     "data": {
      "text/plain": "<Figure size 2000x10000 with 0 Axes>"
     },
     "metadata": {},
     "output_type": "display_data"
    },
    {
     "data": {
      "text/plain": "<Figure size 2000x10000 with 0 Axes>"
     },
     "metadata": {},
     "output_type": "display_data"
    },
    {
     "data": {
      "text/plain": "<Figure size 2000x10000 with 0 Axes>"
     },
     "metadata": {},
     "output_type": "display_data"
    },
    {
     "data": {
      "text/plain": "<Figure size 2000x10000 with 0 Axes>"
     },
     "metadata": {},
     "output_type": "display_data"
    },
    {
     "data": {
      "text/plain": "<Figure size 2000x10000 with 0 Axes>"
     },
     "metadata": {},
     "output_type": "display_data"
    },
    {
     "data": {
      "text/plain": "<Figure size 2000x10000 with 0 Axes>"
     },
     "metadata": {},
     "output_type": "display_data"
    },
    {
     "data": {
      "text/plain": "<Figure size 2000x10000 with 0 Axes>"
     },
     "metadata": {},
     "output_type": "display_data"
    },
    {
     "data": {
      "text/plain": "<Figure size 2000x10000 with 0 Axes>"
     },
     "metadata": {},
     "output_type": "display_data"
    },
    {
     "data": {
      "text/plain": "<Figure size 2000x10000 with 0 Axes>"
     },
     "metadata": {},
     "output_type": "display_data"
    },
    {
     "data": {
      "text/plain": "<Figure size 2000x10000 with 0 Axes>"
     },
     "metadata": {},
     "output_type": "display_data"
    },
    {
     "data": {
      "text/plain": "<Figure size 2000x10000 with 0 Axes>"
     },
     "metadata": {},
     "output_type": "display_data"
    },
    {
     "data": {
      "text/plain": "<Figure size 2000x10000 with 0 Axes>"
     },
     "metadata": {},
     "output_type": "display_data"
    },
    {
     "data": {
      "text/plain": "<Figure size 2000x10000 with 0 Axes>"
     },
     "metadata": {},
     "output_type": "display_data"
    },
    {
     "data": {
      "text/plain": "<Figure size 2000x10000 with 0 Axes>"
     },
     "metadata": {},
     "output_type": "display_data"
    },
    {
     "data": {
      "text/plain": "<Figure size 2000x10000 with 0 Axes>"
     },
     "metadata": {},
     "output_type": "display_data"
    },
    {
     "data": {
      "text/plain": "<Figure size 2000x10000 with 0 Axes>"
     },
     "metadata": {},
     "output_type": "display_data"
    },
    {
     "data": {
      "text/plain": "<Figure size 2000x10000 with 0 Axes>"
     },
     "metadata": {},
     "output_type": "display_data"
    },
    {
     "data": {
      "text/plain": "<Figure size 2000x10000 with 0 Axes>"
     },
     "metadata": {},
     "output_type": "display_data"
    },
    {
     "data": {
      "text/plain": "<Figure size 2000x10000 with 0 Axes>"
     },
     "metadata": {},
     "output_type": "display_data"
    },
    {
     "data": {
      "text/plain": "<Figure size 2000x10000 with 0 Axes>"
     },
     "metadata": {},
     "output_type": "display_data"
    },
    {
     "data": {
      "text/plain": "<Figure size 2000x10000 with 0 Axes>"
     },
     "metadata": {},
     "output_type": "display_data"
    },
    {
     "data": {
      "text/plain": "<Figure size 2000x10000 with 0 Axes>"
     },
     "metadata": {},
     "output_type": "display_data"
    },
    {
     "data": {
      "text/plain": "<Figure size 2000x10000 with 0 Axes>"
     },
     "metadata": {},
     "output_type": "display_data"
    },
    {
     "data": {
      "text/plain": "<Figure size 2000x10000 with 0 Axes>"
     },
     "metadata": {},
     "output_type": "display_data"
    },
    {
     "data": {
      "text/plain": "<Figure size 2000x10000 with 0 Axes>"
     },
     "metadata": {},
     "output_type": "display_data"
    }
   ],
   "source": [
    "# for i in [4, 5, 6, 7, 8, 9]:\n",
    "for i in [4, 5, 6, 7, 8, 9]:\n",
    "    train_x_data = load_x_data_for_exgauster(exgauster_num=i, is_train=True)\n",
    "    test_x_data = load_x_data_for_exgauster(exgauster_num=i, is_train=False)\n",
    "     # train_y_data = load_y_data_for_exgauster(exgauster_num=i)\n",
    "\n",
    "    plot_x(train_x_data.filtered_na_marked_mean,     f'exg{i}_train_filtered_na_marked_mean')\n",
    "    plot_x(train_x_data.filtered_na_marked_ffill,    f'exg{i}_train_filtered_na_marked_ffil')\n",
    "    plot_x(train_x_data.filtered_resampled_na_ffill, f'exg{i}_train_filtered_resampled_na_ffill')\n",
    "    plot_x(train_x_data.filtered_resampled_na_mean,  f'exg{i}_train_filtered_resampled_na_mean')\n",
    "    plot_x(train_x_data.filtered_resampled_na_ffill_to_mean,  f'exg{i}_train_filtered_resampled_na_ffill_to_mean')\n",
    "\n",
    "    plot_x(test_x_data.filtered_na_marked_mean,      f'exg{i}_test_filtered_na_marked_mean')\n",
    "    print(f'exg{i}_test_filtered_na_marked_ffil')\n",
    "    plot_x(test_x_data.filtered_na_marked_ffill,     f'exg{i}_test_filtered_na_marked_ffil')\n",
    "    print(f'exg{i}_test_filtered_na_marked_mean')\n",
    "    plot_x(test_x_data.filtered_na_marked_mean,     f'exg{i}_test_filtered_na_marked_mean')\n",
    "    print(f'exg{i}_test_filtered_resampled_na_ffill')\n",
    "    plot_x(test_x_data.filtered_resampled_na_ffill,  f'exg{i}_test_filtered_resampled_na_ffill')\n",
    "    print(f'exg{i}_test_filtered_resampled_na_mean')\n",
    "    plot_x(test_x_data.filtered_resampled_na_mean,   f'exg{i}_test_filtered_resampled_na_mean')\n",
    "    print(f'exg{i}_test_filtered_resampled_na_ffill_to_mean')\n",
    "    plot_x(test_x_data.filtered_resampled_na_ffill_to_mean,   f'exg{i}_test_filtered_resampled_na_ffill_to_mean')\n",
    "\n",
    "    # plot_x(train_y_data.filtered_na_marked_mean,     f'exg{i}_y_train_filtered_na_marked_mean')\n",
    "\n",
    "\n",
    "\n",
    "\n",
    "\n"
   ],
   "metadata": {
    "collapsed": false,
    "pycharm": {
     "name": "#%%\n"
    }
   }
  }
 ],
 "metadata": {
  "kernelspec": {
   "display_name": "Python 3",
   "language": "python",
   "name": "python3"
  },
  "language_info": {
   "codemirror_mode": {
    "name": "ipython",
    "version": 2
   },
   "file_extension": ".py",
   "mimetype": "text/x-python",
   "name": "python",
   "nbconvert_exporter": "python",
   "pygments_lexer": "ipython2",
   "version": "2.7.6"
  }
 },
 "nbformat": 4,
 "nbformat_minor": 0
}