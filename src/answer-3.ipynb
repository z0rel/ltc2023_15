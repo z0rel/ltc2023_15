{
 "cells": [
  {
   "cell_type": "code",
   "execution_count": null,
   "outputs": [],
   "source": [],
   "metadata": {
    "collapsed": false,
    "pycharm": {
     "name": "#%%\n"
    }
   }
  },
  {
   "cell_type": "code",
   "execution_count": null,
   "outputs": [],
   "source": [],
   "metadata": {
    "collapsed": false,
    "pycharm": {
     "name": "#%%\n"
    }
   }
  },
  {
   "cell_type": "code",
   "execution_count": 1,
   "outputs": [
    {
     "name": "stderr",
     "output_type": "stream",
     "text": [
      "C:\\tools\\miniconda3\\envs\\stal\\lib\\site-packages\\scipy\\__init__.py:146: UserWarning: A NumPy version >=1.16.5 and <1.23.0 is required for this version of SciPy (detected version 1.24.3\n",
      "  warnings.warn(f\"A NumPy version >={np_minversion} and <{np_maxversion}\"\n"
     ]
    }
   ],
   "source": [
    "import pandas as pd\n",
    "import os\n",
    "import pyarrow\n",
    "import openpyxl\n",
    "\n",
    "import os\n",
    "import pyarrow\n",
    "import openpyxl\n",
    "import pickle\n",
    "from typing import Dict\n",
    "\n",
    "from exgauster.utils import DataOfExgauster\n",
    "from dataclasses import dataclass\n",
    "from typing import Optional\n",
    "import exgauster.trained_booster\n",
    "\n"
   ],
   "metadata": {
    "collapsed": false,
    "pycharm": {
     "name": "#%%\n"
    }
   }
  },
  {
   "cell_type": "code",
   "execution_count": 2,
   "outputs": [],
   "source": [
    "joined_with_future_m1 = pd.read_parquet('m1_answers_with_future_noresampled.parquet')\n",
    "joined_with_future_m3 = pd.read_parquet('m3_answers_with_future_noresampled.parquet')\n",
    "\n",
    "\n"
   ],
   "metadata": {
    "collapsed": false,
    "pycharm": {
     "name": "#%%\n"
    }
   }
  },
  {
   "cell_type": "code",
   "execution_count": 3,
   "outputs": [
    {
     "data": {
      "text/plain": "Timestamp('2023-05-10 01:00:00')"
     },
     "execution_count": 3,
     "metadata": {},
     "output_type": "execute_result"
    }
   ],
   "source": [
    "joined_with_future_m1.index[-1]"
   ],
   "metadata": {
    "collapsed": false,
    "pycharm": {
     "name": "#%%\n"
    }
   }
  },
  {
   "cell_type": "code",
   "execution_count": 4,
   "outputs": [],
   "source": [
    "\n",
    "joined_with_future_m1_resampled = joined_with_future_m1.resample('10S').asfreq().fillna(method='bfill').fillna(method='ffill').round(decimals=0)\n"
   ],
   "metadata": {
    "collapsed": false,
    "pycharm": {
     "name": "#%%\n"
    }
   }
  },
  {
   "cell_type": "code",
   "execution_count": 5,
   "outputs": [],
   "source": [
    "sums = joined_with_future_m1.sum()"
   ],
   "metadata": {
    "collapsed": false,
    "pycharm": {
     "name": "#%%\n"
    }
   }
  },
  {
   "cell_type": "code",
   "execution_count": 6,
   "outputs": [
    {
     "data": {
      "text/plain": "Y_ЭКСГАУСТЕР А/М №4_ЭЛЕКТРОДВИГАТЕЛЬ ДСПУ-140-84-4 ЭКСГ. №4     0.0\nY_ЭКСГАУСТЕР А/М №4_ПОДШИПНИК ОПОРНЫЙ ЭКСГ. №4                  0.0\nY_ЭКСГАУСТЕР А/М №4_УЛИТА ЭКСГ. №4                              0.0\nY_ЭКСГАУСТЕР А/М №4_РЕДУКТОР ГАЗ. ЗАДВИЖКИ ЭКСГ. №4             0.0\nY_ЭКСГАУСТЕР А/М №4_МАСЛОНАСОС РАБОЧИЙ ЭКСГ. №4                 0.0\n                                                               ... \nY_ЭКСГАУСТЕР А/М №9_МЕТРАН-100 ДАТЧИКИ ДАВЛЕНИЯ ЭКСГ.№9         0.0\nY_ЭКСГАУСТЕР А/М №9_ТСМТ-101-010-50М-80 ТЕРМОПРЕОБР.МАСЛО       0.0\nY_ЭКСГАУСТЕР А/М №9_ТСМТ-101-010-50М-400 ТЕРМОПР.ПОДШ.Т.1       0.0\nY_ЭКСГАУСТЕР А/М №9_ЭКСГАУСТЕР А/М №9                           0.0\nY_ЭКСГАУСТЕР А/М №9_ДВИГАТЕЛЬ ПУСКОВОГО МАСЛОНАСОСА ЭКСГ. №9    0.0\nLength: 175, dtype: float64"
     },
     "execution_count": 6,
     "metadata": {},
     "output_type": "execute_result"
    }
   ],
   "source": [
    "sums"
   ],
   "metadata": {
    "collapsed": false,
    "pycharm": {
     "name": "#%%\n"
    }
   }
  },
  {
   "cell_type": "code",
   "execution_count": 17,
   "outputs": [],
   "source": [
    "\n",
    "import tqdm\n",
    "\n",
    "m1_calculated_times = joined_with_future_m1_resampled.copy().replace(1, 0)\n",
    "\n",
    "m1_state = {\n",
    "    colname: None\n",
    "    for colname in joined_with_future_m1.columns\n",
    "}\n"
   ],
   "metadata": {
    "collapsed": false,
    "pycharm": {
     "name": "#%%\n"
    }
   }
  },
  {
   "cell_type": "code",
   "execution_count": 18,
   "outputs": [],
   "source": [
    "rows_to_iteration = list(joined_with_future_m1.iterrows())"
   ],
   "metadata": {
    "collapsed": false,
    "pycharm": {
     "name": "#%%\n"
    }
   }
  },
  {
   "cell_type": "code",
   "execution_count": 19,
   "outputs": [
    {
     "data": {
      "text/plain": "Timestamp('2023-05-10 01:00:00')"
     },
     "execution_count": 19,
     "metadata": {},
     "output_type": "execute_result"
    }
   ],
   "source": [
    "rows_to_iteration[-1][0]"
   ],
   "metadata": {
    "collapsed": false,
    "pycharm": {
     "name": "#%%\n"
    }
   }
  },
  {
   "cell_type": "code",
   "execution_count": 20,
   "outputs": [
    {
     "name": "stderr",
     "output_type": "stream",
     "text": [
      "100%|██████████| 4267381/4267381 [31:53<00:00, 2229.68it/s]\n"
     ]
    }
   ],
   "source": [
    "\n",
    "for index, row in tqdm.tqdm(joined_with_future_m1_resampled.iloc[::-1].iterrows(), total=len(joined_with_future_m1_resampled)):\n",
    "    for colname in joined_with_future_m1_resampled.columns:\n",
    "        state = m1_state[colname]\n",
    "        ceil_value = row[colname]\n",
    "\n",
    "        if state is None:\n",
    "            # Сбросить состояние в 0 если нашли аварию в ячейке\n",
    "            if ceil_value == 1:\n",
    "                m1_state[colname] = 0\n",
    "\n",
    "            # TODO в новом датафрейме 0 по умолчанию уже установлены\n",
    "            # m1_calculated_times.at[index, colname] = 0\n",
    "        else:\n",
    "            # Сбросить состояние в 0 если нашли аварию в ячейке\n",
    "            if ceil_value == 1:\n",
    "                m1_state[colname] = 0\n",
    "\n",
    "                # TODO в новом датафрейме 0 по умолчанию уже установлены\n",
    "                # m1_calculated_times.at[index, colname] = 0\n",
    "            else:\n",
    "                # Увеличить время на 10 секунд (от предыдущего шага)\n",
    "                new_state = state + 10\n",
    "                m1_state[colname] = new_state\n",
    "                # Записать расчитанное время в ячейку датафрейма\n",
    "                m1_calculated_times.at[index, colname] = new_state\n"
   ],
   "metadata": {
    "collapsed": false,
    "pycharm": {
     "name": "#%%\n"
    }
   }
  },
  {
   "cell_type": "code",
   "execution_count": 22,
   "outputs": [
    {
     "data": {
      "text/plain": "                     Y_ЭКСГАУСТЕР А/М №4_ЭЛЕКТРОДВИГАТЕЛЬ ДСПУ-140-84-4 ЭКСГ. №4  \\\ntime                                                                               \n2022-01-01 03:10:00                                                0.0             \n2022-01-01 03:10:10                                                0.0             \n2022-01-01 03:10:20                                                0.0             \n2022-01-01 03:10:30                                                0.0             \n2022-01-01 03:10:40                                                0.0             \n...                                                                ...             \n2023-05-10 00:59:20                                                0.0             \n2023-05-10 00:59:30                                                0.0             \n2023-05-10 00:59:40                                                0.0             \n2023-05-10 00:59:50                                                0.0             \n2023-05-10 01:00:00                                                0.0             \n\n                     Y_ЭКСГАУСТЕР А/М №4_ПОДШИПНИК ОПОРНЫЙ ЭКСГ. №4  \\\ntime                                                                  \n2022-01-01 03:10:00                                             0.0   \n2022-01-01 03:10:10                                             0.0   \n2022-01-01 03:10:20                                             0.0   \n2022-01-01 03:10:30                                             0.0   \n2022-01-01 03:10:40                                             0.0   \n...                                                             ...   \n2023-05-10 00:59:20                                             0.0   \n2023-05-10 00:59:30                                             0.0   \n2023-05-10 00:59:40                                             0.0   \n2023-05-10 00:59:50                                             0.0   \n2023-05-10 01:00:00                                             0.0   \n\n                     Y_ЭКСГАУСТЕР А/М №4_УЛИТА ЭКСГ. №4  \\\ntime                                                      \n2022-01-01 03:10:00                                 0.0   \n2022-01-01 03:10:10                                 0.0   \n2022-01-01 03:10:20                                 0.0   \n2022-01-01 03:10:30                                 0.0   \n2022-01-01 03:10:40                                 0.0   \n...                                                 ...   \n2023-05-10 00:59:20                                 0.0   \n2023-05-10 00:59:30                                 0.0   \n2023-05-10 00:59:40                                 0.0   \n2023-05-10 00:59:50                                 0.0   \n2023-05-10 01:00:00                                 0.0   \n\n                     Y_ЭКСГАУСТЕР А/М №4_РЕДУКТОР ГАЗ. ЗАДВИЖКИ ЭКСГ. №4  \\\ntime                                                                       \n2022-01-01 03:10:00                                                0.0     \n2022-01-01 03:10:10                                                0.0     \n2022-01-01 03:10:20                                                0.0     \n2022-01-01 03:10:30                                                0.0     \n2022-01-01 03:10:40                                                0.0     \n...                                                                ...     \n2023-05-10 00:59:20                                                0.0     \n2023-05-10 00:59:30                                                0.0     \n2023-05-10 00:59:40                                                0.0     \n2023-05-10 00:59:50                                                0.0     \n2023-05-10 01:00:00                                                0.0     \n\n                     Y_ЭКСГАУСТЕР А/М №4_МАСЛОНАСОС РАБОЧИЙ ЭКСГ. №4  \\\ntime                                                                   \n2022-01-01 03:10:00                                              0.0   \n2022-01-01 03:10:10                                              0.0   \n2022-01-01 03:10:20                                              0.0   \n2022-01-01 03:10:30                                              0.0   \n2022-01-01 03:10:40                                              0.0   \n...                                                              ...   \n2023-05-10 00:59:20                                              0.0   \n2023-05-10 00:59:30                                              0.0   \n2023-05-10 00:59:40                                              0.0   \n2023-05-10 00:59:50                                              0.0   \n2023-05-10 01:00:00                                              0.0   \n\n                     Y_ЭКСГАУСТЕР А/М №4_ЭЛЕКТРОАППАРАТУРА ЭКСГ. №4  \\\ntime                                                                  \n2022-01-01 03:10:00                                             0.0   \n2022-01-01 03:10:10                                             0.0   \n2022-01-01 03:10:20                                             0.0   \n2022-01-01 03:10:30                                             0.0   \n2022-01-01 03:10:40                                             0.0   \n...                                                             ...   \n2023-05-10 00:59:20                                             0.0   \n2023-05-10 00:59:30                                             0.0   \n2023-05-10 00:59:40                                             0.0   \n2023-05-10 00:59:50                                             0.0   \n2023-05-10 01:00:00                                             0.0   \n\n                     Y_ЭКСГАУСТЕР А/М №4_ПОДШИПНИК ОПОРНЫЙ №2 ЭКСГ. №4  \\\ntime                                                                     \n2022-01-01 03:10:00                                                0.0   \n2022-01-01 03:10:10                                                0.0   \n2022-01-01 03:10:20                                                0.0   \n2022-01-01 03:10:30                                                0.0   \n2022-01-01 03:10:40                                                0.0   \n...                                                                ...   \n2023-05-10 00:59:20                                                0.0   \n2023-05-10 00:59:30                                                0.0   \n2023-05-10 00:59:40                                                0.0   \n2023-05-10 00:59:50                                                0.0   \n2023-05-10 01:00:00                                                0.0   \n\n                     Y_ЭКСГАУСТЕР А/М №4_ЗАДВИЖКА ЭКСГ. №4  \\\ntime                                                         \n2022-01-01 03:10:00                                    0.0   \n2022-01-01 03:10:10                                    0.0   \n2022-01-01 03:10:20                                    0.0   \n2022-01-01 03:10:30                                    0.0   \n2022-01-01 03:10:40                                    0.0   \n...                                                    ...   \n2023-05-10 00:59:20                                    0.0   \n2023-05-10 00:59:30                                    0.0   \n2023-05-10 00:59:40                                    0.0   \n2023-05-10 00:59:50                                    0.0   \n2023-05-10 01:00:00                                    0.0   \n\n                     Y_ЭКСГАУСТЕР А/М №4_ГСМ ЭКСГ. №4  \\\ntime                                                    \n2022-01-01 03:10:00                               0.0   \n2022-01-01 03:10:10                               0.0   \n2022-01-01 03:10:20                               0.0   \n2022-01-01 03:10:30                               0.0   \n2022-01-01 03:10:40                               0.0   \n...                                               ...   \n2023-05-10 00:59:20                               0.0   \n2023-05-10 00:59:30                               0.0   \n2023-05-10 00:59:40                               0.0   \n2023-05-10 00:59:50                               0.0   \n2023-05-10 01:00:00                               0.0   \n\n                     Y_ЭКСГАУСТЕР А/М №4_ВК 310С ВИБРОПРЕОБРАЗОВАТЕЛЬ ЭКСГ.№4 Т.1  \\\ntime                                                                                \n2022-01-01 03:10:00                                                0.0              \n2022-01-01 03:10:10                                                0.0              \n2022-01-01 03:10:20                                                0.0              \n2022-01-01 03:10:30                                                0.0              \n2022-01-01 03:10:40                                                0.0              \n...                                                                ...              \n2023-05-10 00:59:20                                                0.0              \n2023-05-10 00:59:30                                                0.0              \n2023-05-10 00:59:40                                                0.0              \n2023-05-10 00:59:50                                                0.0              \n2023-05-10 01:00:00                                                0.0              \n\n                     ...  Y_ЭКСГАУСТЕР А/М №9_ПОДШИПНИК ОПОРНЫЙ №1  \\\ntime                 ...                                             \n2022-01-01 03:10:00  ...                                       0.0   \n2022-01-01 03:10:10  ...                                       0.0   \n2022-01-01 03:10:20  ...                                       0.0   \n2022-01-01 03:10:30  ...                                       0.0   \n2022-01-01 03:10:40  ...                                       0.0   \n...                  ...                                       ...   \n2023-05-10 00:59:20  ...                                       0.0   \n2023-05-10 00:59:30  ...                                       0.0   \n2023-05-10 00:59:40  ...                                       0.0   \n2023-05-10 00:59:50  ...                                       0.0   \n2023-05-10 01:00:00  ...                                       0.0   \n\n                     Y_ЭКСГАУСТЕР А/М №9_ЗАДВИЖКА ЭКСГ. №9  \\\ntime                                                         \n2022-01-01 03:10:00                                    0.0   \n2022-01-01 03:10:10                                    0.0   \n2022-01-01 03:10:20                                    0.0   \n2022-01-01 03:10:30                                    0.0   \n2022-01-01 03:10:40                                    0.0   \n...                                                    ...   \n2023-05-10 00:59:20                                    0.0   \n2023-05-10 00:59:30                                    0.0   \n2023-05-10 00:59:40                                    0.0   \n2023-05-10 00:59:50                                    0.0   \n2023-05-10 01:00:00                                    0.0   \n\n                     Y_ЭКСГАУСТЕР А/М №9_ВК 310С ВИБРОПРЕОБРАЗОВАТЕЛЬ ЭКСГ.№9 Т.1  \\\ntime                                                                                \n2022-01-01 03:10:00                                                0.0              \n2022-01-01 03:10:10                                                0.0              \n2022-01-01 03:10:20                                                0.0              \n2022-01-01 03:10:30                                                0.0              \n2022-01-01 03:10:40                                                0.0              \n...                                                                ...              \n2023-05-10 00:59:20                                                0.0              \n2023-05-10 00:59:30                                                0.0              \n2023-05-10 00:59:40                                                0.0              \n2023-05-10 00:59:50                                                0.0              \n2023-05-10 01:00:00                                                0.0              \n\n                     Y_ЭКСГАУСТЕР А/М №9_МАСЛОПРОВОДЫ ЭКСГАУСТЕРА №9  \\\ntime                                                                   \n2022-01-01 03:10:00                                              0.0   \n2022-01-01 03:10:10                                              0.0   \n2022-01-01 03:10:20                                              0.0   \n2022-01-01 03:10:30                                              0.0   \n2022-01-01 03:10:40                                              0.0   \n...                                                              ...   \n2023-05-10 00:59:20                                              0.0   \n2023-05-10 00:59:30                                              0.0   \n2023-05-10 00:59:40                                              0.0   \n2023-05-10 00:59:50                                              0.0   \n2023-05-10 01:00:00                                              0.0   \n\n                     Y_ЭКСГАУСТЕР А/М №9_ТИРИСТОРНЫЙ ВОЗБУДИТЕЛЬ ТВ-400 ЭКСГ9 ВУ1  \\\ntime                                                                                \n2022-01-01 03:10:00                                                0.0              \n2022-01-01 03:10:10                                                0.0              \n2022-01-01 03:10:20                                                0.0              \n2022-01-01 03:10:30                                                0.0              \n2022-01-01 03:10:40                                                0.0              \n...                                                                ...              \n2023-05-10 00:59:20                                                0.0              \n2023-05-10 00:59:30                                                0.0              \n2023-05-10 00:59:40                                                0.0              \n2023-05-10 00:59:50                                                0.0              \n2023-05-10 01:00:00                                                0.0              \n\n                     Y_ЭКСГАУСТЕР А/М №9_МЕТРАН-100 ДАТЧИКИ ДАВЛЕНИЯ ЭКСГ.№9  \\\ntime                                                                           \n2022-01-01 03:10:00                                                0.0         \n2022-01-01 03:10:10                                                0.0         \n2022-01-01 03:10:20                                                0.0         \n2022-01-01 03:10:30                                                0.0         \n2022-01-01 03:10:40                                                0.0         \n...                                                                ...         \n2023-05-10 00:59:20                                                0.0         \n2023-05-10 00:59:30                                                0.0         \n2023-05-10 00:59:40                                                0.0         \n2023-05-10 00:59:50                                                0.0         \n2023-05-10 01:00:00                                                0.0         \n\n                     Y_ЭКСГАУСТЕР А/М №9_ТСМТ-101-010-50М-80 ТЕРМОПРЕОБР.МАСЛО  \\\ntime                                                                             \n2022-01-01 03:10:00                                                0.0           \n2022-01-01 03:10:10                                                0.0           \n2022-01-01 03:10:20                                                0.0           \n2022-01-01 03:10:30                                                0.0           \n2022-01-01 03:10:40                                                0.0           \n...                                                                ...           \n2023-05-10 00:59:20                                                0.0           \n2023-05-10 00:59:30                                                0.0           \n2023-05-10 00:59:40                                                0.0           \n2023-05-10 00:59:50                                                0.0           \n2023-05-10 01:00:00                                                0.0           \n\n                     Y_ЭКСГАУСТЕР А/М №9_ТСМТ-101-010-50М-400 ТЕРМОПР.ПОДШ.Т.1  \\\ntime                                                                             \n2022-01-01 03:10:00                                                0.0           \n2022-01-01 03:10:10                                                0.0           \n2022-01-01 03:10:20                                                0.0           \n2022-01-01 03:10:30                                                0.0           \n2022-01-01 03:10:40                                                0.0           \n...                                                                ...           \n2023-05-10 00:59:20                                                0.0           \n2023-05-10 00:59:30                                                0.0           \n2023-05-10 00:59:40                                                0.0           \n2023-05-10 00:59:50                                                0.0           \n2023-05-10 01:00:00                                                0.0           \n\n                     Y_ЭКСГАУСТЕР А/М №9_ЭКСГАУСТЕР А/М №9  \\\ntime                                                         \n2022-01-01 03:10:00                                    0.0   \n2022-01-01 03:10:10                                    0.0   \n2022-01-01 03:10:20                                    0.0   \n2022-01-01 03:10:30                                    0.0   \n2022-01-01 03:10:40                                    0.0   \n...                                                    ...   \n2023-05-10 00:59:20                                    0.0   \n2023-05-10 00:59:30                                    0.0   \n2023-05-10 00:59:40                                    0.0   \n2023-05-10 00:59:50                                    0.0   \n2023-05-10 01:00:00                                    0.0   \n\n                     Y_ЭКСГАУСТЕР А/М №9_ДВИГАТЕЛЬ ПУСКОВОГО МАСЛОНАСОСА ЭКСГ. №9  \ntime                                                                               \n2022-01-01 03:10:00                                                0.0             \n2022-01-01 03:10:10                                                0.0             \n2022-01-01 03:10:20                                                0.0             \n2022-01-01 03:10:30                                                0.0             \n2022-01-01 03:10:40                                                0.0             \n...                                                                ...             \n2023-05-10 00:59:20                                                0.0             \n2023-05-10 00:59:30                                                0.0             \n2023-05-10 00:59:40                                                0.0             \n2023-05-10 00:59:50                                                0.0             \n2023-05-10 01:00:00                                                0.0             \n\n[4267381 rows x 175 columns]",
      "text/html": "<div>\n<style scoped>\n    .dataframe tbody tr th:only-of-type {\n        vertical-align: middle;\n    }\n\n    .dataframe tbody tr th {\n        vertical-align: top;\n    }\n\n    .dataframe thead th {\n        text-align: right;\n    }\n</style>\n<table border=\"1\" class=\"dataframe\">\n  <thead>\n    <tr style=\"text-align: right;\">\n      <th></th>\n      <th>Y_ЭКСГАУСТЕР А/М №4_ЭЛЕКТРОДВИГАТЕЛЬ ДСПУ-140-84-4 ЭКСГ. №4</th>\n      <th>Y_ЭКСГАУСТЕР А/М №4_ПОДШИПНИК ОПОРНЫЙ ЭКСГ. №4</th>\n      <th>Y_ЭКСГАУСТЕР А/М №4_УЛИТА ЭКСГ. №4</th>\n      <th>Y_ЭКСГАУСТЕР А/М №4_РЕДУКТОР ГАЗ. ЗАДВИЖКИ ЭКСГ. №4</th>\n      <th>Y_ЭКСГАУСТЕР А/М №4_МАСЛОНАСОС РАБОЧИЙ ЭКСГ. №4</th>\n      <th>Y_ЭКСГАУСТЕР А/М №4_ЭЛЕКТРОАППАРАТУРА ЭКСГ. №4</th>\n      <th>Y_ЭКСГАУСТЕР А/М №4_ПОДШИПНИК ОПОРНЫЙ №2 ЭКСГ. №4</th>\n      <th>Y_ЭКСГАУСТЕР А/М №4_ЗАДВИЖКА ЭКСГ. №4</th>\n      <th>Y_ЭКСГАУСТЕР А/М №4_ГСМ ЭКСГ. №4</th>\n      <th>Y_ЭКСГАУСТЕР А/М №4_ВК 310С ВИБРОПРЕОБРАЗОВАТЕЛЬ ЭКСГ.№4 Т.1</th>\n      <th>...</th>\n      <th>Y_ЭКСГАУСТЕР А/М №9_ПОДШИПНИК ОПОРНЫЙ №1</th>\n      <th>Y_ЭКСГАУСТЕР А/М №9_ЗАДВИЖКА ЭКСГ. №9</th>\n      <th>Y_ЭКСГАУСТЕР А/М №9_ВК 310С ВИБРОПРЕОБРАЗОВАТЕЛЬ ЭКСГ.№9 Т.1</th>\n      <th>Y_ЭКСГАУСТЕР А/М №9_МАСЛОПРОВОДЫ ЭКСГАУСТЕРА №9</th>\n      <th>Y_ЭКСГАУСТЕР А/М №9_ТИРИСТОРНЫЙ ВОЗБУДИТЕЛЬ ТВ-400 ЭКСГ9 ВУ1</th>\n      <th>Y_ЭКСГАУСТЕР А/М №9_МЕТРАН-100 ДАТЧИКИ ДАВЛЕНИЯ ЭКСГ.№9</th>\n      <th>Y_ЭКСГАУСТЕР А/М №9_ТСМТ-101-010-50М-80 ТЕРМОПРЕОБР.МАСЛО</th>\n      <th>Y_ЭКСГАУСТЕР А/М №9_ТСМТ-101-010-50М-400 ТЕРМОПР.ПОДШ.Т.1</th>\n      <th>Y_ЭКСГАУСТЕР А/М №9_ЭКСГАУСТЕР А/М №9</th>\n      <th>Y_ЭКСГАУСТЕР А/М №9_ДВИГАТЕЛЬ ПУСКОВОГО МАСЛОНАСОСА ЭКСГ. №9</th>\n    </tr>\n    <tr>\n      <th>time</th>\n      <th></th>\n      <th></th>\n      <th></th>\n      <th></th>\n      <th></th>\n      <th></th>\n      <th></th>\n      <th></th>\n      <th></th>\n      <th></th>\n      <th></th>\n      <th></th>\n      <th></th>\n      <th></th>\n      <th></th>\n      <th></th>\n      <th></th>\n      <th></th>\n      <th></th>\n      <th></th>\n      <th></th>\n    </tr>\n  </thead>\n  <tbody>\n    <tr>\n      <th>2022-01-01 03:10:00</th>\n      <td>0.0</td>\n      <td>0.0</td>\n      <td>0.0</td>\n      <td>0.0</td>\n      <td>0.0</td>\n      <td>0.0</td>\n      <td>0.0</td>\n      <td>0.0</td>\n      <td>0.0</td>\n      <td>0.0</td>\n      <td>...</td>\n      <td>0.0</td>\n      <td>0.0</td>\n      <td>0.0</td>\n      <td>0.0</td>\n      <td>0.0</td>\n      <td>0.0</td>\n      <td>0.0</td>\n      <td>0.0</td>\n      <td>0.0</td>\n      <td>0.0</td>\n    </tr>\n    <tr>\n      <th>2022-01-01 03:10:10</th>\n      <td>0.0</td>\n      <td>0.0</td>\n      <td>0.0</td>\n      <td>0.0</td>\n      <td>0.0</td>\n      <td>0.0</td>\n      <td>0.0</td>\n      <td>0.0</td>\n      <td>0.0</td>\n      <td>0.0</td>\n      <td>...</td>\n      <td>0.0</td>\n      <td>0.0</td>\n      <td>0.0</td>\n      <td>0.0</td>\n      <td>0.0</td>\n      <td>0.0</td>\n      <td>0.0</td>\n      <td>0.0</td>\n      <td>0.0</td>\n      <td>0.0</td>\n    </tr>\n    <tr>\n      <th>2022-01-01 03:10:20</th>\n      <td>0.0</td>\n      <td>0.0</td>\n      <td>0.0</td>\n      <td>0.0</td>\n      <td>0.0</td>\n      <td>0.0</td>\n      <td>0.0</td>\n      <td>0.0</td>\n      <td>0.0</td>\n      <td>0.0</td>\n      <td>...</td>\n      <td>0.0</td>\n      <td>0.0</td>\n      <td>0.0</td>\n      <td>0.0</td>\n      <td>0.0</td>\n      <td>0.0</td>\n      <td>0.0</td>\n      <td>0.0</td>\n      <td>0.0</td>\n      <td>0.0</td>\n    </tr>\n    <tr>\n      <th>2022-01-01 03:10:30</th>\n      <td>0.0</td>\n      <td>0.0</td>\n      <td>0.0</td>\n      <td>0.0</td>\n      <td>0.0</td>\n      <td>0.0</td>\n      <td>0.0</td>\n      <td>0.0</td>\n      <td>0.0</td>\n      <td>0.0</td>\n      <td>...</td>\n      <td>0.0</td>\n      <td>0.0</td>\n      <td>0.0</td>\n      <td>0.0</td>\n      <td>0.0</td>\n      <td>0.0</td>\n      <td>0.0</td>\n      <td>0.0</td>\n      <td>0.0</td>\n      <td>0.0</td>\n    </tr>\n    <tr>\n      <th>2022-01-01 03:10:40</th>\n      <td>0.0</td>\n      <td>0.0</td>\n      <td>0.0</td>\n      <td>0.0</td>\n      <td>0.0</td>\n      <td>0.0</td>\n      <td>0.0</td>\n      <td>0.0</td>\n      <td>0.0</td>\n      <td>0.0</td>\n      <td>...</td>\n      <td>0.0</td>\n      <td>0.0</td>\n      <td>0.0</td>\n      <td>0.0</td>\n      <td>0.0</td>\n      <td>0.0</td>\n      <td>0.0</td>\n      <td>0.0</td>\n      <td>0.0</td>\n      <td>0.0</td>\n    </tr>\n    <tr>\n      <th>...</th>\n      <td>...</td>\n      <td>...</td>\n      <td>...</td>\n      <td>...</td>\n      <td>...</td>\n      <td>...</td>\n      <td>...</td>\n      <td>...</td>\n      <td>...</td>\n      <td>...</td>\n      <td>...</td>\n      <td>...</td>\n      <td>...</td>\n      <td>...</td>\n      <td>...</td>\n      <td>...</td>\n      <td>...</td>\n      <td>...</td>\n      <td>...</td>\n      <td>...</td>\n      <td>...</td>\n    </tr>\n    <tr>\n      <th>2023-05-10 00:59:20</th>\n      <td>0.0</td>\n      <td>0.0</td>\n      <td>0.0</td>\n      <td>0.0</td>\n      <td>0.0</td>\n      <td>0.0</td>\n      <td>0.0</td>\n      <td>0.0</td>\n      <td>0.0</td>\n      <td>0.0</td>\n      <td>...</td>\n      <td>0.0</td>\n      <td>0.0</td>\n      <td>0.0</td>\n      <td>0.0</td>\n      <td>0.0</td>\n      <td>0.0</td>\n      <td>0.0</td>\n      <td>0.0</td>\n      <td>0.0</td>\n      <td>0.0</td>\n    </tr>\n    <tr>\n      <th>2023-05-10 00:59:30</th>\n      <td>0.0</td>\n      <td>0.0</td>\n      <td>0.0</td>\n      <td>0.0</td>\n      <td>0.0</td>\n      <td>0.0</td>\n      <td>0.0</td>\n      <td>0.0</td>\n      <td>0.0</td>\n      <td>0.0</td>\n      <td>...</td>\n      <td>0.0</td>\n      <td>0.0</td>\n      <td>0.0</td>\n      <td>0.0</td>\n      <td>0.0</td>\n      <td>0.0</td>\n      <td>0.0</td>\n      <td>0.0</td>\n      <td>0.0</td>\n      <td>0.0</td>\n    </tr>\n    <tr>\n      <th>2023-05-10 00:59:40</th>\n      <td>0.0</td>\n      <td>0.0</td>\n      <td>0.0</td>\n      <td>0.0</td>\n      <td>0.0</td>\n      <td>0.0</td>\n      <td>0.0</td>\n      <td>0.0</td>\n      <td>0.0</td>\n      <td>0.0</td>\n      <td>...</td>\n      <td>0.0</td>\n      <td>0.0</td>\n      <td>0.0</td>\n      <td>0.0</td>\n      <td>0.0</td>\n      <td>0.0</td>\n      <td>0.0</td>\n      <td>0.0</td>\n      <td>0.0</td>\n      <td>0.0</td>\n    </tr>\n    <tr>\n      <th>2023-05-10 00:59:50</th>\n      <td>0.0</td>\n      <td>0.0</td>\n      <td>0.0</td>\n      <td>0.0</td>\n      <td>0.0</td>\n      <td>0.0</td>\n      <td>0.0</td>\n      <td>0.0</td>\n      <td>0.0</td>\n      <td>0.0</td>\n      <td>...</td>\n      <td>0.0</td>\n      <td>0.0</td>\n      <td>0.0</td>\n      <td>0.0</td>\n      <td>0.0</td>\n      <td>0.0</td>\n      <td>0.0</td>\n      <td>0.0</td>\n      <td>0.0</td>\n      <td>0.0</td>\n    </tr>\n    <tr>\n      <th>2023-05-10 01:00:00</th>\n      <td>0.0</td>\n      <td>0.0</td>\n      <td>0.0</td>\n      <td>0.0</td>\n      <td>0.0</td>\n      <td>0.0</td>\n      <td>0.0</td>\n      <td>0.0</td>\n      <td>0.0</td>\n      <td>0.0</td>\n      <td>...</td>\n      <td>0.0</td>\n      <td>0.0</td>\n      <td>0.0</td>\n      <td>0.0</td>\n      <td>0.0</td>\n      <td>0.0</td>\n      <td>0.0</td>\n      <td>0.0</td>\n      <td>0.0</td>\n      <td>0.0</td>\n    </tr>\n  </tbody>\n</table>\n<p>4267381 rows × 175 columns</p>\n</div>"
     },
     "execution_count": 22,
     "metadata": {},
     "output_type": "execute_result"
    }
   ],
   "source": [
    "m1_calculated_times"
   ],
   "metadata": {
    "collapsed": false,
    "pycharm": {
     "name": "#%%\n"
    }
   }
  },
  {
   "cell_type": "code",
   "execution_count": null,
   "outputs": [],
   "source": [],
   "metadata": {
    "collapsed": false,
    "pycharm": {
     "name": "#%%\n"
    }
   }
  },
  {
   "cell_type": "code",
   "execution_count": 21,
   "outputs": [],
   "source": [
    "m1_calculated_times.to_parquet('submission_3.parquet')"
   ],
   "metadata": {
    "collapsed": false,
    "pycharm": {
     "name": "#%%\n"
    }
   }
  }
 ],
 "metadata": {
  "kernelspec": {
   "display_name": "Python 3",
   "language": "python",
   "name": "python3"
  },
  "language_info": {
   "codemirror_mode": {
    "name": "ipython",
    "version": 2
   },
   "file_extension": ".py",
   "mimetype": "text/x-python",
   "name": "python",
   "nbconvert_exporter": "python",
   "pygments_lexer": "ipython2",
   "version": "2.7.6"
  }
 },
 "nbformat": 4,
 "nbformat_minor": 0
}