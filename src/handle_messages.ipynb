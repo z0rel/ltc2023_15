{
 "cells": [
  {
   "cell_type": "code",
   "execution_count": 1,
   "metadata": {
    "collapsed": true,
    "pycharm": {
     "name": "#%%\n"
    }
   },
   "outputs": [],
   "source": [
    "import pandas as pd\n",
    "\n",
    "import openpyxl\n",
    "import os\n",
    "\n",
    "messages=pd.read_excel(os.path.join('..', 'Датасеты', 'messages.xlsx'))\n",
    "test_intervals=pd.read_excel(os.path.join('..', 'Датасеты', 'test_intervals.xlsx'))\n"
   ]
  },
  {
   "cell_type": "code",
   "execution_count": 2,
   "outputs": [
    {
     "data": {
      "text/plain": "     Unnamed: 0              МАШИНА         ИМЯ_МАШИНЫ  \\\n0           390         AA2/006-006  ЭКСГАУСТЕР А/М №9   \n1           391  CH-AGP-AG2/011-005  ЭКСГАУСТЕР А/М №9   \n2           392         AA2/002-006  ЭКСГАУСТЕР А/М №5   \n3           393  CH-AGP-AG2/003-005  ЭКСГАУСТЕР А/М №5   \n4           394  CH-AGP-AG2/003-005  ЭКСГАУСТЕР А/М №5   \n..          ...                 ...                ...   \n976        2155         AA2/005-006  ЭКСГАУСТЕР А/М №8   \n977        2156         AA2/005-006  ЭКСГАУСТЕР А/М №8   \n978        2157         AA2/003-006  ЭКСГАУСТЕР А/М №6   \n979        2158         AA2/001-006  ЭКСГАУСТЕР А/М №4   \n980        2159         AA2/006-006  ЭКСГАУСТЕР А/М №9   \n\n                      ТЕХ_МЕСТО                   НАЗВАНИЕ_ТЕХ_МЕСТА  \\\n0           AA2/006-006-002-008     ЗАПОРНАЯ АРМАТУРА ЭКСГАУСТЕРА №9   \n1        CH-AGP-AG2/011-005-002  МАСЛОСТАНЦИЯ ЖИДКОЙ СМАЗКИ ЭКСГ. №9   \n2           AA2/002-006-002-004     МАСЛООХЛАДИТЕЛЬ  М-05-1 ЭКСГ. №5   \n3    CH-AGP-AG2/003-005-002-004     МАСЛООХЛАДИТЕЛЬ  М-05-1 ЭКСГ. №5   \n4    CH-AGP-AG2/003-005-002-004     МАСЛООХЛАДИТЕЛЬ  М-05-1 ЭКСГ. №5   \n..                          ...                                  ...   \n976     AA2/005-006-001-005-001   ЭЛЕКТРООБОРУДОВАНИЯ ЭКСГАУСТЕРА №8   \n977         AA2/005-006-003-002      РЕДУКТОР ГАЗ. ЗАДВИЖКИ ЭКСГ. №8   \n978         AA2/003-006-001-001                      КОРПУС ЭКСГ. №6   \n979         AA2/001-006-001-006                       УЛИТА ЭКСГ. №4   \n980     AA2/006-006-001-005-001   ЭЛЕКТРООБОРУДОВАНИЯ ЭКСГАУСТЕРА №9   \n\n    ВИД_СООБЩЕНИЯ                                  ОПИСАНИЕ  \\\n0              M3                      неисправен двигатель   \n1              M3                      неисправен двигатель   \n2              M3  менять прокладку на подачу воды в охлади   \n3              M3  менять прокладку на подачу воды в охлади   \n4              M3  менять прокладку на подачу воды в охлади   \n..            ...                                       ...   \n976            M3  Концевой выключатель на открытие г.задв.   \n977            M3                         Смазка редуктора.   \n978            M3                                   Прососы   \n979            M3                                   Прососы   \n980            M1              остановка эксг. №9 (2РУ МТЗ)   \n\n    ДАТА_НАЧАЛА_НЕИСПРАВНОСТИ ДАТА_УСТРАНЕНИЯ_НЕИСПРАВНОСТИ  \\\n0         2019-01-21 00:00:00           2019-02-25 00:00:00   \n1         2019-01-21 12:26:08           2019-02-25 00:00:00   \n2         2019-01-21 15:35:26           2019-01-23 11:00:00   \n3         2019-01-21 16:33:00           2019-01-22 00:00:00   \n4         2019-01-21 16:36:01           2019-06-04 15:35:26   \n..                        ...                           ...   \n976       2021-12-28 09:20:00           2021-12-30 00:00:00   \n977       2021-12-28 09:23:00                           NaT   \n978       2021-12-28 12:23:00                           NaT   \n979       2021-12-28 12:39:00                           NaT   \n980       2021-12-29 16:27:02           2021-12-29 16:33:03   \n\n         ТЕКСТ_ГРУППЫ_КОДОВ  \n0                       NaN  \n1                       NaN  \n2                       NaN  \n3                       NaN  \n4                       NaN  \n..                      ...  \n976                     NaN  \n977                     NaN  \n978                     NaN  \n979                     NaN  \n980  ТЕХНИЧЕСКИЕ НЕПЛАНОВЫЕ  \n\n[981 rows x 10 columns]",
      "text/html": "<div>\n<style scoped>\n    .dataframe tbody tr th:only-of-type {\n        vertical-align: middle;\n    }\n\n    .dataframe tbody tr th {\n        vertical-align: top;\n    }\n\n    .dataframe thead th {\n        text-align: right;\n    }\n</style>\n<table border=\"1\" class=\"dataframe\">\n  <thead>\n    <tr style=\"text-align: right;\">\n      <th></th>\n      <th>Unnamed: 0</th>\n      <th>МАШИНА</th>\n      <th>ИМЯ_МАШИНЫ</th>\n      <th>ТЕХ_МЕСТО</th>\n      <th>НАЗВАНИЕ_ТЕХ_МЕСТА</th>\n      <th>ВИД_СООБЩЕНИЯ</th>\n      <th>ОПИСАНИЕ</th>\n      <th>ДАТА_НАЧАЛА_НЕИСПРАВНОСТИ</th>\n      <th>ДАТА_УСТРАНЕНИЯ_НЕИСПРАВНОСТИ</th>\n      <th>ТЕКСТ_ГРУППЫ_КОДОВ</th>\n    </tr>\n  </thead>\n  <tbody>\n    <tr>\n      <th>0</th>\n      <td>390</td>\n      <td>AA2/006-006</td>\n      <td>ЭКСГАУСТЕР А/М №9</td>\n      <td>AA2/006-006-002-008</td>\n      <td>ЗАПОРНАЯ АРМАТУРА ЭКСГАУСТЕРА №9</td>\n      <td>M3</td>\n      <td>неисправен двигатель</td>\n      <td>2019-01-21 00:00:00</td>\n      <td>2019-02-25 00:00:00</td>\n      <td>NaN</td>\n    </tr>\n    <tr>\n      <th>1</th>\n      <td>391</td>\n      <td>CH-AGP-AG2/011-005</td>\n      <td>ЭКСГАУСТЕР А/М №9</td>\n      <td>CH-AGP-AG2/011-005-002</td>\n      <td>МАСЛОСТАНЦИЯ ЖИДКОЙ СМАЗКИ ЭКСГ. №9</td>\n      <td>M3</td>\n      <td>неисправен двигатель</td>\n      <td>2019-01-21 12:26:08</td>\n      <td>2019-02-25 00:00:00</td>\n      <td>NaN</td>\n    </tr>\n    <tr>\n      <th>2</th>\n      <td>392</td>\n      <td>AA2/002-006</td>\n      <td>ЭКСГАУСТЕР А/М №5</td>\n      <td>AA2/002-006-002-004</td>\n      <td>МАСЛООХЛАДИТЕЛЬ  М-05-1 ЭКСГ. №5</td>\n      <td>M3</td>\n      <td>менять прокладку на подачу воды в охлади</td>\n      <td>2019-01-21 15:35:26</td>\n      <td>2019-01-23 11:00:00</td>\n      <td>NaN</td>\n    </tr>\n    <tr>\n      <th>3</th>\n      <td>393</td>\n      <td>CH-AGP-AG2/003-005</td>\n      <td>ЭКСГАУСТЕР А/М №5</td>\n      <td>CH-AGP-AG2/003-005-002-004</td>\n      <td>МАСЛООХЛАДИТЕЛЬ  М-05-1 ЭКСГ. №5</td>\n      <td>M3</td>\n      <td>менять прокладку на подачу воды в охлади</td>\n      <td>2019-01-21 16:33:00</td>\n      <td>2019-01-22 00:00:00</td>\n      <td>NaN</td>\n    </tr>\n    <tr>\n      <th>4</th>\n      <td>394</td>\n      <td>CH-AGP-AG2/003-005</td>\n      <td>ЭКСГАУСТЕР А/М №5</td>\n      <td>CH-AGP-AG2/003-005-002-004</td>\n      <td>МАСЛООХЛАДИТЕЛЬ  М-05-1 ЭКСГ. №5</td>\n      <td>M3</td>\n      <td>менять прокладку на подачу воды в охлади</td>\n      <td>2019-01-21 16:36:01</td>\n      <td>2019-06-04 15:35:26</td>\n      <td>NaN</td>\n    </tr>\n    <tr>\n      <th>...</th>\n      <td>...</td>\n      <td>...</td>\n      <td>...</td>\n      <td>...</td>\n      <td>...</td>\n      <td>...</td>\n      <td>...</td>\n      <td>...</td>\n      <td>...</td>\n      <td>...</td>\n    </tr>\n    <tr>\n      <th>976</th>\n      <td>2155</td>\n      <td>AA2/005-006</td>\n      <td>ЭКСГАУСТЕР А/М №8</td>\n      <td>AA2/005-006-001-005-001</td>\n      <td>ЭЛЕКТРООБОРУДОВАНИЯ ЭКСГАУСТЕРА №8</td>\n      <td>M3</td>\n      <td>Концевой выключатель на открытие г.задв.</td>\n      <td>2021-12-28 09:20:00</td>\n      <td>2021-12-30 00:00:00</td>\n      <td>NaN</td>\n    </tr>\n    <tr>\n      <th>977</th>\n      <td>2156</td>\n      <td>AA2/005-006</td>\n      <td>ЭКСГАУСТЕР А/М №8</td>\n      <td>AA2/005-006-003-002</td>\n      <td>РЕДУКТОР ГАЗ. ЗАДВИЖКИ ЭКСГ. №8</td>\n      <td>M3</td>\n      <td>Смазка редуктора.</td>\n      <td>2021-12-28 09:23:00</td>\n      <td>NaT</td>\n      <td>NaN</td>\n    </tr>\n    <tr>\n      <th>978</th>\n      <td>2157</td>\n      <td>AA2/003-006</td>\n      <td>ЭКСГАУСТЕР А/М №6</td>\n      <td>AA2/003-006-001-001</td>\n      <td>КОРПУС ЭКСГ. №6</td>\n      <td>M3</td>\n      <td>Прососы</td>\n      <td>2021-12-28 12:23:00</td>\n      <td>NaT</td>\n      <td>NaN</td>\n    </tr>\n    <tr>\n      <th>979</th>\n      <td>2158</td>\n      <td>AA2/001-006</td>\n      <td>ЭКСГАУСТЕР А/М №4</td>\n      <td>AA2/001-006-001-006</td>\n      <td>УЛИТА ЭКСГ. №4</td>\n      <td>M3</td>\n      <td>Прососы</td>\n      <td>2021-12-28 12:39:00</td>\n      <td>NaT</td>\n      <td>NaN</td>\n    </tr>\n    <tr>\n      <th>980</th>\n      <td>2159</td>\n      <td>AA2/006-006</td>\n      <td>ЭКСГАУСТЕР А/М №9</td>\n      <td>AA2/006-006-001-005-001</td>\n      <td>ЭЛЕКТРООБОРУДОВАНИЯ ЭКСГАУСТЕРА №9</td>\n      <td>M1</td>\n      <td>остановка эксг. №9 (2РУ МТЗ)</td>\n      <td>2021-12-29 16:27:02</td>\n      <td>2021-12-29 16:33:03</td>\n      <td>ТЕХНИЧЕСКИЕ НЕПЛАНОВЫЕ</td>\n    </tr>\n  </tbody>\n</table>\n<p>981 rows × 10 columns</p>\n</div>"
     },
     "execution_count": 2,
     "metadata": {},
     "output_type": "execute_result"
    }
   ],
   "source": [
    "messages"
   ],
   "metadata": {
    "collapsed": false,
    "pycharm": {
     "name": "#%%\n"
    }
   }
  },
  {
   "cell_type": "code",
   "execution_count": 12,
   "outputs": [],
   "source": [
    "mask = messages['ДАТА_УСТРАНЕНИЯ_НЕИСПРАВНОСТИ'].isna()"
   ],
   "metadata": {
    "collapsed": false,
    "pycharm": {
     "name": "#%%\n"
    }
   }
  },
  {
   "cell_type": "code",
   "execution_count": 4,
   "outputs": [],
   "source": [
    "filtered_messages = messages[mask]"
   ],
   "metadata": {
    "collapsed": false,
    "pycharm": {
     "name": "#%%\n"
    }
   }
  },
  {
   "cell_type": "code",
   "execution_count": 13,
   "outputs": [],
   "source": [
    "\n",
    "good_messages = messages[~mask]\n",
    "mask_long = good_messages['ДАТА_УСТРАНЕНИЯ_НЕИСПРАВНОСТИ'].sub(good_messages['ДАТА_НАЧАЛА_НЕИСПРАВНОСТИ']).dt.days > 300\n",
    "\n",
    "good_messages1 = good_messages[mask_long]"
   ],
   "metadata": {
    "collapsed": false,
    "pycharm": {
     "name": "#%%\n"
    }
   }
  },
  {
   "cell_type": "code",
   "execution_count": 14,
   "outputs": [
    {
     "data": {
      "text/plain": "     Unnamed: 0              МАШИНА         ИМЯ_МАШИНЫ  \\\n32          431  CH-AGP-AG2/011-005  ЭКСГАУСТЕР А/М №9   \n34          434  CH-AGP-AG2/003-005  ЭКСГАУСТЕР А/М №5   \n63          474         AA2/005-006  ЭКСГАУСТЕР А/М №8   \n64          475  CH-AGP-AG2/005-005  ЭКСГАУСТЕР А/М №6   \n71          482  CH-AGP-AG2/003-005  ЭКСГАУСТЕР А/М №5   \n163         591  CH-AGP-AG2/011-005  ЭКСГАУСТЕР А/М №9   \n164         592         AA2/006-006  ЭКСГАУСТЕР А/М №9   \n200         629  CH-AGP-AG2/007-005  ЭКСГАУСТЕР А/М №7   \n201         630         AA2/004-006  ЭКСГАУСТЕР А/М №7   \n207         638  CH-AGP-AG2/007-005  ЭКСГАУСТЕР А/М №7   \n216         649         AA2/005-006  ЭКСГАУСТЕР А/М №8   \n217         651  CH-AGP-AG2/009-005  ЭКСГАУСТЕР А/М №8   \n218         652  CH-AGP-AG2/009-005  ЭКСГАУСТЕР А/М №8   \n302         767         AA2/002-006  ЭКСГАУСТЕР А/М №5   \n326         811  CH-AGP-AG2/009-005  ЭКСГАУСТЕР А/М №8   \n393         926         AA2/002-006  ЭКСГАУСТЕР А/М №5   \n394         928         AA2/002-006  ЭКСГАУСТЕР А/М №5   \n480        1096         AA2/005-006  ЭКСГАУСТЕР А/М №8   \n556        1247         AA2/002-006  ЭКСГАУСТЕР А/М №5   \n600        1342         AA2/005-006  ЭКСГАУСТЕР А/М №8   \n\n                          ТЕХ_МЕСТО                        НАЗВАНИЕ_ТЕХ_МЕСТА  \\\n32       CH-AGP-AG2/011-005-002-004          МАСЛООХЛАДИТЕЛЬ  М-05-1 ЭКСГ. №9   \n34   CH-AGP-AG2/003-005-001-005-003   ЭЛЕКТРОДВИГАТЕЛЬ ДСПУ-140-84-4 ЭКСГ. №5   \n63          AA2/005-006-001-012-003   ЭЛЕКТРОДВИГАТЕЛЬ ДСПУ-140-84-4 ЭКСГ. №8   \n64   CH-AGP-AG2/005-005-001-005-003   ЭЛЕКТРОДВИГАТЕЛЬ ДСПУ-140-84-4 ЭКСГ. №6   \n71   CH-AGP-AG2/003-005-002-002-001  МАСЛОНАСОС ШЕСТЕРЕНЧАТЫЙ (РЕЗ.) ЭКСГ. №5   \n163      CH-AGP-AG2/011-005-001-009                ТР-Р ТМ-6300-10/6 ЭКСГ. №9   \n164             AA2/006-006-001-007                ТР-Р ТМ-6300-10/6 ЭКСГ. №9   \n200      CH-AGP-AG2/007-005-003-003                         ЗАДВИЖКА ЭКСГ. №7   \n201             AA2/004-006-003-003                         ЗАДВИЖКА ЭКСГ. №7   \n207      CH-AGP-AG2/007-005-003-002           РЕДУКТОР ГАЗ. ЗАДВИЖКИ ЭКСГ. №7   \n216         AA2/005-006-001-005-003             КЛ2 ТР№8 ДО ЭД ЭКСГАУСТЕРА №8   \n217  CH-AGP-AG2/009-005-001-007-002             КЛ1 ТР№8 ДО ЭД ЭКСГАУСТЕРА №8   \n218  CH-AGP-AG2/009-005-001-007-003             КЛ2 ТР№8 ДО ЭД ЭКСГАУСТЕРА №8   \n302         AA2/002-006-002-005-001                              ГСМ ЭКСГ. №5   \n326      CH-AGP-AG2/009-005-001-008                      КОЖУХ МУФТЫ ЭКСГ. №8   \n393         AA2/002-006-001-006-002             КЛ1 ТР№5 ДО ЭД ЭКСГАУСТЕРА №5   \n394         AA2/002-006-001-006-003             КЛ2 ТР№5 ДО ЭД ЭКСГАУСТЕРА №5   \n480             AA2/005-006-001-002                            РОТОР ЭКСГ. №8   \n556             AA2/002-006-003-002           РЕДУКТОР ГАЗ. ЗАДВИЖКИ ЭКСГ. №5   \n600             AA2/005-006-003-002           РЕДУКТОР ГАЗ. ЗАДВИЖКИ ЭКСГ. №8   \n\n    ВИД_СООБЩЕНИЯ                                ОПИСАНИЕ  \\\n32             M3                          насос заклинен   \n34             M3                          изношены щетки   \n63             M3                          изношены щетки   \n64             M3                          изношены щетки   \n71             M3                         слабое давление   \n163            M3        ВВД КЛ РП 22 тр-р эксгаустера №9   \n164            M3        ВВД КЛ РП 22 тр-р эксгаустера №9   \n200            M3                Деформация ограничителя.   \n201            M3                Деформация ограничителя.   \n207            M3                 Износкулачковой втулки.   \n216            M3  ВВД КЛ РП-22 Тр-р эскг-ра №8 Кабель №2   \n217            M3  ВВД КЛ РП-22 Тр-р эскг-ра №8 Кабель №1   \n218            M3  ВВД КЛ РП-22 Тр-р эскг-ра №8 Кабель №2   \n302            M3            Механические примеси = 0,043   \n326            M3                           Утечка масла.   \n393            M3          ВВД КЛ РП 22 РУ-6кВ тр. №5 к.1   \n394            M3          ВВД КЛ РП 22 РУ-6кВ тр. №5 к.2   \n480            M3                Механический износ муфты   \n556            M3            Износ гайи и втулки (1,8 мм)   \n600            M3                   низкий уровень смазки   \n\n    ДАТА_НАЧАЛА_НЕИСПРАВНОСТИ ДАТА_УСТРАНЕНИЯ_НЕИСПРАВНОСТИ ТЕКСТ_ГРУППЫ_КОДОВ  \n32        2019-02-07 22:34:48           2019-12-24 00:00:00                NaN  \n34        2019-02-11 08:46:05           2021-02-09 00:00:00                NaN  \n63        2019-03-11 00:00:00           2020-04-28 12:30:08                NaN  \n64        2019-03-11 08:48:10           2020-04-28 00:00:00                NaN  \n71        2019-03-22 13:21:26           2020-02-11 13:59:29                NaN  \n163       2019-06-21 13:55:58           2021-05-26 15:59:58                NaN  \n164       2019-06-21 15:59:58           2021-05-26 15:59:58                NaN  \n200       2019-08-23 08:33:49           2020-06-25 09:59:30                NaN  \n201       2019-08-23 09:59:30           2020-06-25 09:59:30                NaN  \n207       2019-08-27 12:50:19           2020-07-13 00:00:00                NaN  \n216       2019-09-03 00:00:00           2021-08-19 00:00:00                NaN  \n217       2019-09-03 08:22:33           2021-08-19 00:00:00                NaN  \n218       2019-09-03 08:24:36           2021-08-19 00:00:00                NaN  \n302       2019-12-15 14:02:18           2020-12-07 10:00:00                NaN  \n326       2020-01-02 20:47:00           2020-12-29 00:00:00                NaN  \n393       2020-03-18 15:58:54           2021-05-05 00:00:00                NaN  \n394       2020-03-18 16:02:51           2021-05-05 00:00:00                NaN  \n480       2020-06-22 12:15:18           2021-08-24 00:00:00                NaN  \n556       2020-09-03 13:57:32           2021-08-05 00:00:00                NaN  \n600       2020-10-26 14:45:14           2021-08-24 00:00:00                NaN  ",
      "text/html": "<div>\n<style scoped>\n    .dataframe tbody tr th:only-of-type {\n        vertical-align: middle;\n    }\n\n    .dataframe tbody tr th {\n        vertical-align: top;\n    }\n\n    .dataframe thead th {\n        text-align: right;\n    }\n</style>\n<table border=\"1\" class=\"dataframe\">\n  <thead>\n    <tr style=\"text-align: right;\">\n      <th></th>\n      <th>Unnamed: 0</th>\n      <th>МАШИНА</th>\n      <th>ИМЯ_МАШИНЫ</th>\n      <th>ТЕХ_МЕСТО</th>\n      <th>НАЗВАНИЕ_ТЕХ_МЕСТА</th>\n      <th>ВИД_СООБЩЕНИЯ</th>\n      <th>ОПИСАНИЕ</th>\n      <th>ДАТА_НАЧАЛА_НЕИСПРАВНОСТИ</th>\n      <th>ДАТА_УСТРАНЕНИЯ_НЕИСПРАВНОСТИ</th>\n      <th>ТЕКСТ_ГРУППЫ_КОДОВ</th>\n    </tr>\n  </thead>\n  <tbody>\n    <tr>\n      <th>32</th>\n      <td>431</td>\n      <td>CH-AGP-AG2/011-005</td>\n      <td>ЭКСГАУСТЕР А/М №9</td>\n      <td>CH-AGP-AG2/011-005-002-004</td>\n      <td>МАСЛООХЛАДИТЕЛЬ  М-05-1 ЭКСГ. №9</td>\n      <td>M3</td>\n      <td>насос заклинен</td>\n      <td>2019-02-07 22:34:48</td>\n      <td>2019-12-24 00:00:00</td>\n      <td>NaN</td>\n    </tr>\n    <tr>\n      <th>34</th>\n      <td>434</td>\n      <td>CH-AGP-AG2/003-005</td>\n      <td>ЭКСГАУСТЕР А/М №5</td>\n      <td>CH-AGP-AG2/003-005-001-005-003</td>\n      <td>ЭЛЕКТРОДВИГАТЕЛЬ ДСПУ-140-84-4 ЭКСГ. №5</td>\n      <td>M3</td>\n      <td>изношены щетки</td>\n      <td>2019-02-11 08:46:05</td>\n      <td>2021-02-09 00:00:00</td>\n      <td>NaN</td>\n    </tr>\n    <tr>\n      <th>63</th>\n      <td>474</td>\n      <td>AA2/005-006</td>\n      <td>ЭКСГАУСТЕР А/М №8</td>\n      <td>AA2/005-006-001-012-003</td>\n      <td>ЭЛЕКТРОДВИГАТЕЛЬ ДСПУ-140-84-4 ЭКСГ. №8</td>\n      <td>M3</td>\n      <td>изношены щетки</td>\n      <td>2019-03-11 00:00:00</td>\n      <td>2020-04-28 12:30:08</td>\n      <td>NaN</td>\n    </tr>\n    <tr>\n      <th>64</th>\n      <td>475</td>\n      <td>CH-AGP-AG2/005-005</td>\n      <td>ЭКСГАУСТЕР А/М №6</td>\n      <td>CH-AGP-AG2/005-005-001-005-003</td>\n      <td>ЭЛЕКТРОДВИГАТЕЛЬ ДСПУ-140-84-4 ЭКСГ. №6</td>\n      <td>M3</td>\n      <td>изношены щетки</td>\n      <td>2019-03-11 08:48:10</td>\n      <td>2020-04-28 00:00:00</td>\n      <td>NaN</td>\n    </tr>\n    <tr>\n      <th>71</th>\n      <td>482</td>\n      <td>CH-AGP-AG2/003-005</td>\n      <td>ЭКСГАУСТЕР А/М №5</td>\n      <td>CH-AGP-AG2/003-005-002-002-001</td>\n      <td>МАСЛОНАСОС ШЕСТЕРЕНЧАТЫЙ (РЕЗ.) ЭКСГ. №5</td>\n      <td>M3</td>\n      <td>слабое давление</td>\n      <td>2019-03-22 13:21:26</td>\n      <td>2020-02-11 13:59:29</td>\n      <td>NaN</td>\n    </tr>\n    <tr>\n      <th>163</th>\n      <td>591</td>\n      <td>CH-AGP-AG2/011-005</td>\n      <td>ЭКСГАУСТЕР А/М №9</td>\n      <td>CH-AGP-AG2/011-005-001-009</td>\n      <td>ТР-Р ТМ-6300-10/6 ЭКСГ. №9</td>\n      <td>M3</td>\n      <td>ВВД КЛ РП 22 тр-р эксгаустера №9</td>\n      <td>2019-06-21 13:55:58</td>\n      <td>2021-05-26 15:59:58</td>\n      <td>NaN</td>\n    </tr>\n    <tr>\n      <th>164</th>\n      <td>592</td>\n      <td>AA2/006-006</td>\n      <td>ЭКСГАУСТЕР А/М №9</td>\n      <td>AA2/006-006-001-007</td>\n      <td>ТР-Р ТМ-6300-10/6 ЭКСГ. №9</td>\n      <td>M3</td>\n      <td>ВВД КЛ РП 22 тр-р эксгаустера №9</td>\n      <td>2019-06-21 15:59:58</td>\n      <td>2021-05-26 15:59:58</td>\n      <td>NaN</td>\n    </tr>\n    <tr>\n      <th>200</th>\n      <td>629</td>\n      <td>CH-AGP-AG2/007-005</td>\n      <td>ЭКСГАУСТЕР А/М №7</td>\n      <td>CH-AGP-AG2/007-005-003-003</td>\n      <td>ЗАДВИЖКА ЭКСГ. №7</td>\n      <td>M3</td>\n      <td>Деформация ограничителя.</td>\n      <td>2019-08-23 08:33:49</td>\n      <td>2020-06-25 09:59:30</td>\n      <td>NaN</td>\n    </tr>\n    <tr>\n      <th>201</th>\n      <td>630</td>\n      <td>AA2/004-006</td>\n      <td>ЭКСГАУСТЕР А/М №7</td>\n      <td>AA2/004-006-003-003</td>\n      <td>ЗАДВИЖКА ЭКСГ. №7</td>\n      <td>M3</td>\n      <td>Деформация ограничителя.</td>\n      <td>2019-08-23 09:59:30</td>\n      <td>2020-06-25 09:59:30</td>\n      <td>NaN</td>\n    </tr>\n    <tr>\n      <th>207</th>\n      <td>638</td>\n      <td>CH-AGP-AG2/007-005</td>\n      <td>ЭКСГАУСТЕР А/М №7</td>\n      <td>CH-AGP-AG2/007-005-003-002</td>\n      <td>РЕДУКТОР ГАЗ. ЗАДВИЖКИ ЭКСГ. №7</td>\n      <td>M3</td>\n      <td>Износкулачковой втулки.</td>\n      <td>2019-08-27 12:50:19</td>\n      <td>2020-07-13 00:00:00</td>\n      <td>NaN</td>\n    </tr>\n    <tr>\n      <th>216</th>\n      <td>649</td>\n      <td>AA2/005-006</td>\n      <td>ЭКСГАУСТЕР А/М №8</td>\n      <td>AA2/005-006-001-005-003</td>\n      <td>КЛ2 ТР№8 ДО ЭД ЭКСГАУСТЕРА №8</td>\n      <td>M3</td>\n      <td>ВВД КЛ РП-22 Тр-р эскг-ра №8 Кабель №2</td>\n      <td>2019-09-03 00:00:00</td>\n      <td>2021-08-19 00:00:00</td>\n      <td>NaN</td>\n    </tr>\n    <tr>\n      <th>217</th>\n      <td>651</td>\n      <td>CH-AGP-AG2/009-005</td>\n      <td>ЭКСГАУСТЕР А/М №8</td>\n      <td>CH-AGP-AG2/009-005-001-007-002</td>\n      <td>КЛ1 ТР№8 ДО ЭД ЭКСГАУСТЕРА №8</td>\n      <td>M3</td>\n      <td>ВВД КЛ РП-22 Тр-р эскг-ра №8 Кабель №1</td>\n      <td>2019-09-03 08:22:33</td>\n      <td>2021-08-19 00:00:00</td>\n      <td>NaN</td>\n    </tr>\n    <tr>\n      <th>218</th>\n      <td>652</td>\n      <td>CH-AGP-AG2/009-005</td>\n      <td>ЭКСГАУСТЕР А/М №8</td>\n      <td>CH-AGP-AG2/009-005-001-007-003</td>\n      <td>КЛ2 ТР№8 ДО ЭД ЭКСГАУСТЕРА №8</td>\n      <td>M3</td>\n      <td>ВВД КЛ РП-22 Тр-р эскг-ра №8 Кабель №2</td>\n      <td>2019-09-03 08:24:36</td>\n      <td>2021-08-19 00:00:00</td>\n      <td>NaN</td>\n    </tr>\n    <tr>\n      <th>302</th>\n      <td>767</td>\n      <td>AA2/002-006</td>\n      <td>ЭКСГАУСТЕР А/М №5</td>\n      <td>AA2/002-006-002-005-001</td>\n      <td>ГСМ ЭКСГ. №5</td>\n      <td>M3</td>\n      <td>Механические примеси = 0,043</td>\n      <td>2019-12-15 14:02:18</td>\n      <td>2020-12-07 10:00:00</td>\n      <td>NaN</td>\n    </tr>\n    <tr>\n      <th>326</th>\n      <td>811</td>\n      <td>CH-AGP-AG2/009-005</td>\n      <td>ЭКСГАУСТЕР А/М №8</td>\n      <td>CH-AGP-AG2/009-005-001-008</td>\n      <td>КОЖУХ МУФТЫ ЭКСГ. №8</td>\n      <td>M3</td>\n      <td>Утечка масла.</td>\n      <td>2020-01-02 20:47:00</td>\n      <td>2020-12-29 00:00:00</td>\n      <td>NaN</td>\n    </tr>\n    <tr>\n      <th>393</th>\n      <td>926</td>\n      <td>AA2/002-006</td>\n      <td>ЭКСГАУСТЕР А/М №5</td>\n      <td>AA2/002-006-001-006-002</td>\n      <td>КЛ1 ТР№5 ДО ЭД ЭКСГАУСТЕРА №5</td>\n      <td>M3</td>\n      <td>ВВД КЛ РП 22 РУ-6кВ тр. №5 к.1</td>\n      <td>2020-03-18 15:58:54</td>\n      <td>2021-05-05 00:00:00</td>\n      <td>NaN</td>\n    </tr>\n    <tr>\n      <th>394</th>\n      <td>928</td>\n      <td>AA2/002-006</td>\n      <td>ЭКСГАУСТЕР А/М №5</td>\n      <td>AA2/002-006-001-006-003</td>\n      <td>КЛ2 ТР№5 ДО ЭД ЭКСГАУСТЕРА №5</td>\n      <td>M3</td>\n      <td>ВВД КЛ РП 22 РУ-6кВ тр. №5 к.2</td>\n      <td>2020-03-18 16:02:51</td>\n      <td>2021-05-05 00:00:00</td>\n      <td>NaN</td>\n    </tr>\n    <tr>\n      <th>480</th>\n      <td>1096</td>\n      <td>AA2/005-006</td>\n      <td>ЭКСГАУСТЕР А/М №8</td>\n      <td>AA2/005-006-001-002</td>\n      <td>РОТОР ЭКСГ. №8</td>\n      <td>M3</td>\n      <td>Механический износ муфты</td>\n      <td>2020-06-22 12:15:18</td>\n      <td>2021-08-24 00:00:00</td>\n      <td>NaN</td>\n    </tr>\n    <tr>\n      <th>556</th>\n      <td>1247</td>\n      <td>AA2/002-006</td>\n      <td>ЭКСГАУСТЕР А/М №5</td>\n      <td>AA2/002-006-003-002</td>\n      <td>РЕДУКТОР ГАЗ. ЗАДВИЖКИ ЭКСГ. №5</td>\n      <td>M3</td>\n      <td>Износ гайи и втулки (1,8 мм)</td>\n      <td>2020-09-03 13:57:32</td>\n      <td>2021-08-05 00:00:00</td>\n      <td>NaN</td>\n    </tr>\n    <tr>\n      <th>600</th>\n      <td>1342</td>\n      <td>AA2/005-006</td>\n      <td>ЭКСГАУСТЕР А/М №8</td>\n      <td>AA2/005-006-003-002</td>\n      <td>РЕДУКТОР ГАЗ. ЗАДВИЖКИ ЭКСГ. №8</td>\n      <td>M3</td>\n      <td>низкий уровень смазки</td>\n      <td>2020-10-26 14:45:14</td>\n      <td>2021-08-24 00:00:00</td>\n      <td>NaN</td>\n    </tr>\n  </tbody>\n</table>\n</div>"
     },
     "execution_count": 14,
     "metadata": {},
     "output_type": "execute_result"
    }
   ],
   "source": [
    "good_messages1"
   ],
   "metadata": {
    "collapsed": false,
    "pycharm": {
     "name": "#%%\n"
    }
   }
  },
  {
   "cell_type": "code",
   "execution_count": 5,
   "outputs": [
    {
     "data": {
      "text/plain": "     Unnamed: 0              МАШИНА         ИМЯ_МАШИНЫ  \\\n87          501  CH-AGP-AG2/009-005  ЭКСГАУСТЕР А/М №8   \n162         590  CH-AGP-AG2/007-005  ЭКСГАУСТЕР А/М №7   \n187         616  CH-AGP-AG2/003-005  ЭКСГАУСТЕР А/М №5   \n197         626  CH-AGP-AG2/011-005  ЭКСГАУСТЕР А/М №9   \n198         627  CH-AGP-AG2/011-005  ЭКСГАУСТЕР А/М №9   \n..          ...                 ...                ...   \n972        2149         AA2/002-006  ЭКСГАУСТЕР А/М №5   \n973        2150         AA2/001-006  ЭКСГАУСТЕР А/М №4   \n977        2156         AA2/005-006  ЭКСГАУСТЕР А/М №8   \n978        2157         AA2/003-006  ЭКСГАУСТЕР А/М №6   \n979        2158         AA2/001-006  ЭКСГАУСТЕР А/М №4   \n\n                      ТЕХ_МЕСТО                 НАЗВАНИЕ_ТЕХ_МЕСТА  \\\n87   CH-AGP-AG2/009-005-002-004   МАСЛООХЛАДИТЕЛЬ  М-05-1 ЭКСГ. №8   \n162  CH-AGP-AG2/007-005-001-002                     РОТОР ЭКСГ. №7   \n187  CH-AGP-AG2/003-005-003-002    РЕДУКТОР ГАЗ. ЗАДВИЖКИ ЭКСГ. №5   \n197  CH-AGP-AG2/011-005-002-001        МАСЛОНАСОС РАБОЧИЙ ЭКСГ. №9   \n198  CH-AGP-AG2/011-005-001-003  ПОДШИПНИК ОПОРНО-УПОРНЫЙ ЭКСГ. №9   \n..                          ...                                ...   \n972         AA2/002-006-003-003                  ЗАДВИЖКА ЭКСГ. №5   \n973         AA2/001-006-003-003                  ЗАДВИЖКА ЭКСГ. №4   \n977         AA2/005-006-003-002    РЕДУКТОР ГАЗ. ЗАДВИЖКИ ЭКСГ. №8   \n978         AA2/003-006-001-001                    КОРПУС ЭКСГ. №6   \n979         AA2/001-006-001-006                     УЛИТА ЭКСГ. №4   \n\n    ВИД_СООБЩЕНИЯ             ОПИСАНИЕ ДАТА_НАЧАЛА_НЕИСПРАВНОСТИ  \\\n87             M3   греются подшипники       2019-04-08 21:50:44   \n162            M3           течь масла       2019-06-18 18:31:12   \n187            M3           нет смазки       2019-08-13 16:37:54   \n197            M3        неисправность       2019-08-21 19:32:00   \n198            M3         утечка масла       2019-08-21 19:40:37   \n..            ...                  ...                       ...   \n972            M3    Деформация кожуха       2021-12-21 13:32:00   \n973            M3  Неисправны датчики.       2021-12-21 14:34:35   \n977            M3    Смазка редуктора.       2021-12-28 09:23:00   \n978            M3              Прососы       2021-12-28 12:23:00   \n979            M3              Прососы       2021-12-28 12:39:00   \n\n    ДАТА_УСТРАНЕНИЯ_НЕИСПРАВНОСТИ ТЕКСТ_ГРУППЫ_КОДОВ  \n87                            NaT                NaN  \n162                           NaT                NaN  \n187                           NaT                NaN  \n197                           NaT                NaN  \n198                           NaT                NaN  \n..                            ...                ...  \n972                           NaT                NaN  \n973                           NaT                NaN  \n977                           NaT                NaN  \n978                           NaT                NaN  \n979                           NaT                NaN  \n\n[130 rows x 10 columns]",
      "text/html": "<div>\n<style scoped>\n    .dataframe tbody tr th:only-of-type {\n        vertical-align: middle;\n    }\n\n    .dataframe tbody tr th {\n        vertical-align: top;\n    }\n\n    .dataframe thead th {\n        text-align: right;\n    }\n</style>\n<table border=\"1\" class=\"dataframe\">\n  <thead>\n    <tr style=\"text-align: right;\">\n      <th></th>\n      <th>Unnamed: 0</th>\n      <th>МАШИНА</th>\n      <th>ИМЯ_МАШИНЫ</th>\n      <th>ТЕХ_МЕСТО</th>\n      <th>НАЗВАНИЕ_ТЕХ_МЕСТА</th>\n      <th>ВИД_СООБЩЕНИЯ</th>\n      <th>ОПИСАНИЕ</th>\n      <th>ДАТА_НАЧАЛА_НЕИСПРАВНОСТИ</th>\n      <th>ДАТА_УСТРАНЕНИЯ_НЕИСПРАВНОСТИ</th>\n      <th>ТЕКСТ_ГРУППЫ_КОДОВ</th>\n    </tr>\n  </thead>\n  <tbody>\n    <tr>\n      <th>87</th>\n      <td>501</td>\n      <td>CH-AGP-AG2/009-005</td>\n      <td>ЭКСГАУСТЕР А/М №8</td>\n      <td>CH-AGP-AG2/009-005-002-004</td>\n      <td>МАСЛООХЛАДИТЕЛЬ  М-05-1 ЭКСГ. №8</td>\n      <td>M3</td>\n      <td>греются подшипники</td>\n      <td>2019-04-08 21:50:44</td>\n      <td>NaT</td>\n      <td>NaN</td>\n    </tr>\n    <tr>\n      <th>162</th>\n      <td>590</td>\n      <td>CH-AGP-AG2/007-005</td>\n      <td>ЭКСГАУСТЕР А/М №7</td>\n      <td>CH-AGP-AG2/007-005-001-002</td>\n      <td>РОТОР ЭКСГ. №7</td>\n      <td>M3</td>\n      <td>течь масла</td>\n      <td>2019-06-18 18:31:12</td>\n      <td>NaT</td>\n      <td>NaN</td>\n    </tr>\n    <tr>\n      <th>187</th>\n      <td>616</td>\n      <td>CH-AGP-AG2/003-005</td>\n      <td>ЭКСГАУСТЕР А/М №5</td>\n      <td>CH-AGP-AG2/003-005-003-002</td>\n      <td>РЕДУКТОР ГАЗ. ЗАДВИЖКИ ЭКСГ. №5</td>\n      <td>M3</td>\n      <td>нет смазки</td>\n      <td>2019-08-13 16:37:54</td>\n      <td>NaT</td>\n      <td>NaN</td>\n    </tr>\n    <tr>\n      <th>197</th>\n      <td>626</td>\n      <td>CH-AGP-AG2/011-005</td>\n      <td>ЭКСГАУСТЕР А/М №9</td>\n      <td>CH-AGP-AG2/011-005-002-001</td>\n      <td>МАСЛОНАСОС РАБОЧИЙ ЭКСГ. №9</td>\n      <td>M3</td>\n      <td>неисправность</td>\n      <td>2019-08-21 19:32:00</td>\n      <td>NaT</td>\n      <td>NaN</td>\n    </tr>\n    <tr>\n      <th>198</th>\n      <td>627</td>\n      <td>CH-AGP-AG2/011-005</td>\n      <td>ЭКСГАУСТЕР А/М №9</td>\n      <td>CH-AGP-AG2/011-005-001-003</td>\n      <td>ПОДШИПНИК ОПОРНО-УПОРНЫЙ ЭКСГ. №9</td>\n      <td>M3</td>\n      <td>утечка масла</td>\n      <td>2019-08-21 19:40:37</td>\n      <td>NaT</td>\n      <td>NaN</td>\n    </tr>\n    <tr>\n      <th>...</th>\n      <td>...</td>\n      <td>...</td>\n      <td>...</td>\n      <td>...</td>\n      <td>...</td>\n      <td>...</td>\n      <td>...</td>\n      <td>...</td>\n      <td>...</td>\n      <td>...</td>\n    </tr>\n    <tr>\n      <th>972</th>\n      <td>2149</td>\n      <td>AA2/002-006</td>\n      <td>ЭКСГАУСТЕР А/М №5</td>\n      <td>AA2/002-006-003-003</td>\n      <td>ЗАДВИЖКА ЭКСГ. №5</td>\n      <td>M3</td>\n      <td>Деформация кожуха</td>\n      <td>2021-12-21 13:32:00</td>\n      <td>NaT</td>\n      <td>NaN</td>\n    </tr>\n    <tr>\n      <th>973</th>\n      <td>2150</td>\n      <td>AA2/001-006</td>\n      <td>ЭКСГАУСТЕР А/М №4</td>\n      <td>AA2/001-006-003-003</td>\n      <td>ЗАДВИЖКА ЭКСГ. №4</td>\n      <td>M3</td>\n      <td>Неисправны датчики.</td>\n      <td>2021-12-21 14:34:35</td>\n      <td>NaT</td>\n      <td>NaN</td>\n    </tr>\n    <tr>\n      <th>977</th>\n      <td>2156</td>\n      <td>AA2/005-006</td>\n      <td>ЭКСГАУСТЕР А/М №8</td>\n      <td>AA2/005-006-003-002</td>\n      <td>РЕДУКТОР ГАЗ. ЗАДВИЖКИ ЭКСГ. №8</td>\n      <td>M3</td>\n      <td>Смазка редуктора.</td>\n      <td>2021-12-28 09:23:00</td>\n      <td>NaT</td>\n      <td>NaN</td>\n    </tr>\n    <tr>\n      <th>978</th>\n      <td>2157</td>\n      <td>AA2/003-006</td>\n      <td>ЭКСГАУСТЕР А/М №6</td>\n      <td>AA2/003-006-001-001</td>\n      <td>КОРПУС ЭКСГ. №6</td>\n      <td>M3</td>\n      <td>Прососы</td>\n      <td>2021-12-28 12:23:00</td>\n      <td>NaT</td>\n      <td>NaN</td>\n    </tr>\n    <tr>\n      <th>979</th>\n      <td>2158</td>\n      <td>AA2/001-006</td>\n      <td>ЭКСГАУСТЕР А/М №4</td>\n      <td>AA2/001-006-001-006</td>\n      <td>УЛИТА ЭКСГ. №4</td>\n      <td>M3</td>\n      <td>Прососы</td>\n      <td>2021-12-28 12:39:00</td>\n      <td>NaT</td>\n      <td>NaN</td>\n    </tr>\n  </tbody>\n</table>\n<p>130 rows × 10 columns</p>\n</div>"
     },
     "execution_count": 5,
     "metadata": {},
     "output_type": "execute_result"
    }
   ],
   "source": [
    "filtered_messages\n",
    "\n"
   ],
   "metadata": {
    "collapsed": false,
    "pycharm": {
     "name": "#%%\n"
    }
   }
  },
  {
   "cell_type": "code",
   "execution_count": 6,
   "outputs": [
    {
     "ename": "SyntaxError",
     "evalue": "invalid syntax (2901466349.py, line 1)",
     "output_type": "error",
     "traceback": [
      "\u001B[1;36m  Cell \u001B[1;32mIn[6], line 1\u001B[1;36m\u001B[0m\n\u001B[1;33m    all_tech_mests =\u001B[0m\n\u001B[1;37m                    ^\u001B[0m\n\u001B[1;31mSyntaxError\u001B[0m\u001B[1;31m:\u001B[0m invalid syntax\n"
     ]
    }
   ],
   "source": [
    "all_tech_mests ="
   ],
   "metadata": {
    "collapsed": false,
    "pycharm": {
     "name": "#%%\n"
    }
   }
  },
  {
   "cell_type": "code",
   "execution_count": null,
   "outputs": [],
   "source": [
    "import pickle\n",
    "from typing import Dict\n",
    "from exgauster.utils import DataOfExgauster\n",
    "\n",
    "with open('prepared_data.pkl', \"rb\") as f:\n",
    "    exgausters_data: Dict[int, DataOfExgauster] = pickle.load(f)\n"
   ],
   "metadata": {
    "collapsed": false,
    "pycharm": {
     "name": "#%%\n"
    }
   }
  },
  {
   "cell_type": "code",
   "execution_count": null,
   "outputs": [],
   "source": [
    "tech_mests = set()\n",
    "\n",
    "\n",
    "for i, item in exgausters_data.items():\n",
    "    for techmests in item.y.m1:\n",
    "        tech_mests.add(techmests.colname)\n",
    "    for techmests in item.y.m3:\n",
    "        tech_mests.add(techmests.colname)\n"
   ],
   "metadata": {
    "collapsed": false,
    "pycharm": {
     "name": "#%%\n"
    }
   }
  },
  {
   "cell_type": "code",
   "execution_count": null,
   "outputs": [],
   "source": [
    "tech_mests_df = pd.DataFrame(tech_mests)"
   ],
   "metadata": {
    "collapsed": false,
    "pycharm": {
     "name": "#%%\n"
    }
   }
  },
  {
   "cell_type": "code",
   "execution_count": null,
   "outputs": [],
   "source": [
    "tech_mests_df"
   ],
   "metadata": {
    "collapsed": false,
    "pycharm": {
     "name": "#%%\n"
    }
   }
  },
  {
   "cell_type": "code",
   "execution_count": 16,
   "outputs": [
    {
     "name": "stdout",
     "output_type": "stream",
     "text": [
      "{4: [SkipData(colname='Y_ЭКСГАУСТЕР А/М №4_РОТОР ЭКСГ. №4', datetime_start=Timestamp('2020-01-06 22:41:17'), datetime_end=None), SkipData(colname='Y_ЭКСГАУСТЕР А/М №4_ПОДШИПНИК ОПОРНЫЙ ЭКСГ. №4', datetime_start=Timestamp('2020-01-16 14:27:27'), datetime_end=None), SkipData(colname='Y_ЭКСГАУСТЕР А/М №4_РОТОР ЭКСГ. №4', datetime_start=Timestamp('2020-01-18 20:47:02'), datetime_end=None), SkipData(colname='Y_ЭКСГАУСТЕР А/М №4_ПОДШИПНИК ОПОРНЫЙ ЭКСГ. №4', datetime_start=Timestamp('2020-01-28 17:01:32'), datetime_end=None), SkipData(colname='Y_ЭКСГАУСТЕР А/М №4_ПОДШИПНИК ОПОРНЫЙ ЭКСГ. №4', datetime_start=Timestamp('2020-02-09 08:58:21'), datetime_end=None), SkipData(colname='Y_ЭКСГАУСТЕР А/М №4_ПОДШИПНИК ОПОРНЫЙ ЭКСГ. №4', datetime_start=Timestamp('2020-03-20 22:20:15'), datetime_end=None), SkipData(colname='Y_ЭКСГАУСТЕР А/М №4_ПОДШИПНИК ОПОРНО-УПОРНЫЙ ЭКСГ. №4', datetime_start=Timestamp('2020-06-08 14:29:44'), datetime_end=None), SkipData(colname='Y_ЭКСГАУСТЕР А/М №4_КЛ1 ТР№4 ДО ЭД ЭКСГАУСТЕРА №4', datetime_start=Timestamp('2020-10-08 15:44:58'), datetime_end=None), SkipData(colname='Y_ЭКСГАУСТЕР А/М №4_КЛ2 ТР№4 ДО ЭД ЭКСГАУСТЕРА №4', datetime_start=Timestamp('2020-10-08 15:59:02'), datetime_end=None), SkipData(colname='Y_ЭКСГАУСТЕР А/М №4_УЛИТА ЭКСГ. №4', datetime_start=Timestamp('2021-05-24 10:08:00'), datetime_end=None), SkipData(colname='Y_ЭКСГАУСТЕР А/М №4_ПОДШИПНИК ОПОРНО-УПОРНЫЙ ЭКСГ. №4', datetime_start=Timestamp('2021-06-02 17:21:45'), datetime_end=None), SkipData(colname='Y_ЭКСГАУСТЕР А/М №4_УЛИТА ЭКСГ. №4', datetime_start=Timestamp('2021-06-16 13:38:00'), datetime_end=None), SkipData(colname='Y_ЭКСГАУСТЕР А/М №4_ТР-Р ТМ-4000-10/6 ЭКСГ. №4', datetime_start=Timestamp('2021-06-23 12:35:01'), datetime_end=None), SkipData(colname='Y_ЭКСГАУСТЕР А/М №4_ПОДШИПНИК ОПОРНЫЙ ЭКСГ. №4', datetime_start=Timestamp('2021-07-27 11:38:00'), datetime_end=None), SkipData(colname='Y_ЭКСГАУСТЕР А/М №4_УЛИТА ЭКСГ. №4', datetime_start=Timestamp('2021-07-27 11:43:00'), datetime_end=None), SkipData(colname='Y_ЭКСГАУСТЕР А/М №4_ПОДШИПНИК ОПОРНО-УПОРНЫЙ ЭКСГ. №4', datetime_start=Timestamp('2021-08-05 20:57:00'), datetime_end=None), SkipData(colname='Y_ЭКСГАУСТЕР А/М №4_ПОДШИПНИК ОПОРНО-УПОРНЫЙ ЭКСГ. №4', datetime_start=Timestamp('2021-08-05 21:21:00'), datetime_end=None), SkipData(colname='Y_ЭКСГАУСТЕР А/М №4_УЛИТА ЭКСГ. №4', datetime_start=Timestamp('2021-08-25 12:48:00'), datetime_end=None), SkipData(colname='Y_ЭКСГАУСТЕР А/М №4_УЛИТА ЭКСГ. №4', datetime_start=Timestamp('2021-08-31 09:13:00'), datetime_end=None), SkipData(colname='Y_ЭКСГАУСТЕР А/М №4_УЛИТА ЭКСГ. №4', datetime_start=Timestamp('2021-09-27 07:02:04'), datetime_end=None), SkipData(colname='Y_ЭКСГАУСТЕР А/М №4_ГСМ ЭКСГ. №4', datetime_start=Timestamp('2021-09-30 16:51:18'), datetime_end=None), SkipData(colname='Y_ЭКСГАУСТЕР А/М №4_РОТОР ЭКСГ. №4', datetime_start=Timestamp('2021-10-21 11:35:16'), datetime_end=None), SkipData(colname='Y_ЭКСГАУСТЕР А/М №4_РОТОР ЭКСГ. №4', datetime_start=Timestamp('2021-11-30 11:36:00'), datetime_end=None), SkipData(colname='Y_ЭКСГАУСТЕР А/М №4_ЭЛЕКТРОДВИГАТЕЛЬ ДСПУ-140-84-4 ЭКСГ. №4', datetime_start=Timestamp('2021-12-06 12:18:13'), datetime_end=None), SkipData(colname='Y_ЭКСГАУСТЕР А/М №4_ЗАДВИЖКА ЭКСГ. №4', datetime_start=Timestamp('2021-12-21 14:34:35'), datetime_end=None), SkipData(colname='Y_ЭКСГАУСТЕР А/М №4_УЛИТА ЭКСГ. №4', datetime_start=Timestamp('2021-12-28 12:39:00'), datetime_end=None)], 5: [SkipData(colname='Y_ЭКСГАУСТЕР А/М №5_РЕДУКТОР ГАЗ. ЗАДВИЖКИ ЭКСГ. №5', datetime_start=Timestamp('2019-08-13 16:37:54'), datetime_end=None), SkipData(colname='Y_ЭКСГАУСТЕР А/М №5_ПОДШИПНИК ОПОРНЫЙ №2', datetime_start=Timestamp('2019-09-30 17:17:26'), datetime_end=None), SkipData(colname='Y_ЭКСГАУСТЕР А/М №5_ПОДШИПНИК ОПОРНЫЙ ЭКСГ. №5', datetime_start=Timestamp('2020-01-04 17:02:43'), datetime_end=None), SkipData(colname='Y_ЭКСГАУСТЕР А/М №5_МАСЛОПРОВОДЫ ЭКСГАУСТЕРА №5', datetime_start=Timestamp('2020-01-06 22:27:56'), datetime_end=None), SkipData(colname='Y_ЭКСГАУСТЕР А/М №5_ГСМ ЭКСГ. №5', datetime_start=Timestamp('2020-01-16 17:26:53'), datetime_end=None), SkipData(colname='Y_ЭКСГАУСТЕР А/М №5_ГСМ ЭКСГ. №5', datetime_start=Timestamp('2020-02-06 21:00:25'), datetime_end=None), SkipData(colname='Y_ЭКСГАУСТЕР А/М №5_МАСЛОНАСОС РАБОЧИЙ ЭКСГ. №5', datetime_start=Timestamp('2020-06-16 12:04:05'), datetime_end=None), SkipData(colname='Y_ЭКСГАУСТЕР А/М №5_МАСЛОНАСОС РАБОЧИЙ ЭКСГ. №5', datetime_start=Timestamp('2020-12-18 09:46:32'), datetime_end=None), SkipData(colname='Y_ЭКСГАУСТЕР А/М №5_ТР-Р ТМ-4000-10/6 ЭКСГ. №5', datetime_start=Timestamp('2021-01-14 19:49:41'), datetime_end=None), SkipData(colname='Y_ЭКСГАУСТЕР А/М №5_РОТОР ЭКСГ. №5', datetime_start=Timestamp('2021-03-30 09:50:05'), datetime_end=None), SkipData(colname='Y_ЭКСГАУСТЕР А/М №5_ТР-Р ТМ-4000-10/6 ЭКСГ. №5', datetime_start=Timestamp('2021-05-05 13:34:55'), datetime_end=None), SkipData(colname='Y_ЭКСГАУСТЕР А/М №5_КОРПУС ЭКСГ. №5', datetime_start=Timestamp('2021-07-13 15:30:00'), datetime_end=None), SkipData(colname='Y_ЭКСГАУСТЕР А/М №5_РЕДУКТОР ГАЗ. ЗАДВИЖКИ ЭКСГ. №5', datetime_start=Timestamp('2021-08-14 11:19:00'), datetime_end=None), SkipData(colname='Y_ЭКСГАУСТЕР А/М №5_РЕДУКТОР ГАЗ. ЗАДВИЖКИ ЭКСГ. №5', datetime_start=Timestamp('2021-08-26 13:48:00'), datetime_end=None), SkipData(colname='Y_ЭКСГАУСТЕР А/М №5_КОЖУХ МУФТЫ ЭКСГ. №5', datetime_start=Timestamp('2021-11-16 03:30:00'), datetime_end=None), SkipData(colname='Y_ЭКСГАУСТЕР А/М №5_КОРПУС ЭКСГ. №5', datetime_start=Timestamp('2021-11-25 13:22:00'), datetime_end=None), SkipData(colname='Y_ЭКСГАУСТЕР А/М №5_ЗАДВИЖКА ЭКСГ. №5', datetime_start=Timestamp('2021-11-25 14:01:00'), datetime_end=None), SkipData(colname='Y_ЭКСГАУСТЕР А/М №5_ЭЛЕКТРОДВИГАТЕЛЬ ДСПУ-140-84-4 ЭКСГ. №5', datetime_start=Timestamp('2021-12-12 11:27:00'), datetime_end=None), SkipData(colname='Y_ЭКСГАУСТЕР А/М №5_ЗАДВИЖКА ЭКСГ. №5', datetime_start=Timestamp('2021-12-21 13:32:00'), datetime_end=None), SkipData(colname='Y_ЭКСГАУСТЕР А/М №5_ЭЛЕКТРОДВИГАТЕЛЬ ДСПУ-140-84-4 ЭКСГ. №5', datetime_start=Timestamp('2019-02-11 08:46:05'), datetime_end=Timestamp('2021-02-09 00:00:00')), SkipData(colname='Y_ЭКСГАУСТЕР А/М №5_МАСЛОНАСОС ШЕСТЕРЕНЧАТЫЙ (РЕЗ.) ЭКСГ. №5', datetime_start=Timestamp('2019-03-22 13:21:26'), datetime_end=Timestamp('2020-02-11 13:59:29')), SkipData(colname='Y_ЭКСГАУСТЕР А/М №5_ГСМ ЭКСГ. №5', datetime_start=Timestamp('2019-12-15 14:02:18'), datetime_end=Timestamp('2020-12-07 10:00:00')), SkipData(colname='Y_ЭКСГАУСТЕР А/М №5_КЛ1 ТР№5 ДО ЭД ЭКСГАУСТЕРА №5', datetime_start=Timestamp('2020-03-18 15:58:54'), datetime_end=Timestamp('2021-05-05 00:00:00')), SkipData(colname='Y_ЭКСГАУСТЕР А/М №5_КЛ2 ТР№5 ДО ЭД ЭКСГАУСТЕРА №5', datetime_start=Timestamp('2020-03-18 16:02:51'), datetime_end=Timestamp('2021-05-05 00:00:00')), SkipData(colname='Y_ЭКСГАУСТЕР А/М №5_РЕДУКТОР ГАЗ. ЗАДВИЖКИ ЭКСГ. №5', datetime_start=Timestamp('2020-09-03 13:57:32'), datetime_end=Timestamp('2021-08-05 00:00:00'))], 6: [SkipData(colname='Y_ЭКСГАУСТЕР А/М №6_КОРПУС ЭКСГ. №6', datetime_start=Timestamp('2019-11-06 16:18:24'), datetime_end=None), SkipData(colname='Y_ЭКСГАУСТЕР А/М №6_ПОДШИПНИК ОПОРНО-УПОРНЫЙ ЭКСГ. №6', datetime_start=Timestamp('2019-12-03 11:15:26'), datetime_end=None), SkipData(colname='Y_ЭКСГАУСТЕР А/М №6_ПОДШИПНИК ОПОРНЫЙ №2', datetime_start=Timestamp('2019-12-12 09:10:58'), datetime_end=None), SkipData(colname='Y_ЭКСГАУСТЕР А/М №6_РОТОР ЭКСГ. №6', datetime_start=Timestamp('2020-01-10 20:51:55'), datetime_end=None), SkipData(colname='Y_ЭКСГАУСТЕР А/М №6_ПОДШИПНИК ОПОРНЫЙ №2', datetime_start=Timestamp('2020-01-29 10:18:15'), datetime_end=None), SkipData(colname='Y_ЭКСГАУСТЕР А/М №6_ПОДШИПНИК ОПОРНО-УПОРНЫЙ ЭКСГ. №6', datetime_start=Timestamp('2020-03-20 18:48:03'), datetime_end=None), SkipData(colname='Y_ЭКСГАУСТЕР А/М №6_МАСЛОБАК ЭКСГ. №6', datetime_start=Timestamp('2020-03-24 09:32:44'), datetime_end=None), SkipData(colname='Y_ЭКСГАУСТЕР А/М №6_КОРПУС ЭКСГ. №6', datetime_start=Timestamp('2020-05-13 12:14:41'), datetime_end=None), SkipData(colname='Y_ЭКСГАУСТЕР А/М №6_РОТОР ЭКСГ. №6', datetime_start=Timestamp('2021-02-16 23:46:49'), datetime_end=None), SkipData(colname='Y_ЭКСГАУСТЕР А/М №6_ПОДШИПНИК ОПОРНЫЙ ЭКСГ. №6', datetime_start=Timestamp('2021-06-07 16:21:00'), datetime_end=None), SkipData(colname='Y_ЭКСГАУСТЕР А/М №6_КОРПУС ЭКСГ. №6', datetime_start=Timestamp('2021-07-08 13:24:00'), datetime_end=None), SkipData(colname='Y_ЭКСГАУСТЕР А/М №6_ЗАДВИЖКА ЭКСГ. №6', datetime_start=Timestamp('2021-07-20 14:27:00'), datetime_end=None), SkipData(colname='Y_ЭКСГАУСТЕР А/М №6_ПОДШИПНИК ОПОРНЫЙ ЭКСГ. №6', datetime_start=Timestamp('2021-07-27 12:20:00'), datetime_end=None), SkipData(colname='Y_ЭКСГАУСТЕР А/М №6_ЗАДВИЖКА ЭКСГ. №6', datetime_start=Timestamp('2021-07-27 12:50:00'), datetime_end=None), SkipData(colname='Y_ЭКСГАУСТЕР А/М №6_МАСЛОБАК ЭКСГ. №6', datetime_start=Timestamp('2021-09-30 16:53:16'), datetime_end=None), SkipData(colname='Y_ЭКСГАУСТЕР А/М №6_КОРПУС ЭКСГ. №6', datetime_start=Timestamp('2021-11-25 13:30:00'), datetime_end=None), SkipData(colname='Y_ЭКСГАУСТЕР А/М №6_РЕДУКТОР ГАЗ. ЗАДВИЖКИ ЭКСГ. №6', datetime_start=Timestamp('2021-12-14 18:11:00'), datetime_end=None), SkipData(colname='Y_ЭКСГАУСТЕР А/М №6_КОРПУС ЭКСГ. №6', datetime_start=Timestamp('2021-12-28 12:23:00'), datetime_end=None), SkipData(colname='Y_ЭКСГАУСТЕР А/М №6_ЭЛЕКТРОДВИГАТЕЛЬ ДСПУ-140-84-4 ЭКСГ. №6', datetime_start=Timestamp('2019-03-11 08:48:10'), datetime_end=Timestamp('2020-04-28 00:00:00'))], 7: [SkipData(colname='Y_ЭКСГАУСТЕР А/М №7_РОТОР ЭКСГ. №7', datetime_start=Timestamp('2019-06-18 18:31:12'), datetime_end=None), SkipData(colname='Y_ЭКСГАУСТЕР А/М №7_ПОДШИПНИК ОПОРНО-УПОРНЫЙ ЭКСГ. №7', datetime_start=Timestamp('2019-09-30 17:18:44'), datetime_end=None), SkipData(colname='Y_ЭКСГАУСТЕР А/М №7_ПОДШИПНИК ОПОРНЫЙ №2', datetime_start=Timestamp('2019-09-30 17:19:38'), datetime_end=None), SkipData(colname='Y_ЭКСГАУСТЕР А/М №7_ПОДШИПНИК ОПОРНЫЙ ЭКСГ. №7', datetime_start=Timestamp('2019-10-04 16:10:28'), datetime_end=None), SkipData(colname='Y_ЭКСГАУСТЕР А/М №7_ПОДШИПНИК ОПОРНЫЙ ЭКСГ. №7', datetime_start=Timestamp('2019-10-14 03:03:41'), datetime_end=None), SkipData(colname='Y_ЭКСГАУСТЕР А/М №7_ПОДШИПНИК ОПОРНЫЙ №2', datetime_start=Timestamp('2019-10-16 15:13:24'), datetime_end=None), SkipData(colname='Y_ЭКСГАУСТЕР А/М №7_ПОДШИПНИК ОПОРНЫЙ ЭКСГ. №7', datetime_start=Timestamp('2019-10-25 21:01:01'), datetime_end=None), SkipData(colname='Y_ЭКСГАУСТЕР А/М №7_ПОДШИПНИК ОПОРНЫЙ ЭКСГ. №7', datetime_start=Timestamp('2019-11-21 15:22:50'), datetime_end=None), SkipData(colname='Y_ЭКСГАУСТЕР А/М №7_ПОДШИПНИК ОПОРНЫЙ ЭКСГ. №7', datetime_start=Timestamp('2019-12-03 10:58:30'), datetime_end=None), SkipData(colname='Y_ЭКСГАУСТЕР А/М №7_ПОДШИПНИК ОПОРНЫЙ ЭКСГ. №7', datetime_start=Timestamp('2019-12-12 08:31:20'), datetime_end=None), SkipData(colname='Y_ЭКСГАУСТЕР А/М №7_ЭЛЕКТРОДВИГАТЕЛЬ ДСПУ-140-84-4 ЭКСГ. №7', datetime_start=Timestamp('2019-12-12 08:35:04'), datetime_end=None), SkipData(colname='Y_ЭКСГАУСТЕР А/М №7_ПОДШИПНИК ОПОРНЫЙ ЭКСГ. №7', datetime_start=Timestamp('2019-12-27 17:05:26'), datetime_end=None), SkipData(colname='Y_ЭКСГАУСТЕР А/М №7_ПОДШИПНИК ОПОРНЫЙ №2', datetime_start=Timestamp('2019-12-27 17:13:04'), datetime_end=None), SkipData(colname='Y_ЭКСГАУСТЕР А/М №7_РОТОР ЭКСГ. №7', datetime_start=Timestamp('2020-01-17 11:22:08'), datetime_end=None), SkipData(colname='Y_ЭКСГАУСТЕР А/М №7_ПОДШИПНИК ОПОРНЫЙ ЭКСГ. №7', datetime_start=Timestamp('2020-02-10 21:39:06'), datetime_end=None), SkipData(colname='Y_ЭКСГАУСТЕР А/М №7_ПОДШИПНИК ОПОРНЫЙ ЭКСГ. №7', datetime_start=Timestamp('2020-03-20 15:40:35'), datetime_end=None), SkipData(colname='Y_ЭКСГАУСТЕР А/М №7_ПОДШИПНИК ОПОРНЫЙ ЭКСГ. №7', datetime_start=Timestamp('2020-04-01 17:34:21'), datetime_end=None), SkipData(colname='Y_ЭКСГАУСТЕР А/М №7_ПОДШИПНИК ОПОРНЫЙ ЭКСГ. №7', datetime_start=Timestamp('2020-05-07 11:51:59'), datetime_end=None), SkipData(colname='Y_ЭКСГАУСТЕР А/М №7_ПОДШИПНИК ОПОРНЫЙ ЭКСГ. №7', datetime_start=Timestamp('2020-06-12 10:09:32'), datetime_end=None), SkipData(colname='Y_ЭКСГАУСТЕР А/М №7_РОТОР ЭКСГ. №7', datetime_start=Timestamp('2020-06-22 12:23:55'), datetime_end=None), SkipData(colname='Y_ЭКСГАУСТЕР А/М №7_ПОДШИПНИК ОПОРНЫЙ ЭКСГ. №7', datetime_start=Timestamp('2020-06-24 17:16:36'), datetime_end=None), SkipData(colname='Y_ЭКСГАУСТЕР А/М №7_МАСЛОНАСОС РАБОЧИЙ ЭКСГ. №7', datetime_start=Timestamp('2020-12-18 09:24:57'), datetime_end=None), SkipData(colname='Y_ЭКСГАУСТЕР А/М №7_МАСЛОНАСОС ШЕСТЕРЕНЧАТЫЙ (ПУСК.) ЭКСГ.№7', datetime_start=Timestamp('2021-01-21 09:53:14'), datetime_end=None), SkipData(colname='Y_ЭКСГАУСТЕР А/М №7_МАСЛОНАСОС РАБОЧИЙ ЭКСГ. №7', datetime_start=Timestamp('2021-07-27 12:57:00'), datetime_end=None), SkipData(colname='Y_ЭКСГАУСТЕР А/М №7_ТИРИСТОРНЫЙ ВОЗБУДИТЕЛЬ ТВ-400 ЭКСГ7 ВУ1', datetime_start=Timestamp('2021-09-14 15:27:00'), datetime_end=None), SkipData(colname='Y_ЭКСГАУСТЕР А/М №7_РОТОР ЭКСГ. №7', datetime_start=Timestamp('2021-09-28 13:04:00'), datetime_end=None), SkipData(colname='Y_ЭКСГАУСТЕР А/М №7_ЗАДВИЖКА ЭКСГ. №7', datetime_start=Timestamp('2021-09-28 13:39:00'), datetime_end=None), SkipData(colname='Y_ЭКСГАУСТЕР А/М №7_РОТОР ЭКСГ. №7', datetime_start=Timestamp('2021-10-19 07:29:00'), datetime_end=None), SkipData(colname='Y_ЭКСГАУСТЕР А/М №7_ЗАДВИЖКА ЭКСГ. №7', datetime_start=Timestamp('2021-11-25 13:58:00'), datetime_end=None), SkipData(colname='Y_ЭКСГАУСТЕР А/М №7_ЗАДВИЖКА ЭКСГ. №7', datetime_start=Timestamp('2019-08-23 08:33:49'), datetime_end=Timestamp('2020-06-25 09:59:30')), SkipData(colname='Y_ЭКСГАУСТЕР А/М №7_ЗАДВИЖКА ЭКСГ. №7', datetime_start=Timestamp('2019-08-23 09:59:30'), datetime_end=Timestamp('2020-06-25 09:59:30')), SkipData(colname='Y_ЭКСГАУСТЕР А/М №7_РЕДУКТОР ГАЗ. ЗАДВИЖКИ ЭКСГ. №7', datetime_start=Timestamp('2019-08-27 12:50:19'), datetime_end=Timestamp('2020-07-13 00:00:00'))], 8: [SkipData(colname='Y_ЭКСГАУСТЕР А/М №8_МАСЛООХЛАДИТЕЛЬ  М-05-1 ЭКСГ. №8', datetime_start=Timestamp('2019-04-08 21:50:44'), datetime_end=None), SkipData(colname='Y_ЭКСГАУСТЕР А/М №8_РОТОР ЭКСГ. №8', datetime_start=Timestamp('2019-12-28 09:57:25'), datetime_end=None), SkipData(colname='Y_ЭКСГАУСТЕР А/М №8_РОТОР ЭКСГ. №8', datetime_start=Timestamp('2020-01-09 09:16:45'), datetime_end=None), SkipData(colname='Y_ЭКСГАУСТЕР А/М №8_РОТОР ЭКСГ. №8', datetime_start=Timestamp('2020-01-12 16:53:35'), datetime_end=None), SkipData(colname='Y_ЭКСГАУСТЕР А/М №8_РЕДУКТОР ГАЗ. ЗАДВИЖКИ ЭКСГ. №8', datetime_start=Timestamp('2020-01-14 20:36:02'), datetime_end=None), SkipData(colname='Y_ЭКСГАУСТЕР А/М №8_РОТОР ЭКСГ. №8', datetime_start=Timestamp('2020-01-14 21:13:40'), datetime_end=None), SkipData(colname='Y_ЭКСГАУСТЕР А/М №8_РОТОР ЭКСГ. №8', datetime_start=Timestamp('2020-01-19 00:01:45'), datetime_end=None), SkipData(colname='Y_ЭКСГАУСТЕР А/М №8_РОТОР ЭКСГ. №8', datetime_start=Timestamp('2020-06-30 14:23:56'), datetime_end=None), SkipData(colname='Y_ЭКСГАУСТЕР А/М №8_КОЖУХ МУФТЫ ЭКСГ. №8', datetime_start=Timestamp('2020-09-20 10:09:24'), datetime_end=None), SkipData(colname='Y_ЭКСГАУСТЕР А/М №8_РЕДУКТОР ГАЗ. ЗАДВИЖКИ ЭКСГ. №8', datetime_start=Timestamp('2021-04-26 16:21:02'), datetime_end=None), SkipData(colname='Y_ЭКСГАУСТЕР А/М №8_КОРПУС ЭКСГ. №8', datetime_start=Timestamp('2021-06-16 14:03:00'), datetime_end=None), SkipData(colname='Y_ЭКСГАУСТЕР А/М №8_КОРПУС ЭКСГ. №8', datetime_start=Timestamp('2021-07-27 12:37:00'), datetime_end=None), SkipData(colname='Y_ЭКСГАУСТЕР А/М №8_ПОДШИПНИК ОПОРНЫЙ ЭКСГ. №8', datetime_start=Timestamp('2021-07-27 12:41:00'), datetime_end=None), SkipData(colname='Y_ЭКСГАУСТЕР А/М №8_РОТОР ЭКСГ. №8', datetime_start=Timestamp('2021-08-26 13:22:39'), datetime_end=None), SkipData(colname='Y_ЭКСГАУСТЕР А/М №8_ГСМ ЭКСГ. №8', datetime_start=Timestamp('2021-09-30 16:55:10'), datetime_end=None), SkipData(colname='Y_ЭКСГАУСТЕР А/М №8_ЗАДВИЖКА ЭКСГ. №8', datetime_start=Timestamp('2021-10-27 09:47:00'), datetime_end=None), SkipData(colname='Y_ЭКСГАУСТЕР А/М №8_РЕДУКТОР ГАЗ. ЗАДВИЖКИ ЭКСГ. №8', datetime_start=Timestamp('2021-10-29 23:53:36'), datetime_end=None), SkipData(colname='Y_ЭКСГАУСТЕР А/М №8_ЗАДВИЖКА ЭКСГ. №8', datetime_start=Timestamp('2021-10-31 06:42:06'), datetime_end=None), SkipData(colname='Y_ЭКСГАУСТЕР А/М №8_ЗАДВИЖКА ЭКСГ. №8', datetime_start=Timestamp('2021-11-25 13:54:00'), datetime_end=None), SkipData(colname='Y_ЭКСГАУСТЕР А/М №8_ЗАДВИЖКА ЭКСГ. №8', datetime_start=Timestamp('2021-12-21 02:07:42'), datetime_end=None), SkipData(colname='Y_ЭКСГАУСТЕР А/М №8_РЕДУКТОР ГАЗ. ЗАДВИЖКИ ЭКСГ. №8', datetime_start=Timestamp('2021-12-28 09:23:00'), datetime_end=None), SkipData(colname='Y_ЭКСГАУСТЕР А/М №8_ЭЛЕКТРОДВИГАТЕЛЬ ДСПУ-140-84-4 ЭКСГ. №8', datetime_start=Timestamp('2019-03-11 00:00:00'), datetime_end=Timestamp('2020-04-28 12:30:08')), SkipData(colname='Y_ЭКСГАУСТЕР А/М №8_КЛ2 ТР№8 ДО ЭД ЭКСГАУСТЕРА №8', datetime_start=Timestamp('2019-09-03 00:00:00'), datetime_end=Timestamp('2021-08-19 00:00:00')), SkipData(colname='Y_ЭКСГАУСТЕР А/М №8_КЛ1 ТР№8 ДО ЭД ЭКСГАУСТЕРА №8', datetime_start=Timestamp('2019-09-03 08:22:33'), datetime_end=Timestamp('2021-08-19 00:00:00')), SkipData(colname='Y_ЭКСГАУСТЕР А/М №8_КЛ2 ТР№8 ДО ЭД ЭКСГАУСТЕРА №8', datetime_start=Timestamp('2019-09-03 08:24:36'), datetime_end=Timestamp('2021-08-19 00:00:00')), SkipData(colname='Y_ЭКСГАУСТЕР А/М №8_КОЖУХ МУФТЫ ЭКСГ. №8', datetime_start=Timestamp('2020-01-02 20:47:00'), datetime_end=Timestamp('2020-12-29 00:00:00')), SkipData(colname='Y_ЭКСГАУСТЕР А/М №8_РОТОР ЭКСГ. №8', datetime_start=Timestamp('2020-06-22 12:15:18'), datetime_end=Timestamp('2021-08-24 00:00:00')), SkipData(colname='Y_ЭКСГАУСТЕР А/М №8_РЕДУКТОР ГАЗ. ЗАДВИЖКИ ЭКСГ. №8', datetime_start=Timestamp('2020-10-26 14:45:14'), datetime_end=Timestamp('2021-08-24 00:00:00'))], 9: [SkipData(colname='Y_ЭКСГАУСТЕР А/М №9_МАСЛОНАСОС РАБОЧИЙ ЭКСГ. №9', datetime_start=Timestamp('2019-08-21 19:32:00'), datetime_end=None), SkipData(colname='Y_ЭКСГАУСТЕР А/М №9_ПОДШИПНИК ОПОРНО-УПОРНЫЙ ЭКСГ. №9', datetime_start=Timestamp('2019-08-21 19:40:37'), datetime_end=None), SkipData(colname='Y_ЭКСГАУСТЕР А/М №9_РОТОР ЭКСГ. №9', datetime_start=Timestamp('2019-12-28 10:33:59'), datetime_end=None), SkipData(colname='Y_ЭКСГАУСТЕР А/М №9_РОТОР ЭКСГ. №9', datetime_start=Timestamp('2020-06-22 12:25:06'), datetime_end=None), SkipData(colname='Y_ЭКСГАУСТЕР А/М №9_ГСМ ЭКСГ. №9', datetime_start=Timestamp('2021-04-03 16:47:10'), datetime_end=None), SkipData(colname='Y_ЭКСГАУСТЕР А/М №9_РЕДУКТОР ГАЗ. ЗАДВИЖКИ ЭКСГ. №9', datetime_start=Timestamp('2021-06-01 10:44:00'), datetime_end=None), SkipData(colname='Y_ЭКСГАУСТЕР А/М №9_РОТОР ЭКСГ. №9', datetime_start=Timestamp('2021-06-22 16:02:00'), datetime_end=None), SkipData(colname='Y_ЭКСГАУСТЕР А/М №9_МАСЛОНАСОС РАБОЧИЙ ЭКСГ. №9', datetime_start=Timestamp('2021-07-08 13:01:00'), datetime_end=None), SkipData(colname='Y_ЭКСГАУСТЕР А/М №9_РОТОР ЭКСГ. №9', datetime_start=Timestamp('2021-07-27 12:28:00'), datetime_end=None), SkipData(colname='Y_ЭКСГАУСТЕР А/М №9_ПОДШИПНИК ОПОРНЫЙ ЭКСГ. №9', datetime_start=Timestamp('2021-07-27 12:30:00'), datetime_end=None), SkipData(colname='Y_ЭКСГАУСТЕР А/М №9_ПОДШИПНИК ОПОРНЫЙ №1', datetime_start=Timestamp('2021-08-31 09:39:00'), datetime_end=None), SkipData(colname='Y_ЭКСГАУСТЕР А/М №9_РОТОР ЭКСГ. №9', datetime_start=Timestamp('2021-10-25 10:14:15'), datetime_end=None), SkipData(colname='Y_ЭКСГАУСТЕР А/М №9_ЭЛЕКТРОДВИГАТЕЛЬ ДСПУ-140-84-4 ЭКСГ. №9', datetime_start=Timestamp('2021-11-22 12:54:51'), datetime_end=None), SkipData(colname='Y_ЭКСГАУСТЕР А/М №9_РОТОР ЭКСГ. №9', datetime_start=Timestamp('2021-11-25 12:27:00'), datetime_end=None), SkipData(colname='Y_ЭКСГАУСТЕР А/М №9_КОЖУХ МУФТЫ ЭКСГ. №9', datetime_start=Timestamp('2021-11-26 11:59:00'), datetime_end=None), SkipData(colname='Y_ЭКСГАУСТЕР А/М №9_КОРПУС ЭКСГ. №9', datetime_start=Timestamp('2021-12-07 13:16:00'), datetime_end=None), SkipData(colname='Y_ЭКСГАУСТЕР А/М №9_РОТОР ЭКСГ. №9', datetime_start=Timestamp('2021-12-14 18:18:00'), datetime_end=None), SkipData(colname='Y_ЭКСГАУСТЕР А/М №9_МАСЛООХЛАДИТЕЛЬ  М-05-1 ЭКСГ. №9', datetime_start=Timestamp('2019-02-07 22:34:48'), datetime_end=Timestamp('2019-12-24 00:00:00')), SkipData(colname='Y_ЭКСГАУСТЕР А/М №9_ТР-Р ТМ-6300-10/6 ЭКСГ. №9', datetime_start=Timestamp('2019-06-21 13:55:58'), datetime_end=Timestamp('2021-05-26 15:59:58')), SkipData(colname='Y_ЭКСГАУСТЕР А/М №9_ТР-Р ТМ-6300-10/6 ЭКСГ. №9', datetime_start=Timestamp('2019-06-21 15:59:58'), datetime_end=Timestamp('2021-05-26 15:59:58'))]}\n"
     ]
    }
   ],
   "source": [
    "from dataclasses import dataclass\n",
    "from typing import Optional\n",
    "\n",
    "@dataclass\n",
    "class SkipData:\n",
    "    colname: str\n",
    "    datetime_start: pd.Timestamp\n",
    "    datetime_end: Optional[pd.Timestamp]\n",
    "\n",
    "skipdata_m3_for_exgausters = {4: [], 5: [], 6: [], 7: [], 8: [], 9: []}\n",
    "\n",
    "\n",
    "\n",
    "for index, row in filtered_messages.iterrows():\n",
    "    colname = 'Y_' + row['ИМЯ_МАШИНЫ'] + '_' + row['НАЗВАНИЕ_ТЕХ_МЕСТА']\n",
    "    exgauster_num = int(row['ИМЯ_МАШИНЫ'][-1])\n",
    "    datetime_start = row['ДАТА_НАЧАЛА_НЕИСПРАВНОСТИ']\n",
    "    skipdata_m3_for_exgausters[exgauster_num].append(SkipData(colname=colname, datetime_start=datetime_start, datetime_end=None))\n",
    "\n",
    "for index, row in good_messages1.iterrows():\n",
    "    colname = 'Y_' + row['ИМЯ_МАШИНЫ'] + '_' + row['НАЗВАНИЕ_ТЕХ_МЕСТА']\n",
    "    exgauster_num = int(row['ИМЯ_МАШИНЫ'][-1])\n",
    "    datetime_start = row['ДАТА_НАЧАЛА_НЕИСПРАВНОСТИ']\n",
    "    datetime_end = row['ДАТА_УСТРАНЕНИЯ_НЕИСПРАВНОСТИ']\n",
    "    skipdata_m3_for_exgausters[exgauster_num].append(SkipData(colname=colname, datetime_start=datetime_start, datetime_end=datetime_end))\n",
    "\n",
    "\n",
    "\n",
    "    # print('Y_' + item in tech_mests)\n",
    "print(skipdata_m3_for_exgausters)"
   ],
   "metadata": {
    "collapsed": false,
    "pycharm": {
     "name": "#%%\n"
    }
   }
  },
  {
   "cell_type": "code",
   "execution_count": null,
   "outputs": [],
   "source": [
    "colname, exgauster_num, datetime_start"
   ],
   "metadata": {
    "collapsed": false,
    "pycharm": {
     "name": "#%%\n"
    }
   }
  },
  {
   "cell_type": "code",
   "execution_count": null,
   "outputs": [],
   "source": [
    "label = [item for item in exgausters_data[4].y.m3 if item.colname == colname][0]"
   ],
   "metadata": {
    "collapsed": false,
    "pycharm": {
     "name": "#%%\n"
    }
   }
  },
  {
   "cell_type": "code",
   "execution_count": null,
   "outputs": [],
   "source": [
    "label.labels[datetime_start:] = 0"
   ],
   "metadata": {
    "collapsed": false,
    "pycharm": {
     "name": "#%%\n"
    }
   }
  },
  {
   "cell_type": "code",
   "execution_count": null,
   "outputs": [],
   "source": [
    "label"
   ],
   "metadata": {
    "collapsed": false,
    "pycharm": {
     "name": "#%%\n"
    }
   }
  },
  {
   "cell_type": "code",
   "execution_count": null,
   "outputs": [],
   "source": [
    "tech_mests_df.to_excel('tech_mests.xlsx')\n"
   ],
   "metadata": {
    "collapsed": false,
    "pycharm": {
     "name": "#%%\n"
    }
   }
  },
  {
   "cell_type": "code",
   "execution_count": null,
   "outputs": [],
   "source": [
    "filtered_messages['ДАТА_НАЧАЛА_НЕИСПРАВНОСТИ']\n",
    "# pd.to_datetime(filtered_messages['ДАТА_НАЧАЛА_НЕИСПРАВНОСТИ'])\n"
   ],
   "metadata": {
    "collapsed": false,
    "pycharm": {
     "name": "#%%\n"
    }
   }
  }
 ],
 "metadata": {
  "kernelspec": {
   "display_name": "Python 3",
   "language": "python",
   "name": "python3"
  },
  "language_info": {
   "codemirror_mode": {
    "name": "ipython",
    "version": 2
   },
   "file_extension": ".py",
   "mimetype": "text/x-python",
   "name": "python",
   "nbconvert_exporter": "python",
   "pygments_lexer": "ipython2",
   "version": "2.7.6"
  }
 },
 "nbformat": 4,
 "nbformat_minor": 0
}